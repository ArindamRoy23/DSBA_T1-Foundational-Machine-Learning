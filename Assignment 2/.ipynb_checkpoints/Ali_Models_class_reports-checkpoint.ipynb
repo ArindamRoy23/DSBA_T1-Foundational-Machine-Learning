{
 "cells": [
  {
   "cell_type": "code",
   "execution_count": 14,
   "metadata": {
    "id": "hbaNI4W75JGC"
   },
   "outputs": [],
   "source": [
    "X_train, X_test, y_train, y_test = train_test_split(\n",
    "    data.drop(['hospital_death'],axis = 1), data['hospital_death'], test_size=0.2, random_state=42)"
   ]
  },
  {
   "cell_type": "markdown",
   "metadata": {
    "id": "JyS0mop3P5zF"
   },
   "source": [
    "NAJEM MODELS ALL TEST SET"
   ]
  },
  {
   "cell_type": "code",
   "execution_count": 36,
   "metadata": {
    "colab": {
     "base_uri": "https://localhost:8080/"
    },
    "id": "BoGnN6FQ6QaL",
    "outputId": "e5deaa25-e33f-4ed4-c8d5-3a317a877323"
   },
   "outputs": [
    {
     "name": "stdout",
     "output_type": "stream",
     "text": [
      "[[16556   200]\n",
      " [ 1124   463]]\n",
      "Acuracy of the xgboost0.9278198767922369\n",
      "              precision    recall  f1-score   support\n",
      "\n",
      "         0.0       0.94      0.99      0.96     16756\n",
      "         1.0       0.70      0.29      0.41      1587\n",
      "\n",
      "    accuracy                           0.93     18343\n",
      "   macro avg       0.82      0.64      0.69     18343\n",
      "weighted avg       0.92      0.93      0.91     18343\n",
      "\n"
     ]
    }
   ],
   "source": [
    "# XGB \n",
    "\n",
    "model = xgb.XGBRegressor(seed = 20, objective = 'multi:softmax', \n",
    "           max_depth = 6,\n",
    "           learning_rate = 0.1,\n",
    "           subsample = 0.7,\n",
    "           colsample_bytree = 0.2,\n",
    "           colsample_bylevel = 0.5,\n",
    "           n_estimators = 100, num_class = 2)\n",
    "\n",
    "model.fit(X_train,y_train)\n",
    "pred = model.predict(X_test)\n",
    "print(confusion_matrix(y_test, pred))\n",
    "print(f'Acuracy of the xgboost{accuracy_score(y_test, pred)}')\n",
    "print(classification_report(y_test, pred))"
   ]
  },
  {
   "cell_type": "code",
   "execution_count": 42,
   "metadata": {
    "colab": {
     "base_uri": "https://localhost:8080/"
    },
    "id": "2LDrCMLN4p9l",
    "outputId": "da509fec-7b3e-4c39-a83f-f09c3a7df430"
   },
   "outputs": [
    {
     "name": "stdout",
     "output_type": "stream",
     "text": [
      "[[16611   145]\n",
      " [ 1267   320]]\n",
      "Accuracy of the xgboost: 0.9230224063675516\n",
      "              precision    recall  f1-score   support\n",
      "\n",
      "         0.0       0.93      0.99      0.96     16756\n",
      "         1.0       0.69      0.20      0.31      1587\n",
      "\n",
      "    accuracy                           0.92     18343\n",
      "   macro avg       0.81      0.60      0.64     18343\n",
      "weighted avg       0.91      0.92      0.90     18343\n",
      "\n"
     ]
    }
   ],
   "source": [
    "#XGB PCA\n",
    "\n",
    "# Split the data into train and test sets\n",
    "X_train, X_test, y_train, y_test = train_test_split(data.drop(['hospital_death'],axis = 1), data['hospital_death'], test_size=0.2, random_state=42)\n",
    "\n",
    "# Apply PCA with an explained_variance ratio of 0.7\n",
    "pca = PCA(n_components = 0.7)\n",
    "X_train = pca.fit_transform(X_train)\n",
    "X_test = pca.transform(X_test)\n",
    "\n",
    "# Create the XGBoost model\n",
    "model = xgb.XGBRegressor(seed = 20, objective = 'multi:softmax', \n",
    "           max_depth = 6,\n",
    "           learning_rate = 0.1,\n",
    "           subsample = 0.7,\n",
    "           colsample_bytree = 0.2,\n",
    "           colsample_bylevel = 0.5,\n",
    "           n_estimators = 100, num_class = 2)\n",
    "\n",
    "# Fit the model to the training data\n",
    "model.fit(X_train, y_train)\n",
    "\n",
    "# Make predictions on the test data\n",
    "pred = model.predict(X_test)\n",
    "\n",
    "# Evaluate the model's performance\n",
    "print(confusion_matrix(y_test, pred))\n",
    "print(f'Accuracy of the xgboost: {accuracy_score(y_test, pred)}')\n",
    "print(classification_report(y_test, pred))\n"
   ]
  },
  {
   "cell_type": "code",
   "execution_count": 51,
   "metadata": {
    "colab": {
     "base_uri": "https://localhost:8080/"
    },
    "id": "8VOlxOes8I7U",
    "outputId": "fbe5d67f-4c3c-4fd9-aef9-0b9ca676d415"
   },
   "outputs": [
    {
     "name": "stdout",
     "output_type": "stream",
     "text": [
      "[[16561   195]\n",
      " [ 1239   348]]\n",
      "Accuracy of the xgboost: 0.9218230387613804\n",
      "              precision    recall  f1-score   support\n",
      "\n",
      "         0.0       0.93      0.99      0.96     16756\n",
      "         1.0       0.64      0.22      0.33      1587\n",
      "\n",
      "    accuracy                           0.92     18343\n",
      "   macro avg       0.79      0.60      0.64     18343\n",
      "weighted avg       0.91      0.92      0.90     18343\n",
      "\n"
     ]
    }
   ],
   "source": [
    "# XGB LDA\n",
    "\n",
    "# Split the data into train and test sets\n",
    "X_train, X_test, y_train, y_test = train_test_split(data.drop(['hospital_death'],axis = 1), data['hospital_death'], test_size=0.2, random_state=42)\n",
    "\n",
    "# Apply LDA\n",
    "lda = LDA()\n",
    "X_train = lda.fit_transform(X_train, y_train)\n",
    "X_test = lda.transform(X_test)\n",
    "\n",
    "# Create the XGBoost model\n",
    "model = xgb.XGBRegressor(seed = 20, objective = 'multi:softmax', \n",
    "           max_depth = 6,\n",
    "           learning_rate = 0.1,\n",
    "           subsample = 0.6,\n",
    "           colsample_bytree = 0.3,\n",
    "           colsample_bylevel = 0.5,\n",
    "           n_estimators = 100, num_class = 2)\n",
    "\n",
    "# Fit the model to the training data\n",
    "model.fit(X_train, y_train)\n",
    "\n",
    "# Make predictions on the test data\n",
    "\n",
    "pred = model.predict(X_test)\n",
    "\n",
    "# Evaluate the model's performance\n",
    "print(confusion_matrix(y_test, pred))\n",
    "print(f'Accuracy of the xgboost: {accuracy_score(y_test, pred)}')\n",
    "print(classification_report(y_test, pred))\n",
    "\n"
   ]
  },
  {
   "cell_type": "code",
   "execution_count": 23,
   "metadata": {
    "colab": {
     "base_uri": "https://localhost:8080/"
    },
    "id": "wbYyLyhqVrSm",
    "outputId": "8cd9af7a-2a4e-4b18-9bd1-d4fac48bfe71"
   },
   "outputs": [
    {
     "name": "stdout",
     "output_type": "stream",
     "text": [
      "[[10607  2787]\n",
      " [  476   830]]\n",
      "Accuracy of the BernoulliNB: 0.7780272108843538\n",
      "              precision    recall  f1-score   support\n",
      "\n",
      "         0.0       0.96      0.79      0.87     13394\n",
      "         1.0       0.23      0.64      0.34      1306\n",
      "\n",
      "    accuracy                           0.78     14700\n",
      "   macro avg       0.59      0.71      0.60     14700\n",
      "weighted avg       0.89      0.78      0.82     14700\n",
      "\n"
     ]
    }
   ],
   "source": [
    "#BernoulliNB\n",
    "from sklearn.naive_bayes import BernoulliNB\n",
    "X_train, X_test, y_train, y_test = train_test_split(data.drop(['hospital_death'],axis = 1), data['hospital_death'], test_size=0.2, random_state=42)\n",
    "\n",
    "# Initialize the model\n",
    "bnb = BernoulliNB()\n",
    "\n",
    "bnb.fit(X_train, y_train)\n",
    "\n",
    "pred = bnb.predict(X_test)\n",
    "\n",
    "# Evaluate the model's performance\n",
    "print(confusion_matrix(y_test, pred))\n",
    "print(f'Accuracy of the BernoulliNB: {accuracy_score(y_test, pred)}')\n",
    "print(classification_report(y_test, pred))\n"
   ]
  },
  {
   "cell_type": "code",
   "execution_count": 28,
   "metadata": {
    "colab": {
     "base_uri": "https://localhost:8080/"
    },
    "id": "AnYWfbEQxnnX",
    "outputId": "891b5b6f-7419-4f2d-8fa0-9af38ec1de1d"
   },
   "outputs": [
    {
     "name": "stdout",
     "output_type": "stream",
     "text": [
      "[[13394     0]\n",
      " [ 1306     0]]\n",
      "Accuracy of the BernoulliNB: 0.911156462585034\n",
      "              precision    recall  f1-score   support\n",
      "\n",
      "         0.0       0.91      1.00      0.95     13394\n",
      "         1.0       0.00      0.00      0.00      1306\n",
      "\n",
      "    accuracy                           0.91     14700\n",
      "   macro avg       0.46      0.50      0.48     14700\n",
      "weighted avg       0.83      0.91      0.87     14700\n",
      "\n"
     ]
    },
    {
     "name": "stderr",
     "output_type": "stream",
     "text": [
      "/usr/local/lib/python3.8/dist-packages/sklearn/metrics/_classification.py:1318: UndefinedMetricWarning: Precision and F-score are ill-defined and being set to 0.0 in labels with no predicted samples. Use `zero_division` parameter to control this behavior.\n",
      "  _warn_prf(average, modifier, msg_start, len(result))\n",
      "/usr/local/lib/python3.8/dist-packages/sklearn/metrics/_classification.py:1318: UndefinedMetricWarning: Precision and F-score are ill-defined and being set to 0.0 in labels with no predicted samples. Use `zero_division` parameter to control this behavior.\n",
      "  _warn_prf(average, modifier, msg_start, len(result))\n",
      "/usr/local/lib/python3.8/dist-packages/sklearn/metrics/_classification.py:1318: UndefinedMetricWarning: Precision and F-score are ill-defined and being set to 0.0 in labels with no predicted samples. Use `zero_division` parameter to control this behavior.\n",
      "  _warn_prf(average, modifier, msg_start, len(result))\n"
     ]
    }
   ],
   "source": [
    "#BernoulliNB PCA\n",
    "\n",
    "from sklearn.naive_bayes import BernoulliNB\n",
    "from sklearn.decomposition import PCA\n",
    "from sklearn.metrics import confusion_matrix, classification_report, accuracy_score\n",
    "\n",
    "X_train, X_test, y_train, y_test = train_test_split(data.drop(['hospital_death'],axis = 1), data['hospital_death'], test_size=0.2, random_state=42)\n",
    "\n",
    "# Apply PCA\n",
    "pca = PCA(n_components=0.7)\n",
    "X_train = pca.fit_transform(X_train)\n",
    "X_test = pca.transform(X_test)\n",
    "\n",
    "# Initialize the model\n",
    "bnb = BernoulliNB()\n",
    "\n",
    "# Fit the model to the data\n",
    "bnb.fit(X_train, y_train)\n",
    "\n",
    "# Make predictions\n",
    "pred = bnb.predict(X_test)\n",
    "\n",
    "# Evaluate the model's performance\n",
    "print(confusion_matrix(y_test, pred))\n",
    "print(f'Accuracy of the BernoulliNB: {accuracy_score(y_test, pred)}')\n",
    "print(classification_report(y_test, pred))\n",
    "\n"
   ]
  },
  {
   "cell_type": "code",
   "execution_count": 21,
   "metadata": {
    "colab": {
     "base_uri": "https://localhost:8080/"
    },
    "id": "YjUjTewu0peT",
    "outputId": "8e2802fa-ef27-47f0-90d0-60a53adfd2f3"
   },
   "outputs": [
    {
     "name": "stdout",
     "output_type": "stream",
     "text": [
      "[[13394     0]\n",
      " [ 1306     0]]\n",
      "Accuracy of the BernoulliNB: 0.911156462585034\n",
      "              precision    recall  f1-score   support\n",
      "\n",
      "         0.0       0.91      1.00      0.95     13394\n",
      "         1.0       0.00      0.00      0.00      1306\n",
      "\n",
      "    accuracy                           0.91     14700\n",
      "   macro avg       0.46      0.50      0.48     14700\n",
      "weighted avg       0.83      0.91      0.87     14700\n",
      "\n"
     ]
    },
    {
     "name": "stderr",
     "output_type": "stream",
     "text": [
      "/usr/local/lib/python3.8/dist-packages/sklearn/metrics/_classification.py:1318: UndefinedMetricWarning: Precision and F-score are ill-defined and being set to 0.0 in labels with no predicted samples. Use `zero_division` parameter to control this behavior.\n",
      "  _warn_prf(average, modifier, msg_start, len(result))\n",
      "/usr/local/lib/python3.8/dist-packages/sklearn/metrics/_classification.py:1318: UndefinedMetricWarning: Precision and F-score are ill-defined and being set to 0.0 in labels with no predicted samples. Use `zero_division` parameter to control this behavior.\n",
      "  _warn_prf(average, modifier, msg_start, len(result))\n",
      "/usr/local/lib/python3.8/dist-packages/sklearn/metrics/_classification.py:1318: UndefinedMetricWarning: Precision and F-score are ill-defined and being set to 0.0 in labels with no predicted samples. Use `zero_division` parameter to control this behavior.\n",
      "  _warn_prf(average, modifier, msg_start, len(result))\n"
     ]
    }
   ],
   "source": [
    "# BernoulliNB LDA\n",
    "from sklearn.discriminant_analysis import LinearDiscriminantAnalysis as LDA\n",
    "from sklearn.metrics import confusion_matrix, classification_report, accuracy_score\n",
    "\n",
    "X_train, X_test, y_train, y_test = train_test_split(data.drop(['hospital_death'],axis = 1), data['hospital_death'], test_size=0.2, random_state=42)\n",
    "\n",
    "# Apply LDA\n",
    "lda = LDA(n_components=1)\n",
    "X_train = lda.fit_transform(X_train, y_train)\n",
    "X_test = lda.transform(X_test)\n",
    "\n",
    "# Initialize the model\n",
    "bnb = BernoulliNB(alpha = [1.0],\n",
    "              fit_prior = [True],\n",
    "              binarize = [1.0])\n",
    "\n",
    "# Fit the model to the data\n",
    "bnb.fit(X_train, y_train)\n",
    "\n",
    "# Make predictions\n",
    "pred = bnb.predict(X_test)\n",
    "\n",
    "# Evaluate the model's performance\n",
    "print(confusion_matrix(y_test, pred))\n",
    "print(f'Accuracy of the BernoulliNB: {accuracy_score(y_test, pred)}')\n",
    "print(classification_report(y_test, pred))\n"
   ]
  },
  {
   "cell_type": "code",
   "execution_count": 29,
   "metadata": {
    "colab": {
     "base_uri": "https://localhost:8080/"
    },
    "id": "5qHqW9ES3iA9",
    "outputId": "1ef07258-2746-4c9f-c8ad-e21fcded8a18"
   },
   "outputs": [
    {
     "name": "stdout",
     "output_type": "stream",
     "text": [
      "Accuracy: 0.9292517006802721\n",
      "[[13242   152]\n",
      " [  888   418]]\n",
      "[[13242   152]\n",
      " [  888   418]]\n",
      "Accuracy of the LGBMClassifier: 0.9292517006802721\n",
      "              precision    recall  f1-score   support\n",
      "\n",
      "         0.0       0.94      0.99      0.96     13394\n",
      "         1.0       0.73      0.32      0.45      1306\n",
      "\n",
      "    accuracy                           0.93     14700\n",
      "   macro avg       0.84      0.65      0.70     14700\n",
      "weighted avg       0.92      0.93      0.92     14700\n",
      "\n"
     ]
    }
   ],
   "source": [
    "# lightgbm \n",
    "from sklearn.model_selection import train_test_split\n",
    "# Splitting the data into training and test sets\n",
    "X_train, X_test, y_train, y_test = train_test_split(data.drop(['hospital_death'],axis = 1), data['hospital_death'], test_size=0.2, random_state=42)\n",
    "\n",
    "# Initialize the model with the specified parameters\n",
    "lgbm = LGBMClassifier(learning_rate=0.01, n_estimators=1000, max_depth=9)\n",
    "\n",
    "# Fit the model to the training data\n",
    "lgbm.fit(X_train, y_train)\n",
    "\n",
    "# Make predictions on the test data\n",
    "pred = lgbm.predict(X_test)\n",
    "\n",
    "\n",
    "# Evaluate the model's performance\n",
    "print(confusion_matrix(y_test, pred))\n",
    "print(f'Accuracy of the LGBMClassifier: {accuracy_score(y_test, pred)}')\n",
    "print(classification_report(y_test, pred))\n"
   ]
  },
  {
   "cell_type": "code",
   "execution_count": 30,
   "metadata": {
    "colab": {
     "base_uri": "https://localhost:8080/"
    },
    "id": "La-_WJCNHggV",
    "outputId": "eb7fa8ce-48ea-4980-e86c-8624d6b5462a"
   },
   "outputs": [
    {
     "name": "stdout",
     "output_type": "stream",
     "text": [
      "[[13247   147]\n",
      " [  973   333]]\n",
      "Accuracy of the LGBMClassifier: 0.9238095238095239\n",
      "              precision    recall  f1-score   support\n",
      "\n",
      "         0.0       0.93      0.99      0.96     13394\n",
      "         1.0       0.69      0.25      0.37      1306\n",
      "\n",
      "    accuracy                           0.92     14700\n",
      "   macro avg       0.81      0.62      0.67     14700\n",
      "weighted avg       0.91      0.92      0.91     14700\n",
      "\n"
     ]
    }
   ],
   "source": [
    "##lightgbm PCA\n",
    "from sklearn.decomposition import PCA\n",
    "from sklearn.metrics import confusion_matrix, classification_report, accuracy_score\n",
    "from lightgbm import LGBMClassifier\n",
    "\n",
    "X_train, X_test, y_train, y_test = train_test_split(data.drop(['hospital_death'],axis = 1), data['hospital_death'], test_size=0.2, random_state=42)\n",
    "\n",
    "# Apply PCA\n",
    "pca = PCA(n_components=0.7)\n",
    "X_train = pca.fit_transform(X_train)\n",
    "X_test = pca.transform(X_test)\n",
    "\n",
    "# Initialize the model\n",
    "lgbm = LGBMClassifier(learning_rate=0.01, n_estimators=1000, max_depth=9)\n",
    "\n",
    "# Fit the model to the data\n",
    "lgbm.fit(X_train, y_train)\n",
    "\n",
    "# Make predictions\n",
    "pred = lgbm.predict(X_test)\n",
    "\n",
    "# Evaluate the model's performance\n",
    "print(confusion_matrix(y_test, pred))\n",
    "print(f'Accuracy of the LGBMClassifier: {accuracy_score(y_test, pred)}')\n",
    "print(classification_report(y_test, pred))\n"
   ]
  },
  {
   "cell_type": "code",
   "execution_count": 32,
   "metadata": {
    "colab": {
     "base_uri": "https://localhost:8080/"
    },
    "id": "gu8IDzs5Hi7G",
    "outputId": "5361566a-2496-4684-9560-e3a9746e4c2d"
   },
   "outputs": [
    {
     "name": "stdout",
     "output_type": "stream",
     "text": [
      "[[13249   145]\n",
      " [  996   310]]\n",
      "Accuracy of the LGBMClassifier: 0.9223809523809524\n",
      "              precision    recall  f1-score   support\n",
      "\n",
      "         0.0       0.93      0.99      0.96     13394\n",
      "         1.0       0.68      0.24      0.35      1306\n",
      "\n",
      "    accuracy                           0.92     14700\n",
      "   macro avg       0.81      0.61      0.66     14700\n",
      "weighted avg       0.91      0.92      0.90     14700\n",
      "\n"
     ]
    }
   ],
   "source": [
    "# lightgbm LDA\n",
    "from sklearn.discriminant_analysis import LinearDiscriminantAnalysis as LDA\n",
    "from sklearn.metrics import confusion_matrix, classification_report, accuracy_score\n",
    "from lightgbm import LGBMClassifier\n",
    "\n",
    "X_train, X_test, y_train, y_test = train_test_split(data.drop(['hospital_death'],axis = 1), data['hospital_death'], test_size=0.2, random_state=42)\n",
    "\n",
    "# Apply LDA\n",
    "lda = LDA(n_components=1)\n",
    "X_train = lda.fit_transform(X_train, y_train)\n",
    "X_test = lda.transform(X_test)\n",
    "\n",
    "# Initialize the model\n",
    "lgbm = LGBMClassifier(learning_rate=0.01, n_estimators=1000, max_depth=9)\n",
    "\n",
    "# Fit the model to the data\n",
    "lgbm.fit(X_train, y_train)\n",
    "\n",
    "# Make predictions\n",
    "pred = lgbm.predict(X_test)\n",
    "\n",
    "# Evaluate the model's performance\n",
    "print(confusion_matrix(y_test, pred))\n",
    "print(f'Accuracy of the LGBMClassifier: {accuracy_score(y_test, pred)}')\n",
    "print(classification_report(y_test, pred))\n"
   ]
  }
 ],
 "metadata": {
  "accelerator": "GPU",
  "colab": {
   "provenance": []
  },
  "gpuClass": "standard",
  "kernelspec": {
   "display_name": "Python 3 (ipykernel)",
   "language": "python",
   "name": "python3"
  },
  "language_info": {
   "codemirror_mode": {
    "name": "ipython",
    "version": 3
   },
   "file_extension": ".py",
   "mimetype": "text/x-python",
   "name": "python",
   "nbconvert_exporter": "python",
   "pygments_lexer": "ipython3",
   "version": "3.9.12"
  }
 },
 "nbformat": 4,
 "nbformat_minor": 1
}
