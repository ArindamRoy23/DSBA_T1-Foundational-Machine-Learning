{
 "cells": [
  {
   "cell_type": "code",
   "execution_count": 29,
   "id": "fc0b35e3",
   "metadata": {},
   "outputs": [],
   "source": [
    "import numpy as np\n",
    "import pandas as pd \n",
    "from sklearn.linear_model import LinearRegression\n",
    "from sklearn import preprocessing\n",
    "from sklearn.metrics import mean_squared_error\n",
    "from sklearn.model_selection import train_test_split\n",
    "from sklearn.preprocessing import PolynomialFeatures"
   ]
  },
  {
   "cell_type": "code",
   "execution_count": 17,
   "id": "f60d9397",
   "metadata": {},
   "outputs": [
    {
     "name": "stdout",
     "output_type": "stream",
     "text": [
      "star_rating\n",
      "1      4766\n",
      "2      1560\n",
      "3      3147\n",
      "4      9808\n",
      "5    129029\n",
      "Name: review_id, dtype: int64\n"
     ]
    },
    {
     "name": "stderr",
     "output_type": "stream",
     "text": [
      "C:\\Users\\arind\\AppData\\Local\\Temp\\ipykernel_976\\3782328521.py:4: SettingWithCopyWarning: \n",
      "A value is trying to be set on a copy of a slice from a DataFrame.\n",
      "Try using .loc[row_indexer,col_indexer] = value instead\n",
      "\n",
      "See the caveats in the documentation: https://pandas.pydata.org/pandas-docs/stable/user_guide/indexing.html#returning-a-view-versus-a-copy\n",
      "  X['review_body'] = X['review_body'].str.replace(\",\",\"\").replace(\".\",\"\")\n",
      "C:\\Users\\arind\\AppData\\Local\\Temp\\ipykernel_976\\3782328521.py:5: SettingWithCopyWarning: \n",
      "A value is trying to be set on a copy of a slice from a DataFrame.\n",
      "Try using .loc[row_indexer,col_indexer] = value instead\n",
      "\n",
      "See the caveats in the documentation: https://pandas.pydata.org/pandas-docs/stable/user_guide/indexing.html#returning-a-view-versus-a-copy\n",
      "  X['review_body'] = X['review_body'].str.len()\n",
      "C:\\Users\\arind\\AppData\\Local\\Temp\\ipykernel_976\\3782328521.py:8: SettingWithCopyWarning: \n",
      "A value is trying to be set on a copy of a slice from a DataFrame.\n",
      "Try using .loc[row_indexer,col_indexer] = value instead\n",
      "\n",
      "See the caveats in the documentation: https://pandas.pydata.org/pandas-docs/stable/user_guide/indexing.html#returning-a-view-versus-a-copy\n",
      "  X['verified_purchase'] = le.fit_transform(X['verified_purchase'])\n",
      "C:\\Users\\arind\\AppData\\Local\\Temp\\ipykernel_976\\3782328521.py:9: SettingWithCopyWarning: \n",
      "A value is trying to be set on a copy of a slice from a DataFrame.\n",
      "Try using .loc[row_indexer,col_indexer] = value instead\n",
      "\n",
      "See the caveats in the documentation: https://pandas.pydata.org/pandas-docs/stable/user_guide/indexing.html#returning-a-view-versus-a-copy\n",
      "  X['review_body'] = X['review_body'].fillna(0)\n"
     ]
    }
   ],
   "source": [
    "df = pd.read_csv('amazon_reviews_us_Gift_Card_v1_00.tsv.gz',sep='\\t')\n",
    "print(df.groupby('star_rating').review_id.nunique())\n",
    "X = df[['verified_purchase', 'review_body']]\n",
    "X['review_body'] = X['review_body'].str.replace(\",\",\"\").replace(\".\",\"\")\n",
    "X['review_body'] = X['review_body'].str.len()\n",
    "y = df[['star_rating']]\n",
    "le = preprocessing.LabelEncoder()\n",
    "X['verified_purchase'] = le.fit_transform(X['verified_purchase'])\n",
    "X['review_body'] = X['review_body'].fillna(0)"
   ]
  },
  {
   "cell_type": "code",
   "execution_count": 15,
   "id": "8ed654f9",
   "metadata": {},
   "outputs": [
    {
     "data": {
      "text/plain": [
       "5    129029\n",
       "4      9808\n",
       "1      4766\n",
       "3      3147\n",
       "2      1560\n",
       "Name: star_rating, dtype: int64"
      ]
     },
     "execution_count": 15,
     "metadata": {},
     "output_type": "execute_result"
    }
   ],
   "source": [
    "df.star_rating.value_counts()"
   ]
  },
  {
   "cell_type": "code",
   "execution_count": 3,
   "id": "918ffa4e",
   "metadata": {},
   "outputs": [
    {
     "name": "stdout",
     "output_type": "stream",
     "text": [
      "Score 0.053649629802208554\n",
      "Index(['verified_purchase', 'review_body'], dtype='object') Index(['star_rating'], dtype='object')\n",
      "coef [[ 0.04957239 -0.00125458]]\n",
      "intercept [4.84575288]\n"
     ]
    },
    {
     "data": {
      "text/plain": [
       "array(['N', 'Y'], dtype=object)"
      ]
     },
     "execution_count": 3,
     "metadata": {},
     "output_type": "execute_result"
    }
   ],
   "source": [
    "reg = LinearRegression().fit(X, y)\n",
    "print(\"Score\",reg.score(X, y))\n",
    "print(X.columns,y.columns )\n",
    "print(\"coef\",reg.coef_)\n",
    "print(\"intercept\",reg.intercept_)\n",
    "le.classes_"
   ]
  },
  {
   "cell_type": "code",
   "execution_count": 4,
   "id": "0b130418",
   "metadata": {},
   "outputs": [],
   "source": [
    "cutoff_num = int(max(df.index)*.9)\n",
    "X_train = X[:cutoff_num]\n",
    "X_test = X[cutoff_num+1:]\n",
    "y_train = y[:cutoff_num]\n",
    "y_test = y[cutoff_num+1:]"
   ]
  },
  {
   "cell_type": "code",
   "execution_count": 5,
   "id": "a4fc9b68",
   "metadata": {},
   "outputs": [
    {
     "name": "stdout",
     "output_type": "stream",
     "text": [
      "Score 0.059230603816467275\n",
      "Index(['verified_purchase', 'review_body'], dtype='object') Index(['star_rating'], dtype='object')\n",
      "coef [[ 0.23406569 -0.001361  ]]\n",
      "intercept [4.67215763]\n",
      "['N' 'Y']\n",
      "Test error:  0.9548822097627815\n",
      "Train error:  0.6210187088346878\n"
     ]
    }
   ],
   "source": [
    "reg = LinearRegression().fit(X_train, y_train)\n",
    "print(\"Score\",reg.score(X_train, y_train))\n",
    "print(X.columns,y.columns )\n",
    "print(\"coef\",reg.coef_)\n",
    "print(\"intercept\",reg.intercept_)\n",
    "print(le.classes_)\n",
    "pred = reg.predict(X_test)\n",
    "pred_train = reg.predict(X_train)\n",
    "# pred = [item for sublist in pred for item in sublist]\n",
    "print(\"Test error: \", mean_squared_error(y_test, pred))\n",
    "print(\"Train error: \", mean_squared_error(y_train, pred_train))"
   ]
  },
  {
   "cell_type": "code",
   "execution_count": 27,
   "id": "810d7d74",
   "metadata": {},
   "outputs": [
    {
     "name": "stderr",
     "output_type": "stream",
     "text": [
      "C:\\Users\\arind\\AppData\\Local\\Temp\\ipykernel_976\\2696967441.py:2: SettingWithCopyWarning: \n",
      "A value is trying to be set on a copy of a slice from a DataFrame.\n",
      "Try using .loc[row_indexer,col_indexer] = value instead\n",
      "\n",
      "See the caveats in the documentation: https://pandas.pydata.org/pandas-docs/stable/user_guide/indexing.html#returning-a-view-versus-a-copy\n",
      "  X['review_body'] = X['review_body'].str.replace(\",\",\"\").replace(\".\",\"\")\n",
      "C:\\Users\\arind\\AppData\\Local\\Temp\\ipykernel_976\\2696967441.py:3: SettingWithCopyWarning: \n",
      "A value is trying to be set on a copy of a slice from a DataFrame.\n",
      "Try using .loc[row_indexer,col_indexer] = value instead\n",
      "\n",
      "See the caveats in the documentation: https://pandas.pydata.org/pandas-docs/stable/user_guide/indexing.html#returning-a-view-versus-a-copy\n",
      "  X['review_body'] = X['review_body'].str.len()\n",
      "C:\\Users\\arind\\AppData\\Local\\Temp\\ipykernel_976\\2696967441.py:6: SettingWithCopyWarning: \n",
      "A value is trying to be set on a copy of a slice from a DataFrame.\n",
      "Try using .loc[row_indexer,col_indexer] = value instead\n",
      "\n",
      "See the caveats in the documentation: https://pandas.pydata.org/pandas-docs/stable/user_guide/indexing.html#returning-a-view-versus-a-copy\n",
      "  X['verified_purchase'] = le.fit_transform(X['verified_purchase'])\n",
      "C:\\Users\\arind\\AppData\\Local\\Temp\\ipykernel_976\\2696967441.py:7: SettingWithCopyWarning: \n",
      "A value is trying to be set on a copy of a slice from a DataFrame.\n",
      "Try using .loc[row_indexer,col_indexer] = value instead\n",
      "\n",
      "See the caveats in the documentation: https://pandas.pydata.org/pandas-docs/stable/user_guide/indexing.html#returning-a-view-versus-a-copy\n",
      "  X['review_body'] = X['review_body'].fillna(0)\n"
     ]
    },
    {
     "data": {
      "text/html": [
       "<div>\n",
       "<style scoped>\n",
       "    .dataframe tbody tr th:only-of-type {\n",
       "        vertical-align: middle;\n",
       "    }\n",
       "\n",
       "    .dataframe tbody tr th {\n",
       "        vertical-align: top;\n",
       "    }\n",
       "\n",
       "    .dataframe thead th {\n",
       "        text-align: right;\n",
       "    }\n",
       "</style>\n",
       "<table border=\"1\" class=\"dataframe\">\n",
       "  <thead>\n",
       "    <tr style=\"text-align: right;\">\n",
       "      <th></th>\n",
       "      <th>verified_purchase</th>\n",
       "      <th>helpful_votes</th>\n",
       "      <th>total_votes</th>\n",
       "      <th>review_body</th>\n",
       "    </tr>\n",
       "  </thead>\n",
       "  <tbody>\n",
       "    <tr>\n",
       "      <th>0</th>\n",
       "      <td>1</td>\n",
       "      <td>0</td>\n",
       "      <td>0</td>\n",
       "      <td>38.0</td>\n",
       "    </tr>\n",
       "    <tr>\n",
       "      <th>1</th>\n",
       "      <td>1</td>\n",
       "      <td>0</td>\n",
       "      <td>0</td>\n",
       "      <td>101.0</td>\n",
       "    </tr>\n",
       "    <tr>\n",
       "      <th>2</th>\n",
       "      <td>1</td>\n",
       "      <td>0</td>\n",
       "      <td>0</td>\n",
       "      <td>4.0</td>\n",
       "    </tr>\n",
       "    <tr>\n",
       "      <th>3</th>\n",
       "      <td>1</td>\n",
       "      <td>0</td>\n",
       "      <td>0</td>\n",
       "      <td>4.0</td>\n",
       "    </tr>\n",
       "    <tr>\n",
       "      <th>4</th>\n",
       "      <td>1</td>\n",
       "      <td>0</td>\n",
       "      <td>0</td>\n",
       "      <td>76.0</td>\n",
       "    </tr>\n",
       "  </tbody>\n",
       "</table>\n",
       "</div>"
      ],
      "text/plain": [
       "   verified_purchase  helpful_votes  total_votes  review_body\n",
       "0                  1              0            0         38.0\n",
       "1                  1              0            0        101.0\n",
       "2                  1              0            0          4.0\n",
       "3                  1              0            0          4.0\n",
       "4                  1              0            0         76.0"
      ]
     },
     "execution_count": 27,
     "metadata": {},
     "output_type": "execute_result"
    }
   ],
   "source": [
    "X = df[['verified_purchase', 'helpful_votes', 'total_votes', 'review_body']]\n",
    "X['review_body'] = X['review_body'].str.replace(\",\",\"\").replace(\".\",\"\")\n",
    "X['review_body'] = X['review_body'].str.len()\n",
    "y = df[['star_rating']]\n",
    "le = preprocessing.LabelEncoder()\n",
    "X['verified_purchase'] = le.fit_transform(X['verified_purchase'])\n",
    "X['review_body'] = X['review_body'].fillna(0)\n",
    "X.head()"
   ]
  },
  {
   "cell_type": "code",
   "execution_count": null,
   "id": "12c6963b",
   "metadata": {},
   "outputs": [],
   "source": [
    "X_train, X_test, y_train, y_test = train_test_split(X, y, test_size=0.1)"
   ]
  },
  {
   "cell_type": "code",
   "execution_count": null,
   "id": "3f5a07b5",
   "metadata": {},
   "outputs": [],
   "source": [
    "for i in range(2,5):\n",
    "    print(f\"******** Computing for poly{i}\")\n",
    "    poly = PolynomialFeatures(i)\n",
    "    X_train = poly.fit_transform(X_train)\n",
    "    reg = LinearRegression().fit(X_train, y_train)\n",
    "    print(\"Score\",reg.score(X_train, y_train))\n",
    "    print(X.columns,y.columns )\n",
    "    print(\"coef\",reg.coef_)\n",
    "    print(\"intercept\",reg.intercept_)\n",
    "    print(le.classes_)\n",
    "    X_test = poly.fit_transform(X_test)\n",
    "    pred = reg.predict(X_test)\n",
    "    pred_train = reg.predict(X_train)\n",
    "    # pred = [item for sublist in pred for item in sublist]\n",
    "    print(\"Test error: \", mean_squared_error(y_test, pred))\n",
    "    print(\"Train error: \", mean_squared_error(y_train, pred_train))"
   ]
  }
 ],
 "metadata": {
  "kernelspec": {
   "display_name": "Python 3 (ipykernel)",
   "language": "python",
   "name": "python3"
  },
  "language_info": {
   "codemirror_mode": {
    "name": "ipython",
    "version": 3
   },
   "file_extension": ".py",
   "mimetype": "text/x-python",
   "name": "python",
   "nbconvert_exporter": "python",
   "pygments_lexer": "ipython3",
   "version": "3.9.12"
  }
 },
 "nbformat": 4,
 "nbformat_minor": 5
}
