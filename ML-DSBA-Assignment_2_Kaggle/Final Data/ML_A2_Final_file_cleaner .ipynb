{
 "cells": [
  {
   "cell_type": "code",
   "execution_count": 171,
   "id": "11d85446",
   "metadata": {
    "id": "11d85446"
   },
   "outputs": [],
   "source": [
    "import numpy as np\n",
    "import pandas as pd\n",
    "from sklearn import preprocessing\n",
    "import datetime\n",
    "from datetime import datetime\n",
    "from sklearn.preprocessing import OneHotEncoder\n",
    "from sklearn import preprocessing"
   ]
  },
  {
   "cell_type": "code",
   "execution_count": 172,
   "id": "gB7lmi4aknSa",
   "metadata": {
    "id": "gB7lmi4aknSa"
   },
   "outputs": [],
   "source": [
    "def findd(df):\n",
    "    index = df.find(',')\n",
    "    if index == -1:\n",
    "        index = 0\n",
    "    else:\n",
    "        index = index+2\n",
    "    return index\n",
    "\n",
    "def finddd(df):\n",
    "    index1 = df.find('+')\n",
    "    index2 = df.find('-')\n",
    "    return max(index1, index2)\n",
    "\n",
    "def fin(df):\n",
    "    index = df.find(':')\n",
    "    return index\n",
    "\n",
    "def period(x):\n",
    "  if x<11:\n",
    "    return 'start'\n",
    "  elif x<21:\n",
    "    return 'middle'\n",
    "  else:\n",
    "    return 'end'\n",
    "\n",
    "def determining_week(x):\n",
    "  index = x.find('/')\n",
    "  hour = int(x[:index])\n",
    "  weekday = int(x[index+1:])\n",
    "  if hour >= 9 and hour < 17 and weekday != 0 and weekday != 6:\n",
    "    return 'weekday'\n",
    "  elif hour >= 9 and hour < 17 and (weekday == 0 or weekday == 6):\n",
    "    return 'weekend'\n",
    "  else:\n",
    "    return 'all week'\n",
    "\n",
    "def determining_day(x):\n",
    "  index = x.find('/')\n",
    "  hour = int(x[:index])\n",
    "  weekday = int(x[index+1:])\n",
    "  if hour >= 9 and hour < 17 and weekday != 0 and weekday != 6:\n",
    "    return 'working hours'\n",
    "  elif hour >= 9 and hour < 17 and (weekday == 0 or weekday == 6):\n",
    "    return 'weekend day'\n",
    "  elif hour >= 17 and hour <= 23:\n",
    "    return 'evening'\n",
    "  elif hour <= 5:\n",
    "    return 'night'\n",
    "  else:\n",
    "    return 'morning'\n",
    "\n",
    "def feature_engineering(train_df):\n",
    "\n",
    "  train_df['date'] = train_df['date'].apply(lambda x: x.replace(\"  \",\" \")) #some rows have extra space\n",
    "\n",
    "  train_df['day'] = train_df['date'].apply(lambda x: x[findd(x):findd(x)+2].replace(\" \", \"\"))\n",
    "  train_df['day'] = train_df['day'].apply(lambda x: '0'+x if len(x)==1 else x) # to be used for datetime\n",
    "\n",
    "  train_df['month'] = train_df['date'].apply(lambda x: x[findd(x)+2:findd(x)+6].replace(\" \", \"\"))\n",
    "\n",
    "  train_df['year'] = train_df['date'].apply(lambda x: x[findd(x)+6:findd(x)+11].replace(\" \", \"\"))\n",
    "\n",
    "  train_df['hour'] = train_df['date'].apply(lambda x: x[findd(x)+11:fin(x)].replace(\" \", \"\"))\n",
    "\n",
    "  train_df['minute'] = train_df['date'].apply(lambda x: x[fin(x)+1:fin(x)+3].replace(\" \", \"\"))\n",
    "\n",
    "  train_df['second'] = train_df['date'].apply(lambda x: x[fin(x)+4:fin(x)+6].replace(\" \", \"\"))\n",
    "\n",
    "  train_df['GMT'] = train_df['date'].apply(lambda x: x[finddd(x):].replace(\" \", \"\"))\n",
    "\n",
    "  return train_df\n",
    "\n",
    "def month_cleaner (x):\n",
    "    try:\n",
    "        x = datetime.strptime(x,'%b').strftime('%m')\n",
    "        return(x)\n",
    "    except:\n",
    "        return (-1)\n",
    "def week_day_cleaner (x):\n",
    "    try:\n",
    "        x = datetime.strptime(x, '%d-%b-%Y').strftime('%w')\n",
    "        return(x)\n",
    "    except:\n",
    "        return (0)\n",
    "    \n",
    "def hour_cleaner (x):\n",
    "    try:\n",
    "        if x < 12:\n",
    "            x = 'AM'  \n",
    "        else: x = 'PM'\n",
    "        return(x)\n",
    "    except:\n",
    "        return (0)\n",
    "def day_of_week_cleaner(x):\n",
    "    try:return(determining_week(x))\n",
    "    except:return(0)\n",
    "    \n",
    "def time_of_day_cleaner(x):\n",
    "    try:return(determining_day(x))\n",
    "    except:return(0)\n",
    "\n",
    "def feature_engineering_cleaning(train_df):\n",
    "    # Feature Engineering after cleaning:\n",
    "  # Example: maybe if promotion more images will be used than characters so proportion of char in body will be smaller\n",
    "\n",
    "  train_df['month_number'] = train_df['month'].apply(month_cleaner)\n",
    "  \n",
    "  train_df['weekday'] = (train_df['day'] +'-'+ train_df['month'] +'-'+ train_df['year']).apply(week_day_cleaner)\n",
    "  # Weekday as a decimal number, where 0 is Sunday and 6 is Saturday.\n",
    "\n",
    "  train_df['period_month'] = train_df['day'].astype(int).apply(lambda x: period(x))\n",
    "\n",
    "  train_df['period_time'] = train_df['hour'].astype(int).apply(hour_cleaner)\n",
    "\n",
    "  train_df['timezone'] = train_df['GMT'].apply(lambda x: x[:5]).apply(lambda x: '+0000' if len(x) != 5 else x).apply(lambda x: '+0000' if x == '-0000' else x)\n",
    "\n",
    "  train_df['time'] = train_df['hour'].astype('str') +'/'+ train_df['weekday'].astype('str')\n",
    "\n",
    "  train_df['day_of_week'] = train_df['time'].apply(day_of_week_cleaner)\n",
    "  train_df['time_of_day'] = train_df['time'].apply(time_of_day_cleaner)\n",
    "\n",
    "  train_df.drop('time',axis= 1, inplace=True)\n",
    "\n",
    "  train_df = data_cleaner(train_df)\n",
    "\n",
    "  train_df['chars_in_subject'] = train_df['chars_in_subject'].astype(int)\n",
    "  train_df['chars_in_body'] = train_df['chars_in_body'].astype(int)\n",
    "  train_df['hour'] = train_df['hour'].astype(int)\n",
    "  train_df['month_number'] = train_df['month_number'].astype(int)\n",
    "  train_df['weekday'] = train_df['weekday'].astype(int)\n",
    "\n",
    "\n",
    "  train_df['chars_in_subject_proportion'] = train_df['chars_in_subject'] / (train_df['chars_in_subject'] + train_df['chars_in_body'])\n",
    "  train_df['chars_in_body_proportion'] = train_df['chars_in_body'] / (train_df['chars_in_subject'] + train_df['chars_in_body'])\n",
    "\n",
    "  train_df['urls_images_proportion'] = (train_df['urls'] + train_df['images'])/ (train_df['chars_in_body'] + train_df['urls'] + train_df['images'])\n",
    "\n",
    "  train_df['urls_proportion_body'] = train_df['urls']/ (train_df['chars_in_body'] + 1)\n",
    "\n",
    "  train_df['images_proportion_body'] = train_df['images']/ (train_df['chars_in_body'] + 1)\n",
    "\n",
    "  train_df['chars_in_subject_proportion'] = train_df['chars_in_subject_proportion']\n",
    "\n",
    "  train_df['chars_in_body_proportion'] = train_df['chars_in_body_proportion']\n",
    "\n",
    "  train_df['urls_images_proportion'] = train_df['urls_images_proportion']\n",
    "\n",
    "  train_df['urls_proportion_body'] = train_df['urls_proportion_body']\n",
    "\n",
    "  train_df['images_proportion_body'] = train_df['images_proportion_body']\n",
    "\n",
    "  return train_df"
   ]
  },
  {
   "cell_type": "code",
   "execution_count": 173,
   "id": "17de6185",
   "metadata": {},
   "outputs": [
    {
     "data": {
      "text/plain": [
       "'AM'"
      ]
     },
     "execution_count": 173,
     "metadata": {},
     "output_type": "execute_result"
    }
   ],
   "source": [
    "hour_cleaner(10)"
   ]
  },
  {
   "cell_type": "code",
   "execution_count": 174,
   "id": "6c30e288",
   "metadata": {
    "id": "6c30e288"
   },
   "outputs": [],
   "source": [
    "train_df = pd.read_csv('train.csv')\n",
    "test_df = pd.read_csv('test.csv') "
   ]
  },
  {
   "cell_type": "code",
   "execution_count": 175,
   "id": "c8692567",
   "metadata": {
    "id": "c8692567"
   },
   "outputs": [],
   "source": [
    "def data_cleaner (df, chars_in_subject = train_df['chars_in_subject'].median() ):\n",
    "    \n",
    "    df['org'] = df['org'].fillna('org_undefinded')\n",
    "    df['tld'] = df['tld'].fillna('tld_undefinded')\n",
    "    df['mail_type'] = df['mail_type'].fillna('mail_type_undefinded').apply(lambda x:x.lower())\n",
    "    df['chars_in_subject'] = df['chars_in_subject'].fillna(chars_in_subject)\n",
    "    df.drop([ 'date', 'GMT', 'day', 'month', 'year', 'minute', 'second'],axis= 1, inplace=True)\n",
    "    return (df)\n",
    "\n",
    "def invert_str(x):\n",
    "    return(x[::-1])"
   ]
  },
  {
   "cell_type": "code",
   "execution_count": 176,
   "id": "e35f467a",
   "metadata": {
    "id": "e35f467a"
   },
   "outputs": [],
   "source": [
    "# One hot encoding the mail_type\n",
    "\n",
    "\n",
    "def ohe_mail_type (df):\n",
    "    unique_mail_types = df['mail_type'].apply(lambda x: x.split('/')).explode().unique()\n",
    "    for mt in unique_mail_types:\n",
    "        df[f'mail_type_{mt}'] = df['mail_type'].apply(lambda x: 1 if mt in x else 0)\n",
    "    df.drop('mail_type',axis =1,inplace = True)\n",
    "    return(df)\n",
    "\n",
    "\n",
    "def ohe_others(df):\n",
    "\n",
    "  unique_period_month = df['period_month'].unique()\n",
    "  for mt in unique_period_month:\n",
    "      df[f'period_month_{mt}'] = df['period_month'].apply(lambda x: 1 if mt in x else 0)\n",
    "  df.drop('period_month',axis= 1, inplace=True)\n",
    "\n",
    "  unique_period_time = df['period_time'].unique()\n",
    "  for mt in unique_period_time:\n",
    "      df[f'period_time_{mt}'] = df['period_time'].apply(lambda x: 1 if mt in x else 0)\n",
    "  df.drop('period_time',axis= 1, inplace=True)\n",
    "\n",
    "  unique_day_of_week = df['day_of_week'].unique()\n",
    "  for mt in unique_day_of_week:\n",
    "      df[f'day_of_week_{mt}'] = df['day_of_week'].apply(lambda x: 1 if mt in x else 0)\n",
    "  df.drop('day_of_week',axis= 1, inplace=True)\n",
    "\n",
    "  unique_time_of_day = df['time_of_day'].unique()\n",
    "  for mt in unique_time_of_day:\n",
    "      df[f'time_of_day_{mt}'] = df['time_of_day'].apply(lambda x: 1 if mt in x else 0)\n",
    "  df.drop('time_of_day',axis= 1, inplace=True)\n",
    "\n",
    "  return df"
   ]
  },
  {
   "cell_type": "code",
   "execution_count": 177,
   "id": "be5b23da",
   "metadata": {
    "id": "be5b23da"
   },
   "outputs": [],
   "source": [
    "# Splitting tld\n",
    "def tld_split(df):\n",
    "    df['tld'].apply(lambda x:x.split('.')[0]).unique()\n",
    "    df['tld_back'] = df['tld'].apply(lambda x: 'undefined_tld_back' if '.' not in x else invert_str(invert_str(x).split('.')[0].lower()))\n",
    "    df['tld_front'] = df['tld'].apply(lambda x: 'undefined_tld_front' if '.' not in x else x.split('.')[0].lower())\n",
    "    df.drop(['tld'], axis = 1, inplace = True)\n",
    "    top_10_tld_back = pd.DataFrame(df[['tld_back']].groupby('tld_back').size()).sort_values(0,ascending=False).head(20).index.tolist()\n",
    "    df['tld_back'] = df['tld_back'].apply(lambda x: x if x in top_10_tld_back else 'tld_back_Uncommon')\n",
    "    for bk in df['tld_back'].unique().tolist():\n",
    "        df[f'tld_back_{bk}'] = df['tld_back'].apply(lambda x: 1 if x == bk else 0 )\n",
    "    df.drop(['tld_back'], axis = 1, inplace = True)\n",
    "    return(df)"
   ]
  },
  {
   "cell_type": "code",
   "execution_count": 178,
   "id": "a8dc7570",
   "metadata": {},
   "outputs": [
    {
     "name": "stderr",
     "output_type": "stream",
     "text": [
      "C:\\Users\\arind\\AppData\\Local\\Temp\\ipykernel_35672\\1710371832.py:2: FutureWarning: The frame.append method is deprecated and will be removed from pandas in a future version. Use pandas.concat instead.\n",
      "  joint_df = train_df.append(test_df, ignore_index=False)\n"
     ]
    }
   ],
   "source": [
    "test_df['label'] = 'test_df'\n",
    "joint_df = train_df.append(test_df, ignore_index=False) "
   ]
  },
  {
   "cell_type": "code",
   "execution_count": 179,
   "id": "33bdb8fc",
   "metadata": {},
   "outputs": [
    {
     "name": "stdout",
     "output_type": "stream",
     "text": [
      "(114541, 14)\n",
      "(80176, 14)\n",
      "(34365, 14)\n"
     ]
    }
   ],
   "source": [
    "print(joint_df.shape)\n",
    "print(train_df.shape)\n",
    "print(test_df.shape)\n",
    "# train_df = "
   ]
  },
  {
   "cell_type": "code",
   "execution_count": null,
   "id": "3d78a895",
   "metadata": {
    "id": "3d78a895"
   },
   "outputs": [],
   "source": [
    "\n"
   ]
  },
  {
   "cell_type": "code",
   "execution_count": 180,
   "id": "-HsXxQtDk3hK",
   "metadata": {
    "id": "-HsXxQtDk3hK"
   },
   "outputs": [],
   "source": [
    "# train_df = feature_engineering(train_df)\n",
    "# train_df = train_df[train_df['year'] != '131']\n",
    "# train_df = train_df[train_df['month'] != '-MAR']\n",
    "# train_df = feature_engineering_cleaning(train_df)\n",
    "# train_df = ohe_mail_type(train_df)\n",
    "# train_df = ohe_others(train_df)\n",
    "# train_df = tld_split(train_df)"
   ]
  },
  {
   "cell_type": "code",
   "execution_count": 181,
   "id": "7bdea365",
   "metadata": {},
   "outputs": [],
   "source": [
    "joint_df = feature_engineering(joint_df)\n",
    "joint_df = feature_engineering_cleaning(joint_df)\n",
    "joint_df = ohe_mail_type(joint_df)\n",
    "joint_df = ohe_others(joint_df)\n",
    "joint_df = tld_split(joint_df)"
   ]
  },
  {
   "cell_type": "code",
   "execution_count": 182,
   "id": "2e142a62",
   "metadata": {},
   "outputs": [
    {
     "data": {
      "text/plain": [
       "0        0.000612\n",
       "1        0.034876\n",
       "2        0.001390\n",
       "3        0.000024\n",
       "4        0.020383\n",
       "           ...   \n",
       "34360    0.001502\n",
       "34361    0.002141\n",
       "34362    0.007620\n",
       "34363    0.014454\n",
       "34364    0.004410\n",
       "Name: chars_in_subject_proportion, Length: 114541, dtype: float64"
      ]
     },
     "execution_count": 182,
     "metadata": {},
     "output_type": "execute_result"
    }
   ],
   "source": [
    "# print(joint_df.columns)\n",
    "# joint_df.to_csv('joint_chk.csv')\n",
    "joint_df['chars_in_subject_proportion'] "
   ]
  },
  {
   "cell_type": "code",
   "execution_count": 183,
   "id": "863f58c3",
   "metadata": {
    "id": "863f58c3"
   },
   "outputs": [],
   "source": [
    "le_org = preprocessing.LabelEncoder()\n",
    "joint_df['timezone'] = le_org.fit_transform(joint_df['timezone'])"
   ]
  },
  {
   "cell_type": "code",
   "execution_count": 184,
   "id": "d2ffb9f4",
   "metadata": {
    "id": "d2ffb9f4"
   },
   "outputs": [],
   "source": [
    "# train_df['timezone'] = le_org.transform(train_df['timezone'])"
   ]
  },
  {
   "cell_type": "code",
   "execution_count": 185,
   "id": "abcfad86",
   "metadata": {
    "id": "abcfad86"
   },
   "outputs": [],
   "source": [
    "le_tldfront = preprocessing.LabelEncoder()\n",
    "joint_df['tld_front'] = le_tldfront.fit_transform(joint_df['tld_front'])"
   ]
  },
  {
   "cell_type": "code",
   "execution_count": 186,
   "id": "tSsBRxw8UN-d",
   "metadata": {
    "id": "tSsBRxw8UN-d"
   },
   "outputs": [],
   "source": [
    "right_df = pd.read_csv('final_label_probab_df.csv')\n",
    "joint_df = joint_df.merge(right_df, on='org', how='left', indicator=False)"
   ]
  },
  {
   "cell_type": "code",
   "execution_count": 187,
   "id": "bqX8OYTqZ7e6",
   "metadata": {
    "id": "bqX8OYTqZ7e6"
   },
   "outputs": [],
   "source": [
    "\n",
    "# test_df = feature_engineering(test_df)\n",
    "\n",
    "# # ONLY FOR TRAINING SET\n",
    "# # A date was 13 instead of 2013\n",
    "# test_df['year'] = test_df['year'].apply(lambda x: x[1:] if len(x)==5 else x)\n",
    "# test_df['month'] = test_df['month'].apply(lambda x: 'Mar' if len(x)!=3 else x)\n",
    "# test_df = feature_engineering_cleaning(test_df)"
   ]
  },
  {
   "cell_type": "code",
   "execution_count": 188,
   "id": "ij6Q-qhCPNTU",
   "metadata": {
    "id": "ij6Q-qhCPNTU"
   },
   "outputs": [],
   "source": [
    "# test_df = ohe_mail_type(test_df)\n",
    "# test_df = ohe_others(test_df)\n",
    "# test_df = tld_split(test_df)"
   ]
  },
  {
   "cell_type": "code",
   "execution_count": 189,
   "id": "TGf324U6R2HB",
   "metadata": {
    "id": "TGf324U6R2HB"
   },
   "outputs": [],
   "source": [
    "# le_org = preprocessing.LabelEncoder()\n",
    "# test_df['timezone'] = le_org.transform(test_df['timezone'])\n",
    "\n",
    "# le_tldfront = preprocessing.LabelEncoder()\n",
    "# test_df['tld_front'] = le_tldfront.transform(test_df['tld_front'])"
   ]
  },
  {
   "cell_type": "code",
   "execution_count": 190,
   "id": "nRI8NUvTScbE",
   "metadata": {
    "id": "nRI8NUvTScbE"
   },
   "outputs": [],
   "source": [
    "# right_df = pd.read_csv('final_label_probab_df.csv')\n",
    "# test_df = test_df.merge(right_df, on='org', how='left', indicator=False)"
   ]
  },
  {
   "cell_type": "code",
   "execution_count": 191,
   "id": "fe58ca28",
   "metadata": {},
   "outputs": [],
   "source": [
    "le_org = preprocessing.LabelEncoder()\n",
    "joint_df['org'] = le_tldfront.fit_transform(joint_df['org'])"
   ]
  },
  {
   "cell_type": "code",
   "execution_count": 193,
   "id": "8a665fe1",
   "metadata": {},
   "outputs": [
    {
     "data": {
      "text/html": [
       "<div>\n",
       "<style scoped>\n",
       "    .dataframe tbody tr th:only-of-type {\n",
       "        vertical-align: middle;\n",
       "    }\n",
       "\n",
       "    .dataframe tbody tr th {\n",
       "        vertical-align: top;\n",
       "    }\n",
       "\n",
       "    .dataframe thead th {\n",
       "        text-align: right;\n",
       "    }\n",
       "</style>\n",
       "<table border=\"1\" class=\"dataframe\">\n",
       "  <thead>\n",
       "    <tr style=\"text-align: right;\">\n",
       "      <th></th>\n",
       "      <th>dtype</th>\n",
       "    </tr>\n",
       "  </thead>\n",
       "  <tbody>\n",
       "    <tr>\n",
       "      <th>label</th>\n",
       "      <td>object</td>\n",
       "    </tr>\n",
       "  </tbody>\n",
       "</table>\n",
       "</div>"
      ],
      "text/plain": [
       "        dtype\n",
       "label  object"
      ]
     },
     "execution_count": 193,
     "metadata": {},
     "output_type": "execute_result"
    }
   ],
   "source": [
    "df_dtypes = joint_df.dtypes.to_frame('dtype')\n",
    "df_dtypes[df_dtypes['dtype'] == 'object']"
   ]
  },
  {
   "cell_type": "code",
   "execution_count": 194,
   "id": "c1aa43ce",
   "metadata": {},
   "outputs": [],
   "source": [
    "from sklearn.preprocessing import StandardScaler\n",
    "col_names = ['ccs', 'images', 'urls', 'chars_in_subject', 'chars_in_body', 'hour', 'month_number', 'weekday', 'timezone']\n",
    "features = joint_df[col_names]\n",
    "scaler = StandardScaler().fit(features.values)\n",
    "features = scaler.transform(features.values)\n",
    "joint_df[col_names] = features\n",
    "# scaler = StandardScaler()\n",
    "# joint_df[[]] = scaler.fit_transform(joint_df[['ccs', 'images', 'urls', 'chars_in_subject', 'chars_in_body', 'hour', 'month_number', 'weekday', 'timezone']])"
   ]
  },
  {
   "cell_type": "code",
   "execution_count": 195,
   "id": "d4fdf0ca",
   "metadata": {},
   "outputs": [
    {
     "name": "stdout",
     "output_type": "stream",
     "text": [
      "Unnamed: 0 80175\n",
      "org 1082\n",
      "ccs 54\n",
      "images 189\n",
      "urls 183\n",
      "chars_in_subject 16\n",
      "chars_in_body 38\n",
      "tld_front 238\n"
     ]
    }
   ],
   "source": [
    "for col in joint_df.drop('label',axis=1).columns:\n",
    "    if joint_df[col].astype('int').max()>5:\n",
    "        print(col,joint_df[col].astype('int').max())\n",
    "# joint_df"
   ]
  },
  {
   "cell_type": "code",
   "execution_count": 202,
   "id": "83cb24b5",
   "metadata": {},
   "outputs": [],
   "source": [
    "joint_df[joint_df['label'] == 'test_df'].drop('label',axis=1).to_csv('test_final_scaled.csv',index=False)\n",
    "joint_df[joint_df['label'] != 'test_df'].to_csv('train_final_scaled.csv',index=False)"
   ]
  },
  {
   "cell_type": "code",
   "execution_count": 201,
   "id": "12dc3a5e",
   "metadata": {},
   "outputs": [
    {
     "data": {
      "text/plain": [
       "(80176, 14)"
      ]
     },
     "execution_count": 201,
     "metadata": {},
     "output_type": "execute_result"
    }
   ],
   "source": [
    "train_df.shape"
   ]
  }
 ],
 "metadata": {
  "colab": {
   "provenance": []
  },
  "kernelspec": {
   "display_name": "Python 3 (ipykernel)",
   "language": "python",
   "name": "python3"
  },
  "language_info": {
   "codemirror_mode": {
    "name": "ipython",
    "version": 3
   },
   "file_extension": ".py",
   "mimetype": "text/x-python",
   "name": "python",
   "nbconvert_exporter": "python",
   "pygments_lexer": "ipython3",
   "version": "3.9.12"
  }
 },
 "nbformat": 4,
 "nbformat_minor": 5
}
