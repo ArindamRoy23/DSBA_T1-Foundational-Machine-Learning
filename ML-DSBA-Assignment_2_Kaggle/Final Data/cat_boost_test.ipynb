{
 "cells": [
  {
   "cell_type": "code",
   "execution_count": 1,
   "id": "7c41a951",
   "metadata": {},
   "outputs": [],
   "source": [
    "import pandas \n",
    "from keras.models import Sequential\n",
    "from keras.layers import Dense\n",
    "from keras.layers import Dropout\n",
    "from keras.wrappers.scikit_learn import KerasClassifier\n",
    "from keras.utils import np_utils\n",
    "from sklearn.model_selection import cross_val_score\n",
    "from sklearn.model_selection import KFold\n",
    "from sklearn.preprocessing import LabelEncoder\n",
    "from sklearn.pipeline import Pipeline\n",
    "import pandas as pd \n",
    "import numpy as np\n",
    "from datetime import datetime\n",
    "from sklearn import preprocessing\n",
    "from sklearn.model_selection import train_test_split\n",
    "from publicsuffix2 import get_public_suffix\n",
    "from sklearn.model_selection import train_test_split\n",
    "from sklearn.neighbors import KNeighborsClassifier\n",
    "from sklearn.metrics import accuracy_score, classification_report, confusion_matrix, precision_score, recall_score\n",
    "from sklearn.discriminant_analysis import LinearDiscriminantAnalysis as LDA\n",
    "from sklearn.model_selection import GridSearchCV\n",
    "from sklearn.decomposition import PCA\n",
    "from sklearn.preprocessing import StandardScaler\n",
    "from catboost import CatBoostClassifier\n",
    "from sklearn.linear_model import Lasso"
   ]
  },
  {
   "cell_type": "code",
   "execution_count": 2,
   "id": "9bd08846",
   "metadata": {},
   "outputs": [],
   "source": [
    "train_df = pd.read_csv('To_run_train.csv')\n",
    "test_df = pd.read_csv('To_run_test.csv')\n",
    "train_df.drop('Unnamed: 0',axis=1,inplace = True)\n",
    "test_df.drop('Unnamed: 0',axis=1,inplace = True)"
   ]
  },
  {
   "cell_type": "code",
   "execution_count": 3,
   "id": "af6f8cbd",
   "metadata": {},
   "outputs": [],
   "source": [
    "# train_df['work_hour'].unique()"
   ]
  },
  {
   "cell_type": "code",
   "execution_count": 4,
   "id": "d2f47aaf",
   "metadata": {},
   "outputs": [],
   "source": [
    "X_train, X_test, y_train, y_test = train_test_split(\n",
    "    train_df.drop('label',axis=1), pd.get_dummies(train_df.label), test_size=0.1, random_state=42)"
   ]
  },
  {
   "cell_type": "code",
   "execution_count": 5,
   "id": "345c3642",
   "metadata": {},
   "outputs": [
    {
     "name": "stdout",
     "output_type": "stream",
     "text": [
      "0:\tlearn: 1.7982381\ttotal: 672ms\tremaining: 8.74s\n",
      "1:\tlearn: 1.6150492\ttotal: 1.1s\tremaining: 6.61s\n",
      "2:\tlearn: 1.4790059\ttotal: 1.5s\tremaining: 5.52s\n",
      "3:\tlearn: 1.3723310\ttotal: 1.91s\tremaining: 4.78s\n",
      "4:\tlearn: 1.2881124\ttotal: 2.29s\tremaining: 4.13s\n",
      "5:\tlearn: 1.2189607\ttotal: 2.68s\tremaining: 3.57s\n",
      "6:\tlearn: 1.1595517\ttotal: 3.08s\tremaining: 3.08s\n",
      "7:\tlearn: 1.1082667\ttotal: 3.51s\tremaining: 2.63s\n",
      "8:\tlearn: 1.0646503\ttotal: 3.95s\tremaining: 2.19s\n",
      "9:\tlearn: 1.0260607\ttotal: 4.34s\tremaining: 1.74s\n",
      "10:\tlearn: 0.9940780\ttotal: 4.72s\tremaining: 1.29s\n",
      "11:\tlearn: 0.9659557\ttotal: 5.15s\tremaining: 859ms\n",
      "12:\tlearn: 0.9402549\ttotal: 5.55s\tremaining: 427ms\n",
      "13:\tlearn: 0.9172394\ttotal: 6.02s\tremaining: 0us\n"
     ]
    },
    {
     "data": {
      "text/plain": [
       "<catboost.core.CatBoostClassifier at 0x264d798ed90>"
      ]
     },
     "execution_count": 5,
     "metadata": {},
     "output_type": "execute_result"
    }
   ],
   "source": [
    "X_train, X_test, y_train, y_test = train_test_split(\n",
    "    train_df.drop('label',axis=1), train_df.label, test_size=0.1, random_state=42)\n",
    "model = CatBoostClassifier(iterations = 14, loss_function='MultiClass', depth=10, learning_rate = 0.1,\n",
    "                           l2_leaf_reg = 1, one_hot_max_size = 1000)\n",
    "\n",
    "model.fit(X_train, y_train)"
   ]
  },
  {
   "cell_type": "code",
   "execution_count": 6,
   "id": "715b4388",
   "metadata": {},
   "outputs": [
    {
     "name": "stdout",
     "output_type": "stream",
     "text": [
      "Acuracy of the CatBoost:0.5945372910950362\n"
     ]
    }
   ],
   "source": [
    "pred = model.predict(X_test)\n",
    "print(f'Acuracy of the CatBoost:{accuracy_score(y_test, pred)}')"
   ]
  },
  {
   "cell_type": "code",
   "execution_count": 7,
   "id": "64946a43",
   "metadata": {},
   "outputs": [
    {
     "name": "stdout",
     "output_type": "stream",
     "text": [
      "0:\tlearn: 1.7933576\ttotal: 622ms\tremaining: 8.09s\n",
      "1:\tlearn: 1.6098334\ttotal: 1.07s\tremaining: 6.44s\n",
      "2:\tlearn: 1.4747277\ttotal: 1.49s\tremaining: 5.46s\n",
      "3:\tlearn: 1.3703379\ttotal: 1.9s\tremaining: 4.74s\n",
      "4:\tlearn: 1.2871642\ttotal: 2.31s\tremaining: 4.16s\n",
      "5:\tlearn: 1.2186277\ttotal: 2.74s\tremaining: 3.65s\n",
      "6:\tlearn: 1.1594307\ttotal: 3.19s\tremaining: 3.19s\n",
      "7:\tlearn: 1.1082162\ttotal: 3.62s\tremaining: 2.72s\n",
      "8:\tlearn: 1.0638079\ttotal: 4.09s\tremaining: 2.27s\n",
      "9:\tlearn: 1.0258144\ttotal: 4.59s\tremaining: 1.84s\n",
      "10:\tlearn: 0.9939437\ttotal: 5.22s\tremaining: 1.42s\n",
      "11:\tlearn: 0.9653533\ttotal: 5.67s\tremaining: 945ms\n",
      "12:\tlearn: 0.9400867\ttotal: 6.11s\tremaining: 470ms\n",
      "13:\tlearn: 0.9168057\ttotal: 6.5s\tremaining: 0us\n"
     ]
    },
    {
     "data": {
      "text/plain": [
       "<catboost.core.CatBoostClassifier at 0x264e57c5850>"
      ]
     },
     "execution_count": 7,
     "metadata": {},
     "output_type": "execute_result"
    }
   ],
   "source": [
    "model = CatBoostClassifier(iterations = 14, loss_function='MultiClass', depth=10, learning_rate = 0.1,\n",
    "                           l2_leaf_reg = 1, one_hot_max_size = 1000)\n",
    "\n",
    "model.fit(train_df.drop('label', axis = 1), train_df.label)"
   ]
  },
  {
   "cell_type": "code",
   "execution_count": 67,
   "id": "e50acf25",
   "metadata": {},
   "outputs": [
    {
     "data": {
      "text/plain": [
       "array([[1],\n",
       "       [1],\n",
       "       [3],\n",
       "       ...,\n",
       "       [1],\n",
       "       [0],\n",
       "       [2]], dtype=int64)"
      ]
     },
     "execution_count": 67,
     "metadata": {},
     "output_type": "execute_result"
    }
   ],
   "source": []
  }
 ],
 "metadata": {
  "kernelspec": {
   "display_name": "Python 3 (ipykernel)",
   "language": "python",
   "name": "python3"
  },
  "language_info": {
   "codemirror_mode": {
    "name": "ipython",
    "version": 3
   },
   "file_extension": ".py",
   "mimetype": "text/x-python",
   "name": "python",
   "nbconvert_exporter": "python",
   "pygments_lexer": "ipython3",
   "version": "3.9.12"
  }
 },
 "nbformat": 4,
 "nbformat_minor": 5
}
