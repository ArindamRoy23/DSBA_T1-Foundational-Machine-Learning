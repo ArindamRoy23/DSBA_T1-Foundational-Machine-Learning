{
 "cells": [
  {
   "cell_type": "code",
   "execution_count": 92,
   "id": "49b4b2a3",
   "metadata": {},
   "outputs": [],
   "source": [
    "import numpy as np \n",
    "import pandas as pd \n",
    "from sklearn.model_selection import train_test_split"
   ]
  },
  {
   "cell_type": "code",
   "execution_count": 114,
   "id": "5e6ac053",
   "metadata": {},
   "outputs": [],
   "source": [
    "train_df = pd.read_csv(\"train_final_scaled.csv\")\n",
    "test_df = pd.read_csv(\"test_final_scaled.csv\")\n",
    "train_df.drop('Unnamed: 0',inplace=True,axis = 1)\n",
    "test_df.drop('Unnamed: 0',inplace=True,axis = 1)"
   ]
  },
  {
   "cell_type": "code",
   "execution_count": 115,
   "id": "477cfc79",
   "metadata": {},
   "outputs": [],
   "source": [
    "train_df.drop('org',axis = 1, inplace=True)\n",
    "test_df.drop('org', axis = 1, inplace=True)"
   ]
  },
  {
   "cell_type": "code",
   "execution_count": 109,
   "id": "fd1edc89",
   "metadata": {},
   "outputs": [],
   "source": [
    "\n",
    "import pandas \n",
    "from keras.models import Sequential\n",
    "from keras.layers import Dense\n",
    "from keras.layers import Dropout\n",
    "from keras.wrappers.scikit_learn import KerasClassifier\n",
    "from keras.utils import np_utils\n",
    "from sklearn.model_selection import cross_val_score\n",
    "from sklearn.model_selection import KFold\n",
    "from sklearn.preprocessing import LabelEncoder\n",
    "from sklearn.pipeline import Pipeline\n",
    "\n",
    "from tensorflow import keras\n",
    "from tensorflow.keras import layers\n",
    "from kerastuner.tuners import RandomSearch\n",
    "from keras.layers import Dense, Activation, Embedding, Flatten, LeakyReLU, BatchNormalization, Dropout\n",
    "from keras.wrappers.scikit_learn import KerasClassifier\n",
    "from sklearn.model_selection import GridSearchCV"
   ]
  },
  {
   "cell_type": "code",
   "execution_count": 100,
   "id": "caae2e63",
   "metadata": {},
   "outputs": [
    {
     "name": "stdout",
     "output_type": "stream",
     "text": [
      "Epoch 1/5\n",
      "7617/7617 [==============================] - 7s 860us/step - loss: 0.2122 - accuracy: 0.5416\n",
      "Epoch 2/5\n",
      "7617/7617 [==============================] - 7s 858us/step - loss: 0.1906 - accuracy: 0.5730\n",
      "Epoch 3/5\n",
      "7617/7617 [==============================] - 7s 859us/step - loss: 0.1867 - accuracy: 0.5781\n",
      "Epoch 4/5\n",
      "7617/7617 [==============================] - 7s 857us/step - loss: 0.1847 - accuracy: 0.5827\n",
      "Epoch 5/5\n",
      "7617/7617 [==============================] - 7s 857us/step - loss: 0.1837 - accuracy: 0.5857\n"
     ]
    },
    {
     "data": {
      "text/plain": [
       "<keras.callbacks.History at 0x2034a4d5e80>"
      ]
     },
     "execution_count": 100,
     "metadata": {},
     "output_type": "execute_result"
    }
   ],
   "source": [
    "model = Sequential()\n",
    "model.add(Dense(120, input_shape=(73,), activation='selu'))\n",
    "# model.add(Dense(64, activation='tanh'))\n",
    "# model.add(Dense(32, activation='relu'))\n",
    "# model.add(Dropout(0.3))\n",
    "model.add(Dense(60, activation='gelu'))\n",
    "model.add(Dense(30, activation='gelu'))\n",
    "\n",
    "# model.add(Dropout(.2))\n",
    "# model.add(Dense(64, activation='relu'))\n",
    "model.add(Dense(8, activation='sigmoid'))\n",
    "\n",
    "model.compile(loss='binary_crossentropy', optimizer='adam', metrics=['accuracy'])\n",
    "\n",
    "y = pd.get_dummies(train_df.label)\n",
    "X_train, X_test, y_train, y_test = train_test_split(\n",
    "    train_df.drop('label',axis=1), y, test_size=0.05, random_state=42)\n",
    "model.fit(X_train,y_train, epochs=5, batch_size=10)"
   ]
  },
  {
   "cell_type": "code",
   "execution_count": 76,
   "id": "a9fe5f82",
   "metadata": {},
   "outputs": [
    {
     "name": "stdout",
     "output_type": "stream",
     "text": [
      "Epoch 1/5\n",
      "7216/7216 [==============================] - 6s 719us/step - loss: 0.2188 - accuracy: 0.5383\n",
      "Epoch 2/5\n",
      "7216/7216 [==============================] - 5s 727us/step - loss: 0.1905 - accuracy: 0.5760\n",
      "Epoch 3/5\n",
      "7216/7216 [==============================] - 5s 725us/step - loss: 0.1862 - accuracy: 0.5812\n",
      "Epoch 4/5\n",
      "7216/7216 [==============================] - 5s 725us/step - loss: 0.1836 - accuracy: 0.5862\n",
      "Epoch 5/5\n",
      "7216/7216 [==============================] - 5s 726us/step - loss: 0.1824 - accuracy: 0.5871\n"
     ]
    },
    {
     "data": {
      "text/plain": [
       "<keras.callbacks.History at 0x2032b947070>"
      ]
     },
     "execution_count": 76,
     "metadata": {},
     "output_type": "execute_result"
    }
   ],
   "source": []
  },
  {
   "cell_type": "code",
   "execution_count": 116,
   "id": "be656269",
   "metadata": {},
   "outputs": [],
   "source": [
    "train_df.columns\n",
    "train_df = train_df[['ccs', 'bcced', 'images', 'urls', 'salutations', 'designation',\n",
    "       'chars_in_subject', 'chars_in_body', 'label', 'hour', 'month_number',\n",
    "       'weekday', 'timezone', 'chars_in_subject_proportion',\n",
    "       'chars_in_body_proportion', 'urls_images_proportion',\n",
    "       'urls_proportion_body', 'images_proportion_body', 'mail_type_multipart',\n",
    "       'mail_type_alternative', 'mail_type_text', 'mail_type_html',\n",
    "       'mail_type_mixed', 'mail_type_related', 'mail_type_plain',\n",
    "       'mail_type_mail_type_undefinded', 'mail_type_html ', 'mail_type_signed',\n",
    "       'mail_type_report', 'mail_type_calendar', 'mail_type_idm',\n",
    " 'label_1_probab', 'label_2_probab',\n",
    "       'label_3_probab', 'label_4_probab', 'label_5_probab', 'label_6_probab',\n",
    "       'label_7_probab']]"
   ]
  },
  {
   "cell_type": "code",
   "execution_count": 117,
   "id": "c47ec84a",
   "metadata": {},
   "outputs": [
    {
     "name": "stdout",
     "output_type": "stream",
     "text": [
      "Epoch 1/5\n",
      "7617/7617 [==============================] - 6s 758us/step - loss: 0.1947 - accuracy: 0.5716\n",
      "Epoch 2/5\n",
      "7617/7617 [==============================] - 6s 767us/step - loss: 0.1817 - accuracy: 0.5893\n",
      "Epoch 3/5\n",
      "7617/7617 [==============================] - 6s 771us/step - loss: 0.1790 - accuracy: 0.5900\n",
      "Epoch 4/5\n",
      "7617/7617 [==============================] - 6s 762us/step - loss: 0.1769 - accuracy: 0.5949\n",
      "Epoch 5/5\n",
      "7617/7617 [==============================] - 6s 755us/step - loss: 0.1756 - accuracy: 0.5951\n"
     ]
    },
    {
     "data": {
      "text/plain": [
       "<keras.callbacks.History at 0x203026733a0>"
      ]
     },
     "execution_count": 117,
     "metadata": {},
     "output_type": "execute_result"
    }
   ],
   "source": [
    "model = Sequential()\n",
    "model.add(Dense(74, input_shape=(37,), activation='relu'))\n",
    "# model.add(Dense(64, activation='tanh'))\n",
    "# model.add(Dense(32, activation='relu'))\n",
    "# model.add(Dropout(0.3))\n",
    "model.add(Dense(64, activation='relu'))\n",
    "# model.add(Dense(64, activation='relu'))\n",
    "model.add(Dense(8, activation='sigmoid'))\n",
    "\n",
    "model.compile(loss='binary_crossentropy', optimizer='adam', metrics=['accuracy'])\n",
    "\n",
    "y = pd.get_dummies(train_df.label)\n",
    "X_train, X_test, y_train, y_test = train_test_split(\n",
    "    train_df.drop('label',axis=1), y, test_size=0.05, random_state=42)\n",
    "model.fit(X_train,y_train, epochs=5, batch_size=10)"
   ]
  },
  {
   "cell_type": "code",
   "execution_count": 83,
   "id": "5a98f5ab",
   "metadata": {},
   "outputs": [],
   "source": [
    "test_df = test_df[['ccs', 'bcced', 'images', 'urls', 'salutations', 'designation',\n",
    "       'chars_in_subject', 'chars_in_body', 'hour', 'month_number',\n",
    "       'weekday', 'timezone', 'chars_in_subject_proportion',\n",
    "       'chars_in_body_proportion', 'urls_images_proportion',\n",
    "       'urls_proportion_body', 'images_proportion_body', 'mail_type_multipart',\n",
    "       'mail_type_alternative', 'mail_type_text', 'mail_type_html',\n",
    "       'mail_type_mixed', 'mail_type_related', 'mail_type_plain',\n",
    "       'mail_type_mail_type_undefinded', 'mail_type_html ', 'mail_type_signed',\n",
    "       'mail_type_report', 'mail_type_calendar', 'mail_type_idm',\n",
    " 'label_1_probab', 'label_2_probab',\n",
    "       'label_3_probab', 'label_4_probab', 'label_5_probab', 'label_6_probab',\n",
    "       'label_7_probab']]"
   ]
  },
  {
   "cell_type": "code",
   "execution_count": 84,
   "id": "13a64ab1",
   "metadata": {},
   "outputs": [
    {
     "name": "stdout",
     "output_type": "stream",
     "text": [
      "1074/1074 [==============================] - 1s 526us/step\n"
     ]
    }
   ],
   "source": [
    "a = model.predict(test_df)\n",
    "df_final = pd.DataFrame(a).idxmax(axis=1)\n",
    "# df_final.shape\n",
    "# df_final['ID'] = ind\n",
    "\n",
    "# df_final.head()\n",
    "df_final.to_csv('Submission/submission_6.csv')"
   ]
  },
  {
   "cell_type": "code",
   "execution_count": 110,
   "id": "4e641d86",
   "metadata": {},
   "outputs": [
    {
     "data": {
      "text/plain": [
       "Index(['ccs', 'bcced', 'images', 'urls', 'salutations', 'designation',\n",
       "       'chars_in_subject', 'chars_in_body', 'label', 'hour', 'month_number',\n",
       "       'weekday', 'timezone', 'chars_in_subject_proportion',\n",
       "       'chars_in_body_proportion', 'urls_images_proportion',\n",
       "       'urls_proportion_body', 'images_proportion_body', 'mail_type_multipart',\n",
       "       'mail_type_alternative', 'mail_type_text', 'mail_type_html',\n",
       "       'mail_type_mixed', 'mail_type_related', 'mail_type_plain',\n",
       "       'mail_type_mail_type_undefinded', 'mail_type_html ', 'mail_type_signed',\n",
       "       'mail_type_report', 'mail_type_calendar', 'mail_type_idm',\n",
       "       'period_month_start', 'period_month_middle', 'period_month_end',\n",
       "       'period_time_AM', 'period_time_PM', 'day_of_week_weekday',\n",
       "       'day_of_week_all week', 'day_of_week_weekend',\n",
       "       'time_of_day_working hours', 'time_of_day_evening',\n",
       "       'time_of_day_morning', 'time_of_day_weekend day', 'time_of_day_night',\n",
       "       'tld_front', 'tld_back_in', 'tld_back_com',\n",
       "       'tld_back_undefined_tld_back', 'tld_back_org', 'tld_back_me',\n",
       "       'tld_back_my', 'tld_back_info', 'tld_back_fr', 'tld_back_es',\n",
       "       'tld_back_de', 'tld_back_news', 'tld_back_tld_back_Uncommon',\n",
       "       'tld_back_co', 'tld_back_int', 'tld_back_edu', 'tld_back_uk',\n",
       "       'tld_back_so', 'tld_back_mil', 'tld_back_net', 'tld_back_jp',\n",
       "       'tld_back_io', 'label_0_probab', 'label_1_probab', 'label_2_probab',\n",
       "       'label_3_probab', 'label_4_probab', 'label_5_probab', 'label_6_probab',\n",
       "       'label_7_probab'],\n",
       "      dtype='object')"
      ]
     },
     "execution_count": 110,
     "metadata": {},
     "output_type": "execute_result"
    }
   ],
   "source": [
    "train_df.columns"
   ]
  },
  {
   "cell_type": "code",
   "execution_count": 111,
   "id": "581e0c80",
   "metadata": {},
   "outputs": [],
   "source": [
    "train_df = train_df[['ccs', 'bcced', 'images', 'urls', 'salutations', 'designation',\n",
    "       'chars_in_subject', 'chars_in_body', 'label', 'hour', 'month_number',\n",
    "       'weekday', 'timezone', 'chars_in_subject_proportion',\n",
    "       'chars_in_body_proportion', 'urls_images_proportion',\n",
    "       'urls_proportion_body', 'images_proportion_body', 'mail_type_multipart','mail_type_alternative', 'mail_type_text', 'mail_type_html',\n",
    "       'mail_type_mixed', 'mail_type_related', 'mail_type_plain',\n",
    "       'mail_type_mail_type_undefinded', 'mail_type_html ', 'mail_type_signed',\n",
    "       'mail_type_report', 'mail_type_calendar', 'mail_type_idm',, 'label_1_probab', 'label_2_probab',\n",
    "       'label_3_probab', 'label_4_probab', 'label_5_probab', 'label_6_probab',\n",
    "       'label_7_probab']]"
   ]
  },
  {
   "cell_type": "code",
   "execution_count": 113,
   "id": "ab801070",
   "metadata": {},
   "outputs": [
    {
     "name": "stdout",
     "output_type": "stream",
     "text": [
      "Epoch 1/5\n",
      "7617/7617 [==============================] - 7s 776us/step - loss: 0.2340 - accuracy: 0.5025\n",
      "Epoch 2/5\n",
      "7617/7617 [==============================] - 6s 772us/step - loss: 0.2201 - accuracy: 0.5204\n",
      "Epoch 3/5\n",
      "7617/7617 [==============================] - 6s 772us/step - loss: 0.2159 - accuracy: 0.5269\n",
      "Epoch 4/5\n",
      "7617/7617 [==============================] - 6s 772us/step - loss: 0.2135 - accuracy: 0.5301\n",
      "Epoch 5/5\n",
      "7617/7617 [==============================] - 6s 775us/step - loss: 0.2115 - accuracy: 0.5337\n"
     ]
    },
    {
     "data": {
      "text/plain": [
       "<keras.callbacks.History at 0x20302729460>"
      ]
     },
     "execution_count": 113,
     "metadata": {},
     "output_type": "execute_result"
    }
   ],
   "source": [
    "model = Sequential()\n",
    "model.add(Dense(120, input_shape=(30,), activation='relu'))\n",
    "# model.add(Dense(64, activation='tanh'))\n",
    "# model.add(Dense(32, activation='relu'))\n",
    "# model.add(Dropout(0.3))\n",
    "model.add(Dense(60, activation='relu'))\n",
    "model.add(Dense(30, activation='relu'))\n",
    "\n",
    "# model.add(Dropout(.2))\n",
    "# model.add(Dense(64, activation='relu'))\n",
    "model.add(Dense(8, activation='sigmoid'))\n",
    "\n",
    "model.compile(loss='binary_crossentropy', optimizer='adam', metrics=['accuracy'])\n",
    "\n",
    "y = pd.get_dummies(train_df.label)\n",
    "X_train, X_test, y_train, y_test = train_test_split(\n",
    "    train_df.drop('label',axis=1), y, test_size=0.05, random_state=42)\n",
    "model.fit(X_train,y_train, epochs=5, batch_size=10)"
   ]
  },
  {
   "cell_type": "code",
   "execution_count": null,
   "id": "ff435de3",
   "metadata": {},
   "outputs": [],
   "source": []
  }
 ],
 "metadata": {
  "kernelspec": {
   "display_name": "Python 3 (ipykernel)",
   "language": "python",
   "name": "python3"
  },
  "language_info": {
   "codemirror_mode": {
    "name": "ipython",
    "version": 3
   },
   "file_extension": ".py",
   "mimetype": "text/x-python",
   "name": "python",
   "nbconvert_exporter": "python",
   "pygments_lexer": "ipython3",
   "version": "3.9.12"
  }
 },
 "nbformat": 4,
 "nbformat_minor": 5
}
