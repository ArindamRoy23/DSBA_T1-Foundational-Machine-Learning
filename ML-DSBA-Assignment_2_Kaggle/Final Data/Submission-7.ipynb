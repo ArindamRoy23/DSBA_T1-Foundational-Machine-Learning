{
 "cells": [
  {
   "cell_type": "code",
   "execution_count": 50,
   "id": "49b4b2a3",
   "metadata": {},
   "outputs": [],
   "source": [
    "import numpy as np \n",
    "import pandas as pd \n",
    "from sklearn.model_selection import train_test_split"
   ]
  },
  {
   "cell_type": "code",
   "execution_count": 147,
   "id": "5e6ac053",
   "metadata": {},
   "outputs": [],
   "source": [
    "train_df = pd.read_csv(\"PCA_correct_train.csv\")\n",
    "test_df = pd.read_csv(\"test_final_scaled.csv\")\n",
    "train_df.drop('Unnamed: 0',inplace=True,axis = 1)\n",
    "test_df.drop('Unnamed: 0',inplace=True,axis = 1)"
   ]
  },
  {
   "cell_type": "code",
   "execution_count": 148,
   "id": "6a539b65",
   "metadata": {},
   "outputs": [
    {
     "data": {
      "text/plain": [
       "(34365, 74)"
      ]
     },
     "execution_count": 148,
     "metadata": {},
     "output_type": "execute_result"
    }
   ],
   "source": [
    "train_df.shape\n",
    "test_df.shape"
   ]
  },
  {
   "cell_type": "code",
   "execution_count": 149,
   "id": "6bf823a1",
   "metadata": {},
   "outputs": [],
   "source": [
    "# train_df.drop('org',axis = 1, inplace=True)\n",
    "# test_df.drop('org', axis = 1, inplace=True)"
   ]
  },
  {
   "cell_type": "code",
   "execution_count": 150,
   "id": "3de903db",
   "metadata": {},
   "outputs": [],
   "source": [
    "# from sklearn.decomposition import PCA\n",
    "# y = train_df[['label']]\n",
    "# X = train_df.drop('label', axis = 1)\n",
    "# x_pca = X.loc[:, X.columns].values\n",
    "# pca = PCA(50)\n",
    "# train_df = pca.fit_transform(x_pca)\n",
    "# # # X = pca.transform(X) "
   ]
  },
  {
   "cell_type": "code",
   "execution_count": 151,
   "id": "5112e9a0",
   "metadata": {},
   "outputs": [
    {
     "data": {
      "text/plain": [
       "(80176, 36)"
      ]
     },
     "execution_count": 151,
     "metadata": {},
     "output_type": "execute_result"
    }
   ],
   "source": [
    "train_df.shape"
   ]
  },
  {
   "cell_type": "code",
   "execution_count": 161,
   "id": "626ea884",
   "metadata": {},
   "outputs": [],
   "source": [
    "y = pd.get_dummies(y['label'])\n",
    "# pd.get_dummies(pd.DataFrame(y))\n",
    "X_train, X_test, y_train, y_test = train_test_split(\n",
    "    train_df, y, test_size=0.1, random_state=42)"
   ]
  },
  {
   "cell_type": "code",
   "execution_count": 162,
   "id": "bbe99cdd",
   "metadata": {},
   "outputs": [],
   "source": [
    "# y"
   ]
  },
  {
   "cell_type": "code",
   "execution_count": 163,
   "id": "fd1edc89",
   "metadata": {},
   "outputs": [],
   "source": [
    "\n",
    "import pandas \n",
    "from keras.models import Sequential\n",
    "from keras.layers import Dense\n",
    "from keras.layers import Dropout\n",
    "from keras.wrappers.scikit_learn import KerasClassifier\n",
    "from keras.utils import np_utils\n",
    "from sklearn.model_selection import cross_val_score\n",
    "from sklearn.model_selection import KFold\n",
    "from sklearn.preprocessing import LabelEncoder\n",
    "from sklearn.pipeline import Pipeline"
   ]
  },
  {
   "cell_type": "code",
   "execution_count": 164,
   "id": "c763c181",
   "metadata": {},
   "outputs": [],
   "source": [
    "model = Sequential()\n",
    "model.add(Dense(74, input_shape=(36,), activation='relu'))\n",
    "# model.add(Dense(64, activation='tanh'))\n",
    "# model.add(Dense(32, activation='relu'))\n",
    "# model.add(Dropout(0.3))\n",
    "model.add(Dense(32, activation='relu'))\n",
    "model.add(Dense(8, activation='sigmoid'))"
   ]
  },
  {
   "cell_type": "code",
   "execution_count": 165,
   "id": "9e64a1e6",
   "metadata": {},
   "outputs": [],
   "source": [
    "model.compile(loss='binary_crossentropy', optimizer='adam', metrics=['accuracy'])\n"
   ]
  },
  {
   "cell_type": "code",
   "execution_count": 166,
   "id": "e25cab64",
   "metadata": {},
   "outputs": [
    {
     "name": "stdout",
     "output_type": "stream",
     "text": [
      "Epoch 1/5\n",
      "7216/7216 [==============================] - 10s 1ms/step - loss: 0.0302 - accuracy: 0.9683\n",
      "Epoch 2/5\n",
      "7216/7216 [==============================] - 9s 1ms/step - loss: 0.0041 - accuracy: 0.9974\n",
      "Epoch 3/5\n",
      "7216/7216 [==============================] - 9s 1ms/step - loss: 0.0024 - accuracy: 0.9981\n",
      "Epoch 4/5\n",
      "7216/7216 [==============================] - 9s 1ms/step - loss: 0.0015 - accuracy: 0.9989\n",
      "Epoch 5/5\n",
      "7216/7216 [==============================] - 9s 1ms/step - loss: 0.0018 - accuracy: 0.9986\n"
     ]
    },
    {
     "data": {
      "text/plain": [
       "<keras.callbacks.History at 0x2898a0b1e50>"
      ]
     },
     "execution_count": 166,
     "metadata": {},
     "output_type": "execute_result"
    }
   ],
   "source": [
    "model.fit(X_train,y_train, epochs=5, batch_size=10)"
   ]
  },
  {
   "cell_type": "code",
   "execution_count": 45,
   "id": "9eb9689b",
   "metadata": {},
   "outputs": [
    {
     "data": {
      "text/plain": [
       "(80176, 36)"
      ]
     },
     "execution_count": 45,
     "metadata": {},
     "output_type": "execute_result"
    }
   ],
   "source": [
    "train_df.shape"
   ]
  },
  {
   "cell_type": "code",
   "execution_count": 46,
   "id": "243af263",
   "metadata": {},
   "outputs": [],
   "source": [
    "_,accuracy = model.evaluate(X_train,y_train, verbose=0)"
   ]
  },
  {
   "cell_type": "code",
   "execution_count": 47,
   "id": "f0beba6f",
   "metadata": {},
   "outputs": [
    {
     "data": {
      "text/plain": [
       "0.9814296364784241"
      ]
     },
     "execution_count": 47,
     "metadata": {},
     "output_type": "execute_result"
    }
   ],
   "source": [
    "accuracy"
   ]
  },
  {
   "cell_type": "code",
   "execution_count": 48,
   "id": "966c4e27",
   "metadata": {},
   "outputs": [
    {
     "name": "stdout",
     "output_type": "stream",
     "text": [
      "502/502 [==============================] - 1s 964us/step\n"
     ]
    }
   ],
   "source": [
    "a = model.predict(test_df)"
   ]
  },
  {
   "cell_type": "code",
   "execution_count": 49,
   "id": "3273beed",
   "metadata": {},
   "outputs": [],
   "source": [
    "df_final = pd.DataFrame(a).idxmax(axis=1)\n",
    "# df_final.shape\n",
    "# df_final['ID'] = ind\n",
    "\n",
    "# df_final.head()\n",
    "df_final.to_csv('Submission/submission_4.csv')"
   ]
  }
 ],
 "metadata": {
  "kernelspec": {
   "display_name": "Python 3 (ipykernel)",
   "language": "python",
   "name": "python3"
  },
  "language_info": {
   "codemirror_mode": {
    "name": "ipython",
    "version": 3
   },
   "file_extension": ".py",
   "mimetype": "text/x-python",
   "name": "python",
   "nbconvert_exporter": "python",
   "pygments_lexer": "ipython3",
   "version": "3.9.12"
  }
 },
 "nbformat": 4,
 "nbformat_minor": 5
}
