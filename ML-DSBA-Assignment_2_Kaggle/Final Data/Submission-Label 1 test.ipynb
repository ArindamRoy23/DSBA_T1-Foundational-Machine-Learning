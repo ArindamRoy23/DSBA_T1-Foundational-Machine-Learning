{
 "cells": [
  {
   "cell_type": "code",
   "execution_count": 1,
   "id": "49b4b2a3",
   "metadata": {},
   "outputs": [],
   "source": [
    "import numpy as np \n",
    "import pandas as pd \n",
    "from sklearn.model_selection import train_test_split"
   ]
  },
  {
   "cell_type": "code",
   "execution_count": 26,
   "id": "5e6ac053",
   "metadata": {},
   "outputs": [],
   "source": [
    "train_df = pd.read_csv(\"train_final_scaled.csv\")\n",
    "test_df = pd.read_csv(\"test_final_scaled.csv\")\n",
    "ind = test_df['Unnamed: 0']\n",
    "train_df.drop('Unnamed: 0',inplace=True,axis = 1)\n",
    "test_df.drop('Unnamed: 0',inplace=True,axis = 1)"
   ]
  },
  {
   "cell_type": "code",
   "execution_count": 27,
   "id": "373f5159",
   "metadata": {},
   "outputs": [],
   "source": [
    "train_df['label1'] = train_df['label'].apply(lambda x: 1 if x == 1 else 0)"
   ]
  },
  {
   "cell_type": "code",
   "execution_count": 28,
   "id": "7e356a30",
   "metadata": {},
   "outputs": [],
   "source": [
    "train_df.drop('label', axis =1,inplace=True )"
   ]
  },
  {
   "cell_type": "code",
   "execution_count": 29,
   "id": "626ea884",
   "metadata": {},
   "outputs": [],
   "source": [
    "# y = pd.get_dummies(train_df.label1)\n",
    "y = train_df.label1\n",
    "\n",
    "X_train, X_test, y_train, y_test = train_test_split(\n",
    "    train_df.drop('label1',axis=1), y, test_size=0.1, random_state=42)"
   ]
  },
  {
   "cell_type": "code",
   "execution_count": 30,
   "id": "fd1edc89",
   "metadata": {},
   "outputs": [],
   "source": [
    "\n",
    "import pandas \n",
    "from keras.models import Sequential\n",
    "from keras.layers import Dense\n",
    "from keras.layers import Dropout\n",
    "from keras.wrappers.scikit_learn import KerasClassifier\n",
    "from keras.utils import np_utils\n",
    "from sklearn.model_selection import cross_val_score\n",
    "from sklearn.model_selection import KFold\n",
    "from sklearn.preprocessing import LabelEncoder\n",
    "from sklearn.pipeline import Pipeline"
   ]
  },
  {
   "cell_type": "code",
   "execution_count": 31,
   "id": "c763c181",
   "metadata": {},
   "outputs": [],
   "source": [
    "model = Sequential()\n",
    "model.add(Dense(74, input_shape=(74,), activation='relu'))\n",
    "# model.add(Dense(64, activation='tanh'))\n",
    "# model.add(Dense(32, activation='relu'))\n",
    "# model.add(Dropout(0.3))\n",
    "model.add(Dense(64, activation='relu'))\n",
    "model.add(Dense(64, activation='relu'))\n",
    "model.add(Dense(1, activation='sigmoid'))"
   ]
  },
  {
   "cell_type": "code",
   "execution_count": 32,
   "id": "9e64a1e6",
   "metadata": {},
   "outputs": [],
   "source": [
    "model.compile(loss='binary_crossentropy', optimizer='adam', metrics=['accuracy'])\n"
   ]
  },
  {
   "cell_type": "code",
   "execution_count": 33,
   "id": "1bc0e08b",
   "metadata": {},
   "outputs": [
    {
     "name": "stdout",
     "output_type": "stream",
     "text": [
      "Epoch 1/5\n",
      "7216/7216 [==============================] - 6s 792us/step - loss: 0.7282 - accuracy: 0.5400\n",
      "Epoch 2/5\n",
      "7216/7216 [==============================] - 6s 784us/step - loss: 0.6896 - accuracy: 0.5404\n",
      "Epoch 3/5\n",
      "7216/7216 [==============================] - 6s 786us/step - loss: 0.6881 - accuracy: 0.5419\n",
      "Epoch 4/5\n",
      "7216/7216 [==============================] - 6s 782us/step - loss: 0.6872 - accuracy: 0.5433\n",
      "Epoch 5/5\n",
      "7216/7216 [==============================] - 6s 787us/step - loss: 0.6864 - accuracy: 0.5436\n"
     ]
    },
    {
     "data": {
      "text/plain": [
       "<keras.callbacks.History at 0x18cda4b0be0>"
      ]
     },
     "execution_count": 33,
     "metadata": {},
     "output_type": "execute_result"
    }
   ],
   "source": [
    "model.fit(X_train,y_train, epochs=5, batch_size=10)"
   ]
  },
  {
   "cell_type": "code",
   "execution_count": 198,
   "id": "0121cfa3",
   "metadata": {},
   "outputs": [],
   "source": [
    "_,accuracy = model.evaluate(X_train,y_train, verbose=0)"
   ]
  },
  {
   "cell_type": "code",
   "execution_count": 199,
   "id": "c2af4658",
   "metadata": {},
   "outputs": [
    {
     "data": {
      "text/plain": [
       "0.5904542803764343"
      ]
     },
     "execution_count": 199,
     "metadata": {},
     "output_type": "execute_result"
    }
   ],
   "source": [
    "accuracy"
   ]
  },
  {
   "cell_type": "code",
   "execution_count": 200,
   "id": "c15e9005",
   "metadata": {},
   "outputs": [
    {
     "name": "stdout",
     "output_type": "stream",
     "text": [
      "1074/1074 [==============================] - 1s 1ms/step\n"
     ]
    }
   ],
   "source": []
  },
  {
   "cell_type": "code",
   "execution_count": 201,
   "id": "eeca64e2",
   "metadata": {},
   "outputs": [],
   "source": [
    "a = model.predict(test_df)\n",
    "df_final = pd.DataFrame(a).idxmax(axis=1)\n",
    "# df_final.shape\n",
    "# df_final['ID'] = ind\n",
    "\n",
    "# df_final.head()\n",
    "df_final.to_csv('Submission/submission_3.csv')"
   ]
  },
  {
   "cell_type": "code",
   "execution_count": 112,
   "id": "50f89cca",
   "metadata": {},
   "outputs": [
    {
     "name": "stdout",
     "output_type": "stream",
     "text": [
      "(80174, 75)\n",
      "(34365, 73)\n",
      "label\n",
      "mail_type_calendar\n",
      "tld_back_my\n",
      "tld_back_int\n",
      "tld_back_sa\n",
      "tld_back_au\n",
      "tld_back_jp\n",
      "tld_back_io\n"
     ]
    }
   ],
   "source": [
    "print(train_df.shape)\n",
    "print(test_df.shape)\n",
    "\n",
    "for x in train_df.columns:\n",
    "    if x not in test_df.columns:\n",
    "        print(x)"
   ]
  }
 ],
 "metadata": {
  "kernelspec": {
   "display_name": "Python 3 (ipykernel)",
   "language": "python",
   "name": "python3"
  },
  "language_info": {
   "codemirror_mode": {
    "name": "ipython",
    "version": 3
   },
   "file_extension": ".py",
   "mimetype": "text/x-python",
   "name": "python",
   "nbconvert_exporter": "python",
   "pygments_lexer": "ipython3",
   "version": "3.9.12"
  }
 },
 "nbformat": 4,
 "nbformat_minor": 5
}
