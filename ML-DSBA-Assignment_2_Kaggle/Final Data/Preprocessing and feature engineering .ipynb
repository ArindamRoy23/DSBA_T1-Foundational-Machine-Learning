{
 "cells": [
  {
   "cell_type": "code",
   "execution_count": 26,
   "id": "1b7ad8fb",
   "metadata": {},
   "outputs": [],
   "source": [
    "import pandas as pd \n",
    "import numpy as np\n",
    "from datetime import datetime\n",
    "from sklearn import preprocessing\n",
    "from sklearn.model_selection import train_test_split\n",
    "from publicsuffix2 import get_public_suffix\n",
    "from tld import is_tld"
   ]
  },
  {
   "cell_type": "code",
   "execution_count": 27,
   "id": "ab5b2442",
   "metadata": {},
   "outputs": [],
   "source": [
    "import pandas \n",
    "from keras.models import Sequential\n",
    "from keras.layers import Dense\n",
    "from keras.layers import Dropout\n",
    "from keras.wrappers.scikit_learn import KerasClassifier\n",
    "from keras.utils import np_utils\n",
    "from sklearn.model_selection import cross_val_score\n",
    "from sklearn.model_selection import KFold\n",
    "from sklearn.preprocessing import LabelEncoder\n",
    "from sklearn.pipeline import Pipeline"
   ]
  },
  {
   "cell_type": "code",
   "execution_count": 28,
   "id": "f41eb8f6",
   "metadata": {},
   "outputs": [],
   "source": [
    "def check_org (x):\n",
    "    if x.count('.') == 1:\n",
    "        return(x.split('.')[0])\n",
    "    if x.count('.') == 2:\n",
    "        if is_tld('.'.join(x.split('.')[1:])):return(x.split('.')[0])\n",
    "        else:return(x.split('.')[1])\n",
    "    else: return(x)\n",
    "def check_tld (x):\n",
    "    if x.count('.') == 1:\n",
    "        return(x.split('.')[1])\n",
    "    if x.count('.') == 2:\n",
    "        if is_tld('.'.join(x.split('.')[1:])):return('.'.join(x.split('.')[1:]))\n",
    "        else:return(x.split('.')[2])\n",
    "    else: return(x)\n",
    "def check_add_info (x):\n",
    "    if x.count('.') == 2:\n",
    "        if is_tld('.'.join(x.split('.')[1:])):return('0')\n",
    "        else:return(x.split('.')[0])\n",
    "    else: return('0')"
   ]
  },
  {
   "cell_type": "code",
   "execution_count": 29,
   "id": "fe17023c",
   "metadata": {},
   "outputs": [
    {
     "name": "stderr",
     "output_type": "stream",
     "text": [
      "C:\\Users\\arind\\AppData\\Local\\Temp\\ipykernel_33620\\3794243463.py:8: FutureWarning: The frame.append method is deprecated and will be removed from pandas in a future version. Use pandas.concat instead.\n",
      "  df = train_df.append(test_df, ignore_index=True)\n",
      "C:\\Users\\arind\\anaconda3\\lib\\site-packages\\publicsuffix2\\__init__.py:376: UserWarning: This function returns the private suffix, SLD, or registrable domain. This equivalent to function get_sld(). To get the public suffix itself, use get_tld().\n",
      "  warnings.warn(\n",
      "C:\\Users\\arind\\AppData\\Local\\Temp\\ipykernel_33620\\3794243463.py:26: FutureWarning: weekofyear and week have been deprecated, please use DatetimeIndex.isocalendar().week instead, which returns a Series. To exactly reproduce the behavior of week and weekofyear and return an Index, you may call pd.Int64Index(idx.isocalendar().week)\n",
      "  df['weekofyr'] = pd.DatetimeIndex(df['date']).weekofyear\n"
     ]
    }
   ],
   "source": [
    "# Feature correction \n",
    "\n",
    "train_df = pd.read_csv('train.csv', )\n",
    "test_df = pd.read_csv('test.csv', )\n",
    "# train_df.drop('Unnamed: 0',axis=1,inplace = True)\n",
    "# test_df.drop('Unnamed: 0',axis=1,inplace = True)\n",
    "test_df['label'] = 'test_df'\n",
    "df = train_df.append(test_df, ignore_index=True)\n",
    "# df[df ['Unnamed: 0'] == 40]\n",
    "df['chars_in_subject'] = df['chars_in_subject'].fillna(10)\n",
    "df.org = df.org.fillna('org_unknown')\n",
    "df['Ratio-SubtoBody'] = df['chars_in_body'] / (df['chars_in_subject'] + df['chars_in_body'])\n",
    "df['tld'] = df['tld'].fillna('notfound.com').apply(get_public_suffix)\n",
    "df['date_tz'] = df['date'].apply(lambda x: x.split('(')[1][:3] if '(' in x else 'not_found')\n",
    "import datefinder\n",
    "# df['day'] = df['date'].apply(lambda x:x.split(',')[0])\n",
    "def find_date(x):\n",
    "    for x in datefinder.find_dates(x):\n",
    "        return(x)\n",
    "        break\n",
    "\n",
    "df['date'] = df['date'].apply(find_date)\n",
    "df['date'] = pd.to_datetime(df['date'], utc = True).map(lambda x: x.tz_convert('Asia/Kolkata'))\n",
    "df['year'] = pd.DatetimeIndex(df['date']).year\n",
    "df['qtofyr'] = pd.DatetimeIndex(df['date']).quarter\n",
    "df['weekofyr'] = pd.DatetimeIndex(df['date']).weekofyear\n",
    "df['month'] = pd.DatetimeIndex(df['date']).month\n",
    "df['weekday'] = pd.DatetimeIndex(df['date']).dayofweek\n",
    "df['hour'] = pd.DatetimeIndex(df['date']).hour\n",
    "df['monthday'] = pd.DatetimeIndex(df['date']).dayofyear\n",
    "df['second'] = pd.DatetimeIndex(df['date']).hour\n",
    "df.drop('date',axis=1,inplace=True)\n",
    "df['working_weekday'] = df['weekday'].apply(lambda x: 1 if x<6 else 0)\n",
    "df['full_wsite'] = df['org'] +'.'+ df['tld'] \n",
    "df['org'] = df['full_wsite'].apply(check_org)\n",
    "df['tld_2'] = df['full_wsite'].apply(check_tld)\n",
    "df['add_info'] = df['full_wsite'].apply(check_add_info)"
   ]
  },
  {
   "cell_type": "code",
   "execution_count": 30,
   "id": "359a8d83",
   "metadata": {},
   "outputs": [
    {
     "data": {
      "text/plain": [
       "['org',\n",
       " 'tld',\n",
       " 'label',\n",
       " 'date_tz',\n",
       " 'full_wsite',\n",
       " 'tld_2',\n",
       " 'add_info',\n",
       " 'tld_front']"
      ]
     },
     "execution_count": 30,
     "metadata": {},
     "output_type": "execute_result"
    }
   ],
   "source": [
    "df['work_hour'] = df['hour'].apply(lambda x:1 if (x>9) & (x<17) else 0)\n",
    "df = pd.get_dummies(df, prefix=['MailType'], columns = ['mail_type'],drop_first=False)\n",
    "df['tld_front'] = df.tld.apply(lambda x: x.split('.')[0] if '.' in x else '0')\n",
    "df['i/u_ratio'] = (df['images']+1)/(df['urls'] + 1)\n",
    "right_df = pd.read_csv('final_label_probab_df.csv')\n",
    "df = df.merge(right_df, on='org', how='left', indicator=False)\n",
    "a = df.dtypes.to_frame('type').reset_index()\n",
    "a[(a['type']=='object') ]['index'].to_list()"
   ]
  },
  {
   "cell_type": "code",
   "execution_count": 31,
   "id": "34588cd5",
   "metadata": {},
   "outputs": [],
   "source": [
    "for x in a[(a['type']=='object') ]['index'].to_list(): \n",
    "    if x != 'label':\n",
    "        le_org = preprocessing.LabelEncoder()\n",
    "        df[x] = le_org.fit_transform(df[x])\n",
    "df = df.set_index('Unnamed: 0', drop=True)\n",
    "to_scale = []\n",
    "for col in df.columns:\n",
    "    if len(df[col].unique())>2:\n",
    "        if 'probab' not in col:\n",
    "            to_scale.append(col)\n",
    " "
   ]
  },
  {
   "cell_type": "code",
   "execution_count": 32,
   "id": "6d8892ea",
   "metadata": {},
   "outputs": [],
   "source": [
    "# df.groupby(['add_info', 'label']).count().sort_values('add_info',ascending=False)['org'].to_csv('add_info_check.csv')"
   ]
  },
  {
   "cell_type": "code",
   "execution_count": 33,
   "id": "87ee6306",
   "metadata": {},
   "outputs": [],
   "source": [
    "to_scale_stsc = [\n",
    " 'images',\n",
    " 'urls',\n",
    " 'chars_in_subject',\n",
    " 'chars_in_body','Ratio-SubtoBody']"
   ]
  },
  {
   "cell_type": "code",
   "execution_count": 34,
   "id": "d4145930",
   "metadata": {},
   "outputs": [],
   "source": [
    "to_scale_nosc = list(set(to_scale) - set(to_scale_stsc))"
   ]
  },
  {
   "cell_type": "code",
   "execution_count": 35,
   "id": "33924a8b",
   "metadata": {},
   "outputs": [],
   "source": [
    "from sklearn.preprocessing import StandardScaler\n",
    "for val in to_scale_stsc:\n",
    "    sc = StandardScaler()\n",
    "#     df[val] = sc.fit_transform(df[val])\n",
    "    df[val] = sc.fit_transform(df[[val]])\n",
    "# sc.transform"
   ]
  },
  {
   "cell_type": "code",
   "execution_count": 36,
   "id": "9eafe9eb",
   "metadata": {},
   "outputs": [],
   "source": [
    "for val in to_scale_nosc:\n",
    "    \n",
    "#     df[val] = sc.fit_transform(df[val])\n",
    "    if val!= 'label':\n",
    "        df[val] = (df[val] - df[val].mean())/df[val].max()"
   ]
  },
  {
   "cell_type": "code",
   "execution_count": 37,
   "id": "9c1b2847",
   "metadata": {},
   "outputs": [
    {
     "data": {
      "text/plain": [
       "['weekday',\n",
       " 'hour',\n",
       " 'tld',\n",
       " 'i/u_ratio',\n",
       " 'second',\n",
       " 'monthday',\n",
       " 'ccs',\n",
       " 'label',\n",
       " 'tld_2',\n",
       " 'add_info',\n",
       " 'date_tz',\n",
       " 'weekofyr',\n",
       " 'org',\n",
       " 'year',\n",
       " 'month',\n",
       " 'qtofyr',\n",
       " 'tld_front',\n",
       " 'full_wsite']"
      ]
     },
     "execution_count": 37,
     "metadata": {},
     "output_type": "execute_result"
    }
   ],
   "source": [
    "to_scale_nosc"
   ]
  },
  {
   "cell_type": "code",
   "execution_count": 38,
   "id": "837a205c",
   "metadata": {},
   "outputs": [
    {
     "name": "stderr",
     "output_type": "stream",
     "text": [
      "C:\\Users\\arind\\AppData\\Local\\Temp\\ipykernel_33620\\2176746312.py:3: SettingWithCopyWarning: \n",
      "A value is trying to be set on a copy of a slice from a DataFrame.\n",
      "Try using .loc[row_indexer,col_indexer] = value instead\n",
      "\n",
      "See the caveats in the documentation: https://pandas.pydata.org/pandas-docs/stable/user_guide/indexing.html#returning-a-view-versus-a-copy\n",
      "  train_df['label'] = train_df['label'].astype('int')\n"
     ]
    }
   ],
   "source": [
    "df = df.fillna(1/7)\n",
    "train_df = df[df['label'] != 'test_df']\n",
    "train_df['label'] = train_df['label'].astype('int')\n",
    "test_df = df[df['label'] == 'test_df']"
   ]
  },
  {
   "cell_type": "code",
   "execution_count": 39,
   "id": "b6271325",
   "metadata": {},
   "outputs": [],
   "source": [
    "train_df.to_csv('To_run_train.csv')\n",
    "test_df.to_csv('To_run_test.csv')"
   ]
  },
  {
   "cell_type": "code",
   "execution_count": 125,
   "id": "67783b42",
   "metadata": {},
   "outputs": [],
   "source": [
    "from sklearn.model_selection import train_test_split\n",
    "from sklearn.neighbors import KNeighborsClassifier\n",
    "from sklearn.metrics import accuracy_score, classification_report, confusion_matrix, precision_score, recall_score\n",
    "from sklearn.discriminant_analysis import LinearDiscriminantAnalysis as LDA\n",
    "from sklearn.model_selection import GridSearchCV\n",
    "from sklearn.decomposition import PCA\n",
    "from sklearn.preprocessing import StandardScaler\n",
    "from catboost import CatBoostClassifier\n",
    "from sklearn.linear_model import Lasso\n"
   ]
  },
  {
   "cell_type": "code",
   "execution_count": 145,
   "id": "cf8c0ca7",
   "metadata": {},
   "outputs": [
    {
     "data": {
      "text/plain": [
       "Index(['org', 'tld', 'ccs', 'bcced', 'images', 'urls', 'salutations',\n",
       "       'designation', 'chars_in_subject', 'chars_in_body', 'label',\n",
       "       'Ratio-SubtoBody', 'date_tz', 'year', 'qtofyr', 'weekofyr', 'month',\n",
       "       'weekday', 'hour', 'monthday', 'second', 'working_weekday',\n",
       "       'full_wsite', 'tld_2', 'add_info', 'work_hour',\n",
       "       'MailType_Multipart/Alternative', 'MailType_Multipart/Mixed',\n",
       "       'MailType_Text/Html', 'MailType_multipart/IDM',\n",
       "       'MailType_multipart/alternative', 'MailType_multipart/mixed',\n",
       "       'MailType_multipart/related', 'MailType_multipart/report',\n",
       "       'MailType_multipart/signed', 'MailType_text/HTML',\n",
       "       'MailType_text/calendar', 'MailType_text/html', 'MailType_text/html ',\n",
       "       'MailType_text/plain', 'tld_front', 'i/u_ratio', 'label_0_probab',\n",
       "       'label_1_probab', 'label_2_probab', 'label_3_probab', 'label_4_probab',\n",
       "       'label_5_probab', 'label_6_probab', 'label_7_probab'],\n",
       "      dtype='object')"
      ]
     },
     "execution_count": 145,
     "metadata": {},
     "output_type": "execute_result"
    }
   ],
   "source": [
    "df.columns"
   ]
  }
 ],
 "metadata": {
  "kernelspec": {
   "display_name": "Python 3 (ipykernel)",
   "language": "python",
   "name": "python3"
  },
  "language_info": {
   "codemirror_mode": {
    "name": "ipython",
    "version": 3
   },
   "file_extension": ".py",
   "mimetype": "text/x-python",
   "name": "python",
   "nbconvert_exporter": "python",
   "pygments_lexer": "ipython3",
   "version": "3.9.12"
  }
 },
 "nbformat": 4,
 "nbformat_minor": 5
}
