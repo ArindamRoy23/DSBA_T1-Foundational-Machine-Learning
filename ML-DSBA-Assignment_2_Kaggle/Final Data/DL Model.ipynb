{
 "cells": [
  {
   "cell_type": "code",
   "execution_count": 1,
   "id": "7c41a951",
   "metadata": {},
   "outputs": [],
   "source": [
    "import pandas \n",
    "from keras.models import Sequential\n",
    "from keras.layers import Dense\n",
    "from keras.layers import Dropout\n",
    "from keras.wrappers.scikit_learn import KerasClassifier\n",
    "from keras.utils import np_utils\n",
    "from sklearn.model_selection import cross_val_score\n",
    "from sklearn.model_selection import KFold\n",
    "from sklearn.preprocessing import LabelEncoder\n",
    "from sklearn.pipeline import Pipeline\n",
    "import pandas as pd \n",
    "import numpy as np\n",
    "from datetime import datetime\n",
    "from sklearn import preprocessing\n",
    "from sklearn.model_selection import train_test_split\n",
    "from publicsuffix2 import get_public_suffix"
   ]
  },
  {
   "cell_type": "code",
   "execution_count": 2,
   "id": "9bd08846",
   "metadata": {},
   "outputs": [],
   "source": [
    "train_df = pd.read_csv('To_run_train.csv')\n",
    "test_df = pd.read_csv('To_run_test.csv')\n",
    "train_df.drop('Unnamed: 0',axis=1,inplace = True)\n",
    "test_df.drop('Unnamed: 0',axis=1,inplace = True)"
   ]
  },
  {
   "cell_type": "code",
   "execution_count": 3,
   "id": "af6f8cbd",
   "metadata": {},
   "outputs": [],
   "source": [
    "# train_df['work_hour'].unique()"
   ]
  },
  {
   "cell_type": "code",
   "execution_count": 4,
   "id": "d2f47aaf",
   "metadata": {},
   "outputs": [],
   "source": [
    "X_train, X_test, y_train, y_test = train_test_split(\n",
    "    train_df.drop('label',axis=1), pd.get_dummies(train_df.label), test_size=0.1, random_state=42)"
   ]
  },
  {
   "cell_type": "code",
   "execution_count": 5,
   "id": "2d70b65f",
   "metadata": {},
   "outputs": [],
   "source": [
    "model = Sequential()\n",
    "model.add(Dense(X_train.shape[1], input_shape=(X_train.shape[1],), activation='relu'))\n",
    "model.add(Dense(X_train.shape[1], activation='relu'))\n",
    "model.add(Dense(X_train.shape[1], activation='relu'))\n",
    "model.add(Dense(X_train.shape[1], activation='relu'))\n",
    "# model.add(Dense(29, activation='relu'))\n",
    "model.add(Dense(8, activation='sigmoid'))"
   ]
  },
  {
   "cell_type": "code",
   "execution_count": 6,
   "id": "11a0dc15",
   "metadata": {},
   "outputs": [
    {
     "name": "stdout",
     "output_type": "stream",
     "text": [
      "Epoch 1/5\n",
      "14432/14432 [==============================] - 24s 2ms/step - loss: 0.1925 - accuracy: 0.5615 - val_loss: 0.1813 - val_accuracy: 0.5858\n",
      "Epoch 2/5\n",
      "14432/14432 [==============================] - 22s 2ms/step - loss: 0.1822 - accuracy: 0.5780 - val_loss: 0.1800 - val_accuracy: 0.5874\n",
      "Epoch 3/5\n",
      "14432/14432 [==============================] - 20s 1ms/step - loss: 0.1793 - accuracy: 0.5881 - val_loss: 0.1793 - val_accuracy: 0.5829\n",
      "Epoch 4/5\n",
      "14432/14432 [==============================] - 22s 2ms/step - loss: 0.1781 - accuracy: 0.5892 - val_loss: 0.1767 - val_accuracy: 0.5929\n",
      "Epoch 5/5\n",
      "14432/14432 [==============================] - 22s 2ms/step - loss: 0.1763 - accuracy: 0.5924 - val_loss: 0.1771 - val_accuracy: 0.5999\n"
     ]
    },
    {
     "data": {
      "text/plain": [
       "<keras.callbacks.History at 0x22de611d3a0>"
      ]
     },
     "execution_count": 6,
     "metadata": {},
     "output_type": "execute_result"
    }
   ],
   "source": [
    "model.compile(loss='binary_crossentropy', optimizer='adam', metrics=['accuracy'])\n",
    "model.fit(X_train,y_train,validation_data=(X_test, y_test), epochs=5, batch_size=5)"
   ]
  },
  {
   "cell_type": "code",
   "execution_count": 37,
   "id": "c45c9478",
   "metadata": {},
   "outputs": [
    {
     "name": "stdout",
     "output_type": "stream",
     "text": [
      "Epoch 1/5\n",
      "16036/16036 [==============================] - 12s 719us/step - loss: 0.1846 - accuracy: 0.5779\n",
      "Epoch 2/5\n",
      "16036/16036 [==============================] - 12s 725us/step - loss: 0.1740 - accuracy: 0.5936\n",
      "Epoch 3/5\n",
      "16036/16036 [==============================] - 12s 723us/step - loss: 0.1710 - accuracy: 0.5986\n",
      "Epoch 4/5\n",
      "16036/16036 [==============================] - 12s 728us/step - loss: 0.1692 - accuracy: 0.6021\n",
      "Epoch 5/5\n",
      "16036/16036 [==============================] - 12s 731us/step - loss: 0.1677 - accuracy: 0.6035\n"
     ]
    },
    {
     "data": {
      "text/plain": [
       "<keras.callbacks.History at 0x1e787a36070>"
      ]
     },
     "execution_count": 37,
     "metadata": {},
     "output_type": "execute_result"
    }
   ],
   "source": [
    "model.compile(loss='binary_crossentropy', optimizer='adam', metrics=['accuracy'])\n",
    "model.fit(train_df.drop('label',axis=1), pd.get_dummies(train_df.label), epochs=5, batch_size=5)"
   ]
  },
  {
   "cell_type": "code",
   "execution_count": 23,
   "id": "14da99df",
   "metadata": {},
   "outputs": [
    {
     "data": {
      "text/plain": [
       "Index(['org', 'tld', 'ccs', 'bcced', 'images', 'urls', 'salutations',\n",
       "       'designation', 'chars_in_subject', 'chars_in_body', 'label',\n",
       "       'Ratio-SubtoBody', 'date_tz', 'year', 'qtofyr', 'weekofyr', 'month',\n",
       "       'weekday', 'hour', 'monthday', 'second', 'working_weekday',\n",
       "       'full_wsite', 'tld_2', 'add_info', 'work_hour',\n",
       "       'MailType_Multipart/Alternative', 'MailType_Multipart/Mixed',\n",
       "       'MailType_Text/Html', 'MailType_multipart/IDM',\n",
       "       'MailType_multipart/alternative', 'MailType_multipart/mixed',\n",
       "       'MailType_multipart/related', 'MailType_multipart/report',\n",
       "       'MailType_multipart/signed', 'MailType_text/HTML',\n",
       "       'MailType_text/calendar', 'MailType_text/html', 'MailType_text/html ',\n",
       "       'MailType_text/plain', 'tld_front', 'i/u_ratio', 'label_0_probab',\n",
       "       'label_1_probab', 'label_2_probab', 'label_3_probab', 'label_4_probab',\n",
       "       'label_5_probab', 'label_6_probab', 'label_7_probab'],\n",
       "      dtype='object')"
      ]
     },
     "execution_count": 23,
     "metadata": {},
     "output_type": "execute_result"
    }
   ],
   "source": [
    "# train_df.columns"
   ]
  },
  {
   "cell_type": "code",
   "execution_count": 39,
   "id": "345c3642",
   "metadata": {},
   "outputs": [
    {
     "name": "stdout",
     "output_type": "stream",
     "text": [
      "1074/1074 [==============================] - 1s 539us/step\n"
     ]
    }
   ],
   "source": [
    "a = model.predict(test_df.drop('label',axis = 1))\n",
    "df_final = pd.DataFrame(a).idxmax(axis=1)\n",
    "df_final.to_csv('Submission/inal_3.csv')"
   ]
  }
 ],
 "metadata": {
  "kernelspec": {
   "display_name": "Python 3 (ipykernel)",
   "language": "python",
   "name": "python3"
  },
  "language_info": {
   "codemirror_mode": {
    "name": "ipython",
    "version": 3
   },
   "file_extension": ".py",
   "mimetype": "text/x-python",
   "name": "python",
   "nbconvert_exporter": "python",
   "pygments_lexer": "ipython3",
   "version": "3.9.12"
  }
 },
 "nbformat": 4,
 "nbformat_minor": 5
}
