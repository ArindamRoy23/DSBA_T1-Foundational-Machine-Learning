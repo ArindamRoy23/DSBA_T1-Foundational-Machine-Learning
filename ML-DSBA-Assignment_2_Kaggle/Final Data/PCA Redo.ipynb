{
 "cells": [
  {
   "cell_type": "code",
   "execution_count": 2,
   "id": "26e6ab62",
   "metadata": {},
   "outputs": [],
   "source": [
    "import pandas as pd \n",
    "import numpy as np"
   ]
  },
  {
   "cell_type": "code",
   "execution_count": 9,
   "id": "zLNrs3NHZ0v_",
   "metadata": {
    "id": "zLNrs3NHZ0v_"
   },
   "outputs": [],
   "source": [
    "train_df = pd.read_csv('train_final_scaled.csv')\n",
    "test_df = pd.read_csv('test_final_scaled.csv') \n",
    "\n",
    "train_df.drop('Unnamed: 0',axis= 1, inplace=True)\n",
    "test_df.drop('Unnamed: 0',axis= 1, inplace=True)"
   ]
  },
  {
   "cell_type": "code",
   "execution_count": 10,
   "id": "0e7d5505",
   "metadata": {},
   "outputs": [],
   "source": [
    "from sklearn.preprocessing import StandardScaler\n",
    "scaler = StandardScaler()\n",
    "y = train_df.label\n",
    "X = scaler.fit_transform(train_df.drop('label',axis= 1))"
   ]
  },
  {
   "cell_type": "code",
   "execution_count": 17,
   "id": "XWdTGPxmlEM2",
   "metadata": {
    "colab": {
     "base_uri": "https://localhost:8080/"
    },
    "id": "XWdTGPxmlEM2",
    "outputId": "19ff0d02-8f7a-40db-f700-0e0843508d0f"
   },
   "outputs": [],
   "source": [
    "from sklearn.decomposition import PCA\n",
    "pca = PCA(n_components=30)"
   ]
  },
  {
   "cell_type": "code",
   "execution_count": 18,
   "id": "91e7cdf9",
   "metadata": {},
   "outputs": [],
   "source": [
    "principalComponents = pca.fit_transform(X)"
   ]
  },
  {
   "cell_type": "code",
   "execution_count": 19,
   "id": "02f77668",
   "metadata": {},
   "outputs": [
    {
     "data": {
      "text/plain": [
       "(80176, 30)"
      ]
     },
     "execution_count": 19,
     "metadata": {},
     "output_type": "execute_result"
    }
   ],
   "source": [
    "principalComponents.shape"
   ]
  },
  {
   "cell_type": "code",
   "execution_count": 20,
   "id": "d44e1f8f",
   "metadata": {},
   "outputs": [],
   "source": [
    "out_df = pd.DataFrame(principalComponents)\n",
    "out_df['label'] = y\n",
    "\n",
    "out_df.to_csv('PCA_corr_train.csv')"
   ]
  },
  {
   "cell_type": "code",
   "execution_count": 21,
   "id": "3c84821e",
   "metadata": {},
   "outputs": [
    {
     "data": {
      "text/plain": [
       "(80176, 31)"
      ]
     },
     "execution_count": 21,
     "metadata": {},
     "output_type": "execute_result"
    }
   ],
   "source": [
    "out_df.shape"
   ]
  },
  {
   "cell_type": "code",
   "execution_count": 24,
   "id": "191656e7",
   "metadata": {},
   "outputs": [],
   "source": [
    "scaler = StandardScaler()\n",
    "# y = test_df.label\n",
    "X = scaler.fit_transform(test_df)\n",
    "pca = PCA(n_components=30)\n",
    "principalComponents = pca.fit_transform(X)\n",
    "out_df = pd.DataFrame(principalComponents)\n",
    "# out_df['label'] = y\n",
    "out_df.to_csv('PCA_corr_test.csv')"
   ]
  }
 ],
 "metadata": {
  "colab": {
   "provenance": []
  },
  "kernelspec": {
   "display_name": "Python 3 (ipykernel)",
   "language": "python",
   "name": "python3"
  },
  "language_info": {
   "codemirror_mode": {
    "name": "ipython",
    "version": 3
   },
   "file_extension": ".py",
   "mimetype": "text/x-python",
   "name": "python",
   "nbconvert_exporter": "python",
   "pygments_lexer": "ipython3",
   "version": "3.9.12"
  }
 },
 "nbformat": 4,
 "nbformat_minor": 5
}
