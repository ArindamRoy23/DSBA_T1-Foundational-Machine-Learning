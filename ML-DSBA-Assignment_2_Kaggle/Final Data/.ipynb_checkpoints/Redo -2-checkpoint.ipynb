{
 "cells": [
  {
   "cell_type": "code",
   "execution_count": 50,
   "id": "1b7ad8fb",
   "metadata": {},
   "outputs": [],
   "source": [
    "import pandas as pd \n",
    "import numpy as np"
   ]
  },
  {
   "cell_type": "code",
   "execution_count": 51,
   "id": "9ee5c1b8",
   "metadata": {},
   "outputs": [],
   "source": [
    "def ohe_mail_type (df):\n",
    "    unique_mail_types = df['mail_type'].apply(lambda x: x.split('/')).explode().unique()\n",
    "    for mt in unique_mail_types:\n",
    "        df[f'mail_type_{mt}'] = df['mail_type'].apply(lambda x: 1 if mt in x else 0)\n",
    "    df.drop('mail_type',axis =1,inplace = True)\n",
    "    return(df)\n",
    "\n",
    "\n",
    "def data_cleaner (df, chars_in_subject = 42 ):\n",
    "    df['org'] = df['org'].fillna('org_undefinded')\n",
    "    df['tld'] = df['tld'].fillna('tld_undefinded')\n",
    "    df['mail_type'] = df['mail_type'].fillna('mail_type_undefinded').apply(lambda x:x.lower())\n",
    "    df['chars_in_subject'] = df['chars_in_subject'].fillna(chars_in_subject)\n",
    "    df.drop([ 'date','tld'],axis= 1, inplace=True)\n",
    "    return (df)"
   ]
  },
  {
   "cell_type": "code",
   "execution_count": 151,
   "id": "fe17023c",
   "metadata": {},
   "outputs": [],
   "source": [
    "df = pd.read_csv('train.csv', )\n",
    "test_df = pd.read_csv('test.csv', )\n",
    "df.drop('Unnamed: 0',axis=1,inplace = True)\n",
    "test_df.drop('Unnamed: 0',axis=1,inplace = True)"
   ]
  },
  {
   "cell_type": "code",
   "execution_count": 152,
   "id": "6ca6a460",
   "metadata": {},
   "outputs": [],
   "source": [
    "df = ohe_mail_type(data_cleaner(df))\n",
    "test_df = ohe_mail_type(data_cleaner(test_df))\n",
    "\n",
    "# df.drop(['date','tld'], axis =1, inplace=True)"
   ]
  },
  {
   "cell_type": "code",
   "execution_count": 159,
   "id": "fce699d2",
   "metadata": {},
   "outputs": [
    {
     "name": "stdout",
     "output_type": "stream",
     "text": [
      "Index(['org', 'ccs', 'bcced', 'images', 'urls', 'salutations', 'designation',\n",
      "       'chars_in_subject', 'chars_in_body', 'label', 'mail_type_multipart',\n",
      "       'mail_type_alternative', 'mail_type_text', 'mail_type_html',\n",
      "       'mail_type_mixed', 'mail_type_related', 'mail_type_plain',\n",
      "       'mail_type_mail_type_undefinded', 'mail_type_html ', 'mail_type_signed',\n",
      "       'mail_type_report', 'mail_type_calendar', 'mail_type_idm'],\n",
      "      dtype='object')\n",
      "Index(['org', 'ccs', 'bcced', 'images', 'urls', 'salutations', 'designation',\n",
      "       'chars_in_subject', 'chars_in_body', 'mail_type_multipart',\n",
      "       'mail_type_alternative', 'mail_type_text', 'mail_type_html',\n",
      "       'mail_type_mixed', 'mail_type_plain', 'mail_type_mail_type_undefinded',\n",
      "       'mail_type_related', 'mail_type_html ', 'mail_type_report',\n",
      "       'mail_type_signed', 'mail_type_idm'],\n",
      "      dtype='object')\n"
     ]
    }
   ],
   "source": [
    "# Only display\n",
    "# df.groupby('label').agg(['median', 'std'])\n",
    "print(df.columns)\n",
    "print(test_df.columns)\n",
    "# print(set(df.columns.to_list())-set(test_df.columns.to_list()))\n",
    "test_df['mail_type_calendar'] = 0"
   ]
  },
  {
   "cell_type": "code",
   "execution_count": 160,
   "id": "b1bdeea6",
   "metadata": {},
   "outputs": [],
   "source": [
    "right_df = pd.read_csv('final_label_probab_df.csv')\n",
    "joint_df = df.merge(right_df, on='org', how='left', indicator=False)\n",
    "test_df = test_df.merge(right_df, on='org', how='left', indicator=False)\n",
    "\n",
    "# joint_df = df"
   ]
  },
  {
   "cell_type": "code",
   "execution_count": 161,
   "id": "9b7231c9",
   "metadata": {},
   "outputs": [],
   "source": [
    "joint_df.drop(['org'],axis = 1, inplace=True)\n",
    "test_df.drop(['org'],axis = 1, inplace=True)"
   ]
  },
  {
   "cell_type": "code",
   "execution_count": 162,
   "id": "7bf7b984",
   "metadata": {},
   "outputs": [],
   "source": [
    "from sklearn.preprocessing import StandardScaler\n",
    "scaler = StandardScaler()\n",
    "train_set = scaler.fit_transform(joint_df.drop('label', axis = 1))\n",
    "test_df = scaler.fit_transform(test_df)\n"
   ]
  },
  {
   "cell_type": "code",
   "execution_count": 163,
   "id": "db3eb4c0",
   "metadata": {},
   "outputs": [],
   "source": [
    "from sklearn.model_selection import train_test_split\n",
    "\n",
    "y = pd.get_dummies(joint_df.label)\n",
    "\n",
    "X_train, X_test, y_train, y_test = train_test_split(\n",
    "    train_set, y, test_size=0.1, random_state=42)"
   ]
  },
  {
   "cell_type": "code",
   "execution_count": 164,
   "id": "3c6e9635",
   "metadata": {},
   "outputs": [
    {
     "data": {
      "text/plain": [
       "(8018, 29)"
      ]
     },
     "execution_count": 164,
     "metadata": {},
     "output_type": "execute_result"
    }
   ],
   "source": [
    "X_train\n",
    "X_test.shape"
   ]
  },
  {
   "cell_type": "code",
   "execution_count": 165,
   "id": "65ce85c3",
   "metadata": {},
   "outputs": [],
   "source": [
    "\n",
    "import pandas \n",
    "from keras.models import Sequential\n",
    "from keras.layers import Dense\n",
    "from keras.layers import Dropout\n",
    "from keras.wrappers.scikit_learn import KerasClassifier\n",
    "from keras.utils import np_utils\n",
    "from sklearn.model_selection import cross_val_score\n",
    "from sklearn.model_selection import KFold\n",
    "from sklearn.preprocessing import LabelEncoder\n",
    "from sklearn.pipeline import Pipeline"
   ]
  },
  {
   "cell_type": "code",
   "execution_count": 141,
   "id": "d48690d9",
   "metadata": {},
   "outputs": [],
   "source": [
    "model = Sequential()\n",
    "model.add(Dense(74, input_shape=(29,), activation='relu'))\n",
    "# model.add(Dense(64, activation='tanh'))\n",
    "# model.add(Dense(32, activation='relu'))\n",
    "# model.add(Dropout(0.3))\n",
    "# model.add(Dense(64, activation='relu'))\n",
    "model.add(Dense(64, activation='relu'))\n",
    "model.add(Dense(8, activation='sigmoid')) \n",
    "model.compile(loss='binary_crossentropy', optimizer='adam', metrics=['accuracy'])\n"
   ]
  },
  {
   "cell_type": "code",
   "execution_count": 142,
   "id": "b3b89a6f",
   "metadata": {},
   "outputs": [
    {
     "name": "stdout",
     "output_type": "stream",
     "text": [
      "Epoch 1/20\n",
      "8018/8018 [==============================] - 6s 735us/step - loss: 0.1878 - accuracy: 0.5770\n",
      "Epoch 2/20\n",
      "8018/8018 [==============================] - 6s 733us/step - loss: 0.1788 - accuracy: 0.5892\n",
      "Epoch 3/20\n",
      "8018/8018 [==============================] - 6s 730us/step - loss: 0.1769 - accuracy: 0.5916\n",
      "Epoch 4/20\n",
      "8018/8018 [==============================] - 6s 734us/step - loss: 0.1760 - accuracy: 0.5925\n",
      "Epoch 5/20\n",
      "8018/8018 [==============================] - 6s 734us/step - loss: 0.1750 - accuracy: 0.5942\n",
      "Epoch 6/20\n",
      "8018/8018 [==============================] - 6s 736us/step - loss: 0.1743 - accuracy: 0.5955\n",
      "Epoch 7/20\n",
      "8018/8018 [==============================] - 6s 734us/step - loss: 0.1738 - accuracy: 0.5967\n",
      "Epoch 8/20\n",
      "8018/8018 [==============================] - 6s 732us/step - loss: 0.1733 - accuracy: 0.5973\n",
      "Epoch 9/20\n",
      "8018/8018 [==============================] - 6s 737us/step - loss: 0.1731 - accuracy: 0.5971\n",
      "Epoch 10/20\n",
      "8018/8018 [==============================] - 6s 732us/step - loss: 0.1729 - accuracy: 0.5979\n",
      "Epoch 11/20\n",
      "8018/8018 [==============================] - 6s 732us/step - loss: 0.1724 - accuracy: 0.5999\n",
      "Epoch 12/20\n",
      "8018/8018 [==============================] - 6s 745us/step - loss: 0.1723 - accuracy: 0.5999\n",
      "Epoch 13/20\n",
      "8018/8018 [==============================] - 6s 734us/step - loss: 0.1721 - accuracy: 0.6005\n",
      "Epoch 14/20\n",
      "8018/8018 [==============================] - 6s 731us/step - loss: 0.1721 - accuracy: 0.6001\n",
      "Epoch 15/20\n",
      "8018/8018 [==============================] - 6s 737us/step - loss: 0.1717 - accuracy: 0.6008\n",
      "Epoch 16/20\n",
      "8018/8018 [==============================] - 6s 733us/step - loss: 0.1718 - accuracy: 0.5995\n",
      "Epoch 17/20\n",
      "8018/8018 [==============================] - 6s 738us/step - loss: 0.1716 - accuracy: 0.6002\n",
      "Epoch 18/20\n",
      "8018/8018 [==============================] - 6s 737us/step - loss: 0.1715 - accuracy: 0.6018\n",
      "Epoch 19/20\n",
      "8018/8018 [==============================] - 6s 736us/step - loss: 0.1715 - accuracy: 0.6005\n",
      "Epoch 20/20\n",
      "8018/8018 [==============================] - 6s 739us/step - loss: 0.1712 - accuracy: 0.6022\n"
     ]
    },
    {
     "data": {
      "text/plain": [
       "<keras.callbacks.History at 0x241175718e0>"
      ]
     },
     "execution_count": 142,
     "metadata": {},
     "output_type": "execute_result"
    }
   ],
   "source": [
    "model.fit(train_set,y, epochs=20, batch_size=10)"
   ]
  },
  {
   "cell_type": "code",
   "execution_count": 168,
   "id": "5513e631",
   "metadata": {},
   "outputs": [
    {
     "name": "stdout",
     "output_type": "stream",
     "text": [
      "1074/1074 [==============================] - 1s 530us/step\n"
     ]
    }
   ],
   "source": [
    "a = model.predict(test_df)\n",
    "df_final = pd.DataFrame(a).idxmax(axis=1)\n",
    "df_final.to_csv('Submission/submission_10.csv')"
   ]
  }
 ],
 "metadata": {
  "kernelspec": {
   "display_name": "Python 3 (ipykernel)",
   "language": "python",
   "name": "python3"
  },
  "language_info": {
   "codemirror_mode": {
    "name": "ipython",
    "version": 3
   },
   "file_extension": ".py",
   "mimetype": "text/x-python",
   "name": "python",
   "nbconvert_exporter": "python",
   "pygments_lexer": "ipython3",
   "version": "3.9.12"
  }
 },
 "nbformat": 4,
 "nbformat_minor": 5
}
