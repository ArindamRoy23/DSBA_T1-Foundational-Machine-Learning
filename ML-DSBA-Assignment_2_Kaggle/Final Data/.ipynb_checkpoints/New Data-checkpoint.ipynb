{
 "cells": [
  {
   "cell_type": "code",
   "execution_count": 131,
   "id": "1b7ad8fb",
   "metadata": {},
   "outputs": [],
   "source": [
    "import pandas as pd \n",
    "import numpy as np\n",
    "from datetime import datetime\n",
    "from sklearn import preprocessing\n",
    "from sklearn.model_selection import train_test_split"
   ]
  },
  {
   "cell_type": "code",
   "execution_count": 157,
   "id": "79391d48",
   "metadata": {},
   "outputs": [],
   "source": [
    "\n",
    "import pandas \n",
    "from keras.models import Sequential\n",
    "from keras.layers import Dense\n",
    "from keras.layers import Dropout\n",
    "from keras.wrappers.scikit_learn import KerasClassifier\n",
    "from keras.utils import np_utils\n",
    "from sklearn.model_selection import cross_val_score\n",
    "from sklearn.model_selection import KFold\n",
    "from sklearn.preprocessing import LabelEncoder\n",
    "from sklearn.pipeline import Pipeline"
   ]
  },
  {
   "cell_type": "code",
   "execution_count": 158,
   "id": "9ee5c1b8",
   "metadata": {},
   "outputs": [],
   "source": [
    "def ohe_mail_type (df):\n",
    "    unique_mail_types = df['mail_type'].apply(lambda x: x.split('/')).explode().unique()\n",
    "    for mt in unique_mail_types:\n",
    "        df[f'mail_type_{mt}'] = df['mail_type'].apply(lambda x: 1 if mt in x else 0)\n",
    "    df.drop('mail_type',axis =1,inplace = True)\n",
    "    return(df)\n",
    "\n",
    "\n",
    "def data_cleaner (df, chars_in_subject = 42 ):\n",
    "    df.chars_in_subject = df.chars_in_subject.fillna(10)\n",
    "    df['org'] = df['org'].fillna('org_undefinded')\n",
    "    df['tld'] = df['tld'].fillna('tld_undefinded')\n",
    "    df['mail_type'] = df['mail_type'].fillna('mail_type_undefinded').apply(lambda x:x.lower())\n",
    "    df['chars_in_subject'] = df['chars_in_subject'].fillna(chars_in_subject)\n",
    "    df.drop([ 'date','tld'],axis= 1, inplace=True)\n",
    "    return (df)"
   ]
  },
  {
   "cell_type": "code",
   "execution_count": 159,
   "id": "fe17023c",
   "metadata": {},
   "outputs": [
    {
     "name": "stderr",
     "output_type": "stream",
     "text": [
      "C:\\Users\\arind\\AppData\\Local\\Temp\\ipykernel_25892\\1600230955.py:6: FutureWarning: The frame.append method is deprecated and will be removed from pandas in a future version. Use pandas.concat instead.\n",
      "  df = train_df.append(test_df, ignore_index=True)\n"
     ]
    }
   ],
   "source": [
    "train_df = pd.read_csv('train.csv', )\n",
    "test_df = pd.read_csv('test.csv', )\n",
    "# train_df.drop('Unnamed: 0',axis=1,inplace = True)\n",
    "# test_df.drop('Unnamed: 0',axis=1,inplace = True)\n",
    "test_df['label'] = 'test_df'\n",
    "df = train_df.append(test_df, ignore_index=True)\n",
    "# df[df ['Unnamed: 0'] == 40]"
   ]
  },
  {
   "cell_type": "code",
   "execution_count": 160,
   "id": "22b01513",
   "metadata": {},
   "outputs": [],
   "source": [
    "df['chars_in_subject'] = df['chars_in_subject'].fillna(10)\n",
    "df.org = df.org.fillna('org_unknown')\n",
    "df['Ratio-SubtoBody'] = df['chars_in_body'] / (df['chars_in_subject'] + df['chars_in_body'])"
   ]
  },
  {
   "cell_type": "code",
   "execution_count": 161,
   "id": "3701c263",
   "metadata": {},
   "outputs": [],
   "source": [
    "import datefinder\n",
    "# df['day'] = df['date'].apply(lambda x:x.split(',')[0])\n",
    "def find_date(x):\n",
    "    for x in datefinder.find_dates(x):\n",
    "        return(x)\n",
    "        break\n",
    "\n",
    "df['date'] = df['date'].apply(find_date)"
   ]
  },
  {
   "cell_type": "code",
   "execution_count": 162,
   "id": "bc489f7c",
   "metadata": {},
   "outputs": [],
   "source": [
    "df['date'] = pd.to_datetime(df['date'], utc = True)\n",
    "df['year'] = pd.DatetimeIndex(df['date']).year\n",
    "df['month'] = pd.DatetimeIndex(df['date']).month\n",
    "df['weekday'] = pd.DatetimeIndex(df['date']).dayofweek\n",
    "df['hour'] = pd.DatetimeIndex(df['date']).hour\n",
    "df.drop('date',axis=1,inplace=True)"
   ]
  },
  {
   "cell_type": "code",
   "execution_count": 163,
   "id": "49dad0a7",
   "metadata": {},
   "outputs": [],
   "source": [
    "df['tld'] = df['tld'].fillna('com')\n",
    "df['tld_back'] = df['tld'].apply(lambda x : x.split('.')[-1] if '.' in x else x ).apply(lambda x : x.lower())\n",
    "df['mail_type'] = df['mail_type'].apply(lambda x : str(x).lower()).fillna('multipart/alternative')"
   ]
  },
  {
   "cell_type": "code",
   "execution_count": 164,
   "id": "359a8d83",
   "metadata": {},
   "outputs": [],
   "source": [
    "df = pd.get_dummies(df, prefix=['MailType'], columns = ['mail_type'],drop_first=False)"
   ]
  },
  {
   "cell_type": "code",
   "execution_count": 165,
   "id": "641dbdda",
   "metadata": {},
   "outputs": [],
   "source": [
    "df['tld_front'] = df.tld.apply(lambda x: x.split('.')[0] if '.' in x else '0')"
   ]
  },
  {
   "cell_type": "code",
   "execution_count": 166,
   "id": "5a127efd",
   "metadata": {},
   "outputs": [
    {
     "data": {
      "text/plain": [
       "['org', 'tld', 'label', 'tld_back', 'tld_front']"
      ]
     },
     "execution_count": 166,
     "metadata": {},
     "output_type": "execute_result"
    }
   ],
   "source": [
    "a = df.dtypes.to_frame('type').reset_index()\n",
    "a[(a['type']=='object') ]['index'].to_list()"
   ]
  },
  {
   "cell_type": "code",
   "execution_count": null,
   "id": "3b0eaf29",
   "metadata": {},
   "outputs": [],
   "source": []
  },
  {
   "cell_type": "code",
   "execution_count": 167,
   "id": "34588cd5",
   "metadata": {},
   "outputs": [],
   "source": [
    "for x in a[(a['type']=='object') ]['index'].to_list(): \n",
    "    if x != 'label':\n",
    "        le_org = preprocessing.LabelEncoder()\n",
    "        df[x] = le_org.fit_transform(df[x])"
   ]
  },
  {
   "cell_type": "code",
   "execution_count": 168,
   "id": "f55df643",
   "metadata": {},
   "outputs": [],
   "source": [
    "\n",
    "df = df.set_index('Unnamed: 0', drop=True)\n",
    "\n"
   ]
  },
  {
   "cell_type": "code",
   "execution_count": 192,
   "id": "081333e5",
   "metadata": {},
   "outputs": [],
   "source": [
    "to_scale = []\n",
    "for col in df.columns:\n",
    "    if len(df[col].unique())>2:\n",
    "        to_scale.append(col)\n",
    " "
   ]
  },
  {
   "cell_type": "code",
   "execution_count": 193,
   "id": "e5790ea9",
   "metadata": {},
   "outputs": [
    {
     "data": {
      "text/plain": [
       "['org',\n",
       " 'tld',\n",
       " 'ccs',\n",
       " 'images',\n",
       " 'urls',\n",
       " 'chars_in_subject',\n",
       " 'chars_in_body',\n",
       " 'label',\n",
       " 'Ratio-SubtoBody',\n",
       " 'year',\n",
       " 'month',\n",
       " 'weekday',\n",
       " 'hour',\n",
       " 'tld_back',\n",
       " 'tld_front']"
      ]
     },
     "execution_count": 193,
     "metadata": {},
     "output_type": "execute_result"
    }
   ],
   "source": [
    "to_scale"
   ]
  },
  {
   "cell_type": "code",
   "execution_count": 194,
   "id": "64052643",
   "metadata": {},
   "outputs": [],
   "source": [
    "to_scale_stsc = ['ccs',\n",
    " 'images',\n",
    " 'urls',\n",
    " 'chars_in_subject',\n",
    " 'chars_in_body','Ratio-SubtoBody']"
   ]
  },
  {
   "cell_type": "code",
   "execution_count": 195,
   "id": "5a67367c",
   "metadata": {},
   "outputs": [],
   "source": [
    "to_scale_nosc = list(set(to_scale) - set(to_scale_stsc))"
   ]
  },
  {
   "cell_type": "code",
   "execution_count": 196,
   "id": "f30ba755",
   "metadata": {},
   "outputs": [],
   "source": [
    "from sklearn.preprocessing import StandardScaler\n",
    "for val in to_scale_stsc:\n",
    "    sc = StandardScaler()\n",
    "#     df[val] = sc.fit_transform(df[val])\n",
    "    df[val] = sc.fit_transform(df[[val]])\n",
    "# sc.transform"
   ]
  },
  {
   "cell_type": "code",
   "execution_count": 199,
   "id": "ddd0b365",
   "metadata": {},
   "outputs": [],
   "source": [
    "for val in to_scale_nosc:\n",
    "    \n",
    "#     df[val] = sc.fit_transform(df[val])\n",
    "    if val!= 'label':\n",
    "        df[val] = (df[val] - df[val].mean())/df[val].max()"
   ]
  },
  {
   "cell_type": "code",
   "execution_count": 201,
   "id": "f8b4052c",
   "metadata": {},
   "outputs": [
    {
     "data": {
      "text/plain": [
       "['label',\n",
       " 'hour',\n",
       " 'org',\n",
       " 'year',\n",
       " 'tld_front',\n",
       " 'tld_back',\n",
       " 'tld',\n",
       " 'weekday',\n",
       " 'month']"
      ]
     },
     "execution_count": 201,
     "metadata": {},
     "output_type": "execute_result"
    }
   ],
   "source": [
    "to_scale_nosc"
   ]
  },
  {
   "cell_type": "code",
   "execution_count": 202,
   "id": "e4025593",
   "metadata": {},
   "outputs": [
    {
     "name": "stderr",
     "output_type": "stream",
     "text": [
      "C:\\Users\\arind\\AppData\\Local\\Temp\\ipykernel_25892\\2717079273.py:2: SettingWithCopyWarning: \n",
      "A value is trying to be set on a copy of a slice from a DataFrame.\n",
      "Try using .loc[row_indexer,col_indexer] = value instead\n",
      "\n",
      "See the caveats in the documentation: https://pandas.pydata.org/pandas-docs/stable/user_guide/indexing.html#returning-a-view-versus-a-copy\n",
      "  train_df['label'] = train_df['label'].astype('int')\n"
     ]
    }
   ],
   "source": [
    "train_df = df[df['label'] != 'test_df']\n",
    "train_df['label'] = train_df['label'].astype('int')\n",
    "test_df = df[df['label'] == 'test_df']"
   ]
  },
  {
   "cell_type": "code",
   "execution_count": null,
   "id": "9ee66faa",
   "metadata": {},
   "outputs": [],
   "source": []
  },
  {
   "cell_type": "code",
   "execution_count": 203,
   "id": "1cbe79e5",
   "metadata": {},
   "outputs": [],
   "source": [
    "y = pd.get_dummies(train_df.label)\n",
    "X_train, X_test, y_train, y_test = train_test_split(\n",
    "    train_df.drop('label',axis=1), y, test_size=0.1, random_state=42)"
   ]
  },
  {
   "cell_type": "code",
   "execution_count": 205,
   "id": "33c64384",
   "metadata": {},
   "outputs": [
    {
     "data": {
      "text/html": [
       "<div>\n",
       "<style scoped>\n",
       "    .dataframe tbody tr th:only-of-type {\n",
       "        vertical-align: middle;\n",
       "    }\n",
       "\n",
       "    .dataframe tbody tr th {\n",
       "        vertical-align: top;\n",
       "    }\n",
       "\n",
       "    .dataframe thead th {\n",
       "        text-align: right;\n",
       "    }\n",
       "</style>\n",
       "<table border=\"1\" class=\"dataframe\">\n",
       "  <thead>\n",
       "    <tr style=\"text-align: right;\">\n",
       "      <th></th>\n",
       "      <th>org</th>\n",
       "      <th>tld</th>\n",
       "      <th>ccs</th>\n",
       "      <th>bcced</th>\n",
       "      <th>images</th>\n",
       "      <th>urls</th>\n",
       "      <th>salutations</th>\n",
       "      <th>designation</th>\n",
       "      <th>chars_in_subject</th>\n",
       "      <th>chars_in_body</th>\n",
       "      <th>...</th>\n",
       "      <th>MailType_multipart/mixed</th>\n",
       "      <th>MailType_multipart/related</th>\n",
       "      <th>MailType_multipart/report</th>\n",
       "      <th>MailType_multipart/signed</th>\n",
       "      <th>MailType_nan</th>\n",
       "      <th>MailType_text/calendar</th>\n",
       "      <th>MailType_text/html</th>\n",
       "      <th>MailType_text/html</th>\n",
       "      <th>MailType_text/plain</th>\n",
       "      <th>tld_front</th>\n",
       "    </tr>\n",
       "    <tr>\n",
       "      <th>Unnamed: 0</th>\n",
       "      <th></th>\n",
       "      <th></th>\n",
       "      <th></th>\n",
       "      <th></th>\n",
       "      <th></th>\n",
       "      <th></th>\n",
       "      <th></th>\n",
       "      <th></th>\n",
       "      <th></th>\n",
       "      <th></th>\n",
       "      <th></th>\n",
       "      <th></th>\n",
       "      <th></th>\n",
       "      <th></th>\n",
       "      <th></th>\n",
       "      <th></th>\n",
       "      <th></th>\n",
       "      <th></th>\n",
       "      <th></th>\n",
       "      <th></th>\n",
       "      <th></th>\n",
       "    </tr>\n",
       "  </thead>\n",
       "  <tbody>\n",
       "    <tr>\n",
       "      <th>64167</th>\n",
       "      <td>-0.253735</td>\n",
       "      <td>-0.201793</td>\n",
       "      <td>0.159858</td>\n",
       "      <td>0</td>\n",
       "      <td>-0.021021</td>\n",
       "      <td>-0.294922</td>\n",
       "      <td>1</td>\n",
       "      <td>0</td>\n",
       "      <td>-0.133016</td>\n",
       "      <td>-0.103660</td>\n",
       "      <td>...</td>\n",
       "      <td>0</td>\n",
       "      <td>0</td>\n",
       "      <td>0</td>\n",
       "      <td>0</td>\n",
       "      <td>0</td>\n",
       "      <td>0</td>\n",
       "      <td>0</td>\n",
       "      <td>0</td>\n",
       "      <td>0</td>\n",
       "      <td>-0.071740</td>\n",
       "    </tr>\n",
       "    <tr>\n",
       "      <th>13178</th>\n",
       "      <td>0.068487</td>\n",
       "      <td>0.148042</td>\n",
       "      <td>-0.146616</td>\n",
       "      <td>0</td>\n",
       "      <td>-0.000584</td>\n",
       "      <td>0.139603</td>\n",
       "      <td>0</td>\n",
       "      <td>0</td>\n",
       "      <td>1.408330</td>\n",
       "      <td>-0.083052</td>\n",
       "      <td>...</td>\n",
       "      <td>0</td>\n",
       "      <td>0</td>\n",
       "      <td>0</td>\n",
       "      <td>0</td>\n",
       "      <td>0</td>\n",
       "      <td>0</td>\n",
       "      <td>0</td>\n",
       "      <td>0</td>\n",
       "      <td>0</td>\n",
       "      <td>0.307427</td>\n",
       "    </tr>\n",
       "    <tr>\n",
       "      <th>27953</th>\n",
       "      <td>0.279395</td>\n",
       "      <td>-0.023576</td>\n",
       "      <td>-0.146616</td>\n",
       "      <td>0</td>\n",
       "      <td>-0.021021</td>\n",
       "      <td>-0.294922</td>\n",
       "      <td>0</td>\n",
       "      <td>0</td>\n",
       "      <td>0.163397</td>\n",
       "      <td>-0.103719</td>\n",
       "      <td>...</td>\n",
       "      <td>0</td>\n",
       "      <td>0</td>\n",
       "      <td>0</td>\n",
       "      <td>0</td>\n",
       "      <td>0</td>\n",
       "      <td>0</td>\n",
       "      <td>0</td>\n",
       "      <td>0</td>\n",
       "      <td>1</td>\n",
       "      <td>-0.071740</td>\n",
       "    </tr>\n",
       "    <tr>\n",
       "      <th>1668</th>\n",
       "      <td>0.068487</td>\n",
       "      <td>0.148042</td>\n",
       "      <td>-0.146616</td>\n",
       "      <td>0</td>\n",
       "      <td>0.006229</td>\n",
       "      <td>0.335565</td>\n",
       "      <td>0</td>\n",
       "      <td>0</td>\n",
       "      <td>-0.221940</td>\n",
       "      <td>-0.073937</td>\n",
       "      <td>...</td>\n",
       "      <td>0</td>\n",
       "      <td>0</td>\n",
       "      <td>0</td>\n",
       "      <td>0</td>\n",
       "      <td>0</td>\n",
       "      <td>0</td>\n",
       "      <td>0</td>\n",
       "      <td>0</td>\n",
       "      <td>0</td>\n",
       "      <td>0.307427</td>\n",
       "    </tr>\n",
       "    <tr>\n",
       "      <th>55516</th>\n",
       "      <td>0.824243</td>\n",
       "      <td>0.124939</td>\n",
       "      <td>-0.146616</td>\n",
       "      <td>0</td>\n",
       "      <td>-0.021021</td>\n",
       "      <td>-0.277882</td>\n",
       "      <td>1</td>\n",
       "      <td>0</td>\n",
       "      <td>-0.933330</td>\n",
       "      <td>-0.099121</td>\n",
       "      <td>...</td>\n",
       "      <td>0</td>\n",
       "      <td>0</td>\n",
       "      <td>0</td>\n",
       "      <td>0</td>\n",
       "      <td>0</td>\n",
       "      <td>0</td>\n",
       "      <td>0</td>\n",
       "      <td>0</td>\n",
       "      <td>0</td>\n",
       "      <td>-0.071740</td>\n",
       "    </tr>\n",
       "    <tr>\n",
       "      <th>...</th>\n",
       "      <td>...</td>\n",
       "      <td>...</td>\n",
       "      <td>...</td>\n",
       "      <td>...</td>\n",
       "      <td>...</td>\n",
       "      <td>...</td>\n",
       "      <td>...</td>\n",
       "      <td>...</td>\n",
       "      <td>...</td>\n",
       "      <td>...</td>\n",
       "      <td>...</td>\n",
       "      <td>...</td>\n",
       "      <td>...</td>\n",
       "      <td>...</td>\n",
       "      <td>...</td>\n",
       "      <td>...</td>\n",
       "      <td>...</td>\n",
       "      <td>...</td>\n",
       "      <td>...</td>\n",
       "      <td>...</td>\n",
       "      <td>...</td>\n",
       "    </tr>\n",
       "    <tr>\n",
       "      <th>6265</th>\n",
       "      <td>-0.163904</td>\n",
       "      <td>-0.228196</td>\n",
       "      <td>0.159858</td>\n",
       "      <td>0</td>\n",
       "      <td>-0.016480</td>\n",
       "      <td>-0.294922</td>\n",
       "      <td>0</td>\n",
       "      <td>0</td>\n",
       "      <td>0.815504</td>\n",
       "      <td>0.188410</td>\n",
       "      <td>...</td>\n",
       "      <td>1</td>\n",
       "      <td>0</td>\n",
       "      <td>0</td>\n",
       "      <td>0</td>\n",
       "      <td>0</td>\n",
       "      <td>0</td>\n",
       "      <td>0</td>\n",
       "      <td>0</td>\n",
       "      <td>0</td>\n",
       "      <td>-0.034240</td>\n",
       "    </tr>\n",
       "    <tr>\n",
       "      <th>54886</th>\n",
       "      <td>0.000136</td>\n",
       "      <td>-0.023576</td>\n",
       "      <td>-0.146616</td>\n",
       "      <td>0</td>\n",
       "      <td>0.003958</td>\n",
       "      <td>-0.005239</td>\n",
       "      <td>0</td>\n",
       "      <td>0</td>\n",
       "      <td>0.104114</td>\n",
       "      <td>-0.089006</td>\n",
       "      <td>...</td>\n",
       "      <td>0</td>\n",
       "      <td>0</td>\n",
       "      <td>0</td>\n",
       "      <td>0</td>\n",
       "      <td>0</td>\n",
       "      <td>0</td>\n",
       "      <td>0</td>\n",
       "      <td>0</td>\n",
       "      <td>0</td>\n",
       "      <td>-0.071740</td>\n",
       "    </tr>\n",
       "    <tr>\n",
       "      <th>76820</th>\n",
       "      <td>-0.163904</td>\n",
       "      <td>-0.228196</td>\n",
       "      <td>-0.146616</td>\n",
       "      <td>0</td>\n",
       "      <td>-0.021021</td>\n",
       "      <td>-0.209721</td>\n",
       "      <td>0</td>\n",
       "      <td>0</td>\n",
       "      <td>-0.903689</td>\n",
       "      <td>-0.102599</td>\n",
       "      <td>...</td>\n",
       "      <td>0</td>\n",
       "      <td>0</td>\n",
       "      <td>0</td>\n",
       "      <td>0</td>\n",
       "      <td>0</td>\n",
       "      <td>0</td>\n",
       "      <td>0</td>\n",
       "      <td>0</td>\n",
       "      <td>0</td>\n",
       "      <td>-0.034240</td>\n",
       "    </tr>\n",
       "    <tr>\n",
       "      <th>860</th>\n",
       "      <td>-0.118988</td>\n",
       "      <td>0.204147</td>\n",
       "      <td>-0.146616</td>\n",
       "      <td>0</td>\n",
       "      <td>-0.021021</td>\n",
       "      <td>-0.294922</td>\n",
       "      <td>1</td>\n",
       "      <td>0</td>\n",
       "      <td>-0.992613</td>\n",
       "      <td>-0.103216</td>\n",
       "      <td>...</td>\n",
       "      <td>0</td>\n",
       "      <td>0</td>\n",
       "      <td>0</td>\n",
       "      <td>0</td>\n",
       "      <td>0</td>\n",
       "      <td>0</td>\n",
       "      <td>0</td>\n",
       "      <td>0</td>\n",
       "      <td>0</td>\n",
       "      <td>0.369927</td>\n",
       "    </tr>\n",
       "    <tr>\n",
       "      <th>15795</th>\n",
       "      <td>0.845724</td>\n",
       "      <td>0.164543</td>\n",
       "      <td>-0.146616</td>\n",
       "      <td>0</td>\n",
       "      <td>-0.021021</td>\n",
       "      <td>-0.277882</td>\n",
       "      <td>0</td>\n",
       "      <td>0</td>\n",
       "      <td>-0.785124</td>\n",
       "      <td>-0.102994</td>\n",
       "      <td>...</td>\n",
       "      <td>0</td>\n",
       "      <td>0</td>\n",
       "      <td>0</td>\n",
       "      <td>0</td>\n",
       "      <td>0</td>\n",
       "      <td>0</td>\n",
       "      <td>0</td>\n",
       "      <td>0</td>\n",
       "      <td>0</td>\n",
       "      <td>-0.071740</td>\n",
       "    </tr>\n",
       "  </tbody>\n",
       "</table>\n",
       "<p>72158 rows × 28 columns</p>\n",
       "</div>"
      ],
      "text/plain": [
       "                 org       tld       ccs  bcced    images      urls  \\\n",
       "Unnamed: 0                                                            \n",
       "64167      -0.253735 -0.201793  0.159858      0 -0.021021 -0.294922   \n",
       "13178       0.068487  0.148042 -0.146616      0 -0.000584  0.139603   \n",
       "27953       0.279395 -0.023576 -0.146616      0 -0.021021 -0.294922   \n",
       "1668        0.068487  0.148042 -0.146616      0  0.006229  0.335565   \n",
       "55516       0.824243  0.124939 -0.146616      0 -0.021021 -0.277882   \n",
       "...              ...       ...       ...    ...       ...       ...   \n",
       "6265       -0.163904 -0.228196  0.159858      0 -0.016480 -0.294922   \n",
       "54886       0.000136 -0.023576 -0.146616      0  0.003958 -0.005239   \n",
       "76820      -0.163904 -0.228196 -0.146616      0 -0.021021 -0.209721   \n",
       "860        -0.118988  0.204147 -0.146616      0 -0.021021 -0.294922   \n",
       "15795       0.845724  0.164543 -0.146616      0 -0.021021 -0.277882   \n",
       "\n",
       "            salutations  designation  chars_in_subject  chars_in_body  ...  \\\n",
       "Unnamed: 0                                                             ...   \n",
       "64167                 1            0         -0.133016      -0.103660  ...   \n",
       "13178                 0            0          1.408330      -0.083052  ...   \n",
       "27953                 0            0          0.163397      -0.103719  ...   \n",
       "1668                  0            0         -0.221940      -0.073937  ...   \n",
       "55516                 1            0         -0.933330      -0.099121  ...   \n",
       "...                 ...          ...               ...            ...  ...   \n",
       "6265                  0            0          0.815504       0.188410  ...   \n",
       "54886                 0            0          0.104114      -0.089006  ...   \n",
       "76820                 0            0         -0.903689      -0.102599  ...   \n",
       "860                   1            0         -0.992613      -0.103216  ...   \n",
       "15795                 0            0         -0.785124      -0.102994  ...   \n",
       "\n",
       "            MailType_multipart/mixed  MailType_multipart/related  \\\n",
       "Unnamed: 0                                                         \n",
       "64167                              0                           0   \n",
       "13178                              0                           0   \n",
       "27953                              0                           0   \n",
       "1668                               0                           0   \n",
       "55516                              0                           0   \n",
       "...                              ...                         ...   \n",
       "6265                               1                           0   \n",
       "54886                              0                           0   \n",
       "76820                              0                           0   \n",
       "860                                0                           0   \n",
       "15795                              0                           0   \n",
       "\n",
       "            MailType_multipart/report  MailType_multipart/signed  \\\n",
       "Unnamed: 0                                                         \n",
       "64167                               0                          0   \n",
       "13178                               0                          0   \n",
       "27953                               0                          0   \n",
       "1668                                0                          0   \n",
       "55516                               0                          0   \n",
       "...                               ...                        ...   \n",
       "6265                                0                          0   \n",
       "54886                               0                          0   \n",
       "76820                               0                          0   \n",
       "860                                 0                          0   \n",
       "15795                               0                          0   \n",
       "\n",
       "            MailType_nan  MailType_text/calendar  MailType_text/html  \\\n",
       "Unnamed: 0                                                             \n",
       "64167                  0                       0                   0   \n",
       "13178                  0                       0                   0   \n",
       "27953                  0                       0                   0   \n",
       "1668                   0                       0                   0   \n",
       "55516                  0                       0                   0   \n",
       "...                  ...                     ...                 ...   \n",
       "6265                   0                       0                   0   \n",
       "54886                  0                       0                   0   \n",
       "76820                  0                       0                   0   \n",
       "860                    0                       0                   0   \n",
       "15795                  0                       0                   0   \n",
       "\n",
       "            MailType_text/html   MailType_text/plain  tld_front  \n",
       "Unnamed: 0                                                       \n",
       "64167                         0                    0  -0.071740  \n",
       "13178                         0                    0   0.307427  \n",
       "27953                         0                    1  -0.071740  \n",
       "1668                          0                    0   0.307427  \n",
       "55516                         0                    0  -0.071740  \n",
       "...                         ...                  ...        ...  \n",
       "6265                          0                    0  -0.034240  \n",
       "54886                         0                    0  -0.071740  \n",
       "76820                         0                    0  -0.034240  \n",
       "860                           0                    0   0.369927  \n",
       "15795                         0                    0  -0.071740  \n",
       "\n",
       "[72158 rows x 28 columns]"
      ]
     },
     "execution_count": 205,
     "metadata": {},
     "output_type": "execute_result"
    }
   ],
   "source": [
    "X_train"
   ]
  },
  {
   "cell_type": "code",
   "execution_count": 208,
   "id": "65f3f9db",
   "metadata": {},
   "outputs": [],
   "source": [
    "model = Sequential()\n",
    "model.add(Dense(28, input_shape=(28,), activation='relu'))\n",
    "# model.add(Dense(29, activation='relu'))\n",
    "model.add(Dense(29, activation='relu'))\n",
    "model.add(Dense(8, activation='sigmoid'))"
   ]
  },
  {
   "cell_type": "code",
   "execution_count": 210,
   "id": "9ed634d9",
   "metadata": {},
   "outputs": [
    {
     "name": "stdout",
     "output_type": "stream",
     "text": [
      "Epoch 1/5\n",
      "7216/7216 [==============================] - 12s 2ms/step - loss: 0.2041 - accuracy: 0.5475 - val_loss: 0.2038 - val_accuracy: 0.5551\n",
      "Epoch 2/5\n",
      "7216/7216 [==============================] - 10s 1ms/step - loss: 0.2027 - accuracy: 0.5498 - val_loss: 0.2020 - val_accuracy: 0.5530\n",
      "Epoch 3/5\n",
      "7216/7216 [==============================] - 10s 1ms/step - loss: 0.2017 - accuracy: 0.5506 - val_loss: 0.2014 - val_accuracy: 0.5418\n",
      "Epoch 4/5\n",
      "7216/7216 [==============================] - 10s 1ms/step - loss: 0.2007 - accuracy: 0.5535 - val_loss: 0.2013 - val_accuracy: 0.5434\n",
      "Epoch 5/5\n",
      "7216/7216 [==============================] - 10s 1ms/step - loss: 0.1998 - accuracy: 0.5548 - val_loss: 0.1997 - val_accuracy: 0.5600\n"
     ]
    },
    {
     "data": {
      "text/plain": [
       "<keras.callbacks.History at 0x1451e843730>"
      ]
     },
     "execution_count": 210,
     "metadata": {},
     "output_type": "execute_result"
    }
   ],
   "source": [
    "model.compile(loss='binary_crossentropy', optimizer='adam', metrics=['accuracy'])\n",
    "model.fit(X_train,y_train,validation_data=(X_test, y_test), epochs=5, batch_size=10)"
   ]
  },
  {
   "cell_type": "code",
   "execution_count": 211,
   "id": "38ef3bdf",
   "metadata": {},
   "outputs": [],
   "source": [
    "import numpy as np\n",
    "import matplotlib.pyplot as plt\n",
    "import pandas as pd\n",
    "import pandas as pd\n",
    "import matplotlib.pyplot as plt\n",
    "import numpy as np\n",
    "\n",
    "from keras.models import Sequential\n",
    "from keras.layers import Dense, Activation, Embedding, Flatten, LeakyReLU, BatchNormalization, Dropout\n",
    "from keras.activations import relu, sigmoid\n",
    "from keras.layers import LeakyReLU\n",
    "\n",
    "from sklearn.preprocessing import StandardScaler"
   ]
  },
  {
   "cell_type": "code",
   "execution_count": 212,
   "id": "8535dda8",
   "metadata": {},
   "outputs": [],
   "source": [
    "from keras.wrappers.scikit_learn import KerasClassifier\n",
    "from sklearn.model_selection import GridSearchCV"
   ]
  },
  {
   "cell_type": "code",
   "execution_count": 213,
   "id": "39324e28",
   "metadata": {},
   "outputs": [
    {
     "name": "stderr",
     "output_type": "stream",
     "text": [
      "C:\\Users\\arind\\AppData\\Local\\Temp\\ipykernel_25892\\3610109041.py:15: DeprecationWarning: KerasClassifier is deprecated, use Sci-Keras (https://github.com/adriangb/scikeras) instead. See https://www.adriangb.com/scikeras/stable/migration.html for help migrating.\n",
      "  model = KerasClassifier(build_fn=create_model, verbose=0)\n"
     ]
    }
   ],
   "source": [
    "def create_model(layers, activation):\n",
    "    model = Sequential()\n",
    "    for i, nodes in enumerate(layers):\n",
    "        if i==0:\n",
    "            model.add(Dense(nodes,input_dim=X_train.shape[1]))\n",
    "            model.add(Activation(activation))\n",
    "        else:\n",
    "            model.add(Dense(nodes))\n",
    "            model.add(Activation(activation))\n",
    "    model.add(Dense(8)) # Note: no activation beyond this point\n",
    "    \n",
    "    model.compile(optimizer='adam', loss='binary_crossentropy',metrics=['accuracy'])\n",
    "    return model\n",
    "    \n",
    "model = KerasClassifier(build_fn=create_model, verbose=0)"
   ]
  },
  {
   "cell_type": "code",
   "execution_count": 214,
   "id": "5788d704",
   "metadata": {},
   "outputs": [],
   "source": [
    "layers = [[20], [40, 20], [45, 30, 15]]\n",
    "activations = ['sigmoid', 'relu']\n",
    "param_grid = dict(layers=layers, activation=activations, batch_size = [128, 256], epochs=[30])\n",
    "grid = GridSearchCV(estimator=model, param_grid=param_grid)"
   ]
  },
  {
   "cell_type": "code",
   "execution_count": null,
   "id": "b0df7580",
   "metadata": {},
   "outputs": [],
   "source": [
    "grid_result = grid.fit(X_train, y_train)"
   ]
  }
 ],
 "metadata": {
  "kernelspec": {
   "display_name": "Python 3 (ipykernel)",
   "language": "python",
   "name": "python3"
  },
  "language_info": {
   "codemirror_mode": {
    "name": "ipython",
    "version": 3
   },
   "file_extension": ".py",
   "mimetype": "text/x-python",
   "name": "python",
   "nbconvert_exporter": "python",
   "pygments_lexer": "ipython3",
   "version": "3.9.12"
  }
 },
 "nbformat": 4,
 "nbformat_minor": 5
}
