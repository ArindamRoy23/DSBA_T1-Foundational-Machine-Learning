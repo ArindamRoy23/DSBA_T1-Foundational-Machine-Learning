{
 "cells": [
  {
   "cell_type": "code",
   "execution_count": 1,
   "id": "11d85446",
   "metadata": {
    "id": "11d85446"
   },
   "outputs": [],
   "source": [
    "import numpy as np\n",
    "import pandas as pd\n",
    "from sklearn import preprocessing\n",
    "import datetime\n",
    "from datetime import datetime\n",
    "from sklearn.preprocessing import OneHotEncoder\n",
    "from sklearn import preprocessing"
   ]
  },
  {
   "cell_type": "code",
   "execution_count": 2,
   "id": "gB7lmi4aknSa",
   "metadata": {
    "id": "gB7lmi4aknSa"
   },
   "outputs": [],
   "source": [
    "def findd(df):\n",
    "    index = df.find(',')\n",
    "    if index == -1:\n",
    "        index = 0\n",
    "    else:\n",
    "        index = index+2\n",
    "    return index\n",
    "\n",
    "def finddd(df):\n",
    "    index1 = df.find('+')\n",
    "    index2 = df.find('-')\n",
    "    return max(index1, index2)\n",
    "\n",
    "def fin(df):\n",
    "    index = df.find(':')\n",
    "    return index\n",
    "\n",
    "def period(x):\n",
    "  if x<11:\n",
    "    return 'start'\n",
    "  elif x<21:\n",
    "    return 'middle'\n",
    "  else:\n",
    "    return 'end'\n",
    "\n",
    "def determining_week(x):\n",
    "  index = x.find('/')\n",
    "  hour = int(x[:index])\n",
    "  weekday = int(x[index+1:])\n",
    "  if hour >= 9 and hour < 17 and weekday != 0 and weekday != 6:\n",
    "    return 'weekday'\n",
    "  elif hour >= 9 and hour < 17 and (weekday == 0 or weekday == 6):\n",
    "    return 'weekend'\n",
    "  else:\n",
    "    return 'all week'\n",
    "\n",
    "def determining_day(x):\n",
    "  index = x.find('/')\n",
    "  hour = int(x[:index])\n",
    "  weekday = int(x[index+1:])\n",
    "  if hour >= 9 and hour < 17 and weekday != 0 and weekday != 6:\n",
    "    return 'working hours'\n",
    "  elif hour >= 9 and hour < 17 and (weekday == 0 or weekday == 6):\n",
    "    return 'weekend day'\n",
    "  elif hour >= 17 and hour <= 23:\n",
    "    return 'evening'\n",
    "  elif hour <= 5:\n",
    "    return 'night'\n",
    "  else:\n",
    "    return 'morning'\n",
    "\n",
    "def feature_engineering(train_df):\n",
    "\n",
    "  train_df['date'] = train_df['date'].apply(lambda x: x.replace(\"  \",\" \")) #some rows have extra space\n",
    "\n",
    "  train_df['day'] = train_df['date'].apply(lambda x: x[findd(x):findd(x)+2].replace(\" \", \"\"))\n",
    "  train_df['day'] = train_df['day'].apply(lambda x: '0'+x if len(x)==1 else x) # to be used for datetime\n",
    "\n",
    "  train_df['month'] = train_df['date'].apply(lambda x: x[findd(x)+2:findd(x)+6].replace(\" \", \"\"))\n",
    "\n",
    "  train_df['year'] = train_df['date'].apply(lambda x: x[findd(x)+6:findd(x)+11].replace(\" \", \"\"))\n",
    "\n",
    "  train_df['hour'] = train_df['date'].apply(lambda x: x[findd(x)+11:fin(x)].replace(\" \", \"\"))\n",
    "\n",
    "  train_df['minute'] = train_df['date'].apply(lambda x: x[fin(x)+1:fin(x)+3].replace(\" \", \"\"))\n",
    "\n",
    "  train_df['second'] = train_df['date'].apply(lambda x: x[fin(x)+4:fin(x)+6].replace(\" \", \"\"))\n",
    "\n",
    "  train_df['GMT'] = train_df['date'].apply(lambda x: x[finddd(x):].replace(\" \", \"\"))\n",
    "\n",
    "  return train_df\n",
    "\n",
    "def month_cleaner (x):\n",
    "    try:\n",
    "        x = datetime.strptime(x,'%b').strftime('%m')\n",
    "        return(x)\n",
    "    except:\n",
    "        return (-1)\n",
    "def week_day_cleaner (x):\n",
    "    try:\n",
    "        x = datetime.strptime(x, '%d-%b-%Y').strftime('%w')\n",
    "        return(x)\n",
    "    except:\n",
    "        return (0)\n",
    "    \n",
    "def hour_cleaner (x):\n",
    "    try:\n",
    "        if x < 12:\n",
    "            x = 'AM'  \n",
    "        else: x = 'PM'\n",
    "        return(x)\n",
    "    except:\n",
    "        return (0)\n",
    "def day_of_week_cleaner(x):\n",
    "    try:return(determining_week(x))\n",
    "    except:return(0)\n",
    "    \n",
    "def time_of_day_cleaner(x):\n",
    "    try:return(determining_day(x))\n",
    "    except:return(0)\n",
    "\n",
    "def feature_engineering_cleaning(train_df):\n",
    "    # Feature Engineering after cleaning:\n",
    "  # Example: maybe if promotion more images will be used than characters so proportion of char in body will be smaller\n",
    "\n",
    "  train_df['month_number'] = train_df['month'].apply(month_cleaner)\n",
    "  \n",
    "  train_df['weekday'] = (train_df['day'] +'-'+ train_df['month'] +'-'+ train_df['year']).apply(week_day_cleaner)\n",
    "  # Weekday as a decimal number, where 0 is Sunday and 6 is Saturday.\n",
    "\n",
    "  train_df['period_month'] = train_df['day'].astype(int).apply(lambda x: period(x))\n",
    "\n",
    "  train_df['period_time'] = train_df['hour'].astype(int).apply(hour_cleaner)\n",
    "\n",
    "  train_df['timezone'] = train_df['GMT'].apply(lambda x: x[:5]).apply(lambda x: '+0000' if len(x) != 5 else x).apply(lambda x: '+0000' if x == '-0000' else x)\n",
    "\n",
    "  train_df['time'] = train_df['hour'].astype('str') +'/'+ train_df['weekday'].astype('str')\n",
    "\n",
    "  train_df['day_of_week'] = train_df['time'].apply(day_of_week_cleaner)\n",
    "  train_df['time_of_day'] = train_df['time'].apply(time_of_day_cleaner)\n",
    "\n",
    "  train_df.drop('time',axis= 1, inplace=True)\n",
    "\n",
    "  train_df = data_cleaner(train_df)\n",
    "\n",
    "  train_df['chars_in_subject'] = train_df['chars_in_subject'].astype(int)\n",
    "  train_df['chars_in_body'] = train_df['chars_in_body'].astype(int)\n",
    "  train_df['hour'] = train_df['hour'].astype(int)\n",
    "  train_df['month_number'] = train_df['month_number'].astype(int)\n",
    "  train_df['weekday'] = train_df['weekday'].astype(int)\n",
    "\n",
    "\n",
    "  train_df['chars_in_subject_proportion'] = train_df['chars_in_subject'] / (train_df['chars_in_subject'] + train_df['chars_in_body'])\n",
    "  train_df['chars_in_body_proportion'] = train_df['chars_in_body'] / (train_df['chars_in_subject'] + train_df['chars_in_body'])\n",
    "\n",
    "  train_df['urls_images_proportion'] = (train_df['urls'] + train_df['images'])/ (train_df['chars_in_body'] + train_df['urls'] + train_df['images'])\n",
    "\n",
    "  train_df['urls_proportion_body'] = train_df['urls']/ (train_df['chars_in_body'] + 1)\n",
    "\n",
    "  train_df['images_proportion_body'] = train_df['images']/ (train_df['chars_in_body'] + 1)\n",
    "\n",
    "  train_df['chars_in_subject_proportion'] = train_df['chars_in_subject_proportion']\n",
    "\n",
    "  train_df['chars_in_body_proportion'] = train_df['chars_in_body_proportion']\n",
    "\n",
    "  train_df['urls_images_proportion'] = train_df['urls_images_proportion']\n",
    "\n",
    "  train_df['urls_proportion_body'] = train_df['urls_proportion_body']\n",
    "\n",
    "  train_df['images_proportion_body'] = train_df['images_proportion_body']\n",
    "\n",
    "  return train_df"
   ]
  },
  {
   "cell_type": "code",
   "execution_count": 3,
   "id": "17de6185",
   "metadata": {
    "id": "17de6185",
    "outputId": "cf844998-3631-4131-a12c-9997a48dab3d"
   },
   "outputs": [
    {
     "data": {
      "text/plain": [
       "'AM'"
      ]
     },
     "execution_count": 3,
     "metadata": {},
     "output_type": "execute_result"
    }
   ],
   "source": [
    "hour_cleaner(10)"
   ]
  },
  {
   "cell_type": "code",
   "execution_count": 4,
   "id": "6c30e288",
   "metadata": {
    "id": "6c30e288"
   },
   "outputs": [],
   "source": [
    "train_df = pd.read_csv('train.csv')\n",
    "test_df = pd.read_csv('test.csv') "
   ]
  },
  {
   "cell_type": "code",
   "execution_count": 5,
   "id": "c8692567",
   "metadata": {
    "id": "c8692567"
   },
   "outputs": [],
   "source": [
    "def data_cleaner (df, chars_in_subject = train_df['chars_in_subject'].median() ):\n",
    "    \n",
    "    df['org'] = df['org'].fillna('org_undefinded')\n",
    "    df['tld'] = df['tld'].fillna('tld_undefinded')\n",
    "    df['mail_type'] = df['mail_type'].fillna('mail_type_undefinded').apply(lambda x:x.lower())\n",
    "    df['chars_in_subject'] = df['chars_in_subject'].fillna(chars_in_subject)\n",
    "    df.drop([ 'date', 'GMT', 'day', 'month', 'year', 'minute', 'second'],axis= 1, inplace=True)\n",
    "    return (df)\n",
    "\n",
    "def invert_str(x):\n",
    "    return(x[::-1])"
   ]
  },
  {
   "cell_type": "code",
   "execution_count": 6,
   "id": "e35f467a",
   "metadata": {
    "id": "e35f467a"
   },
   "outputs": [],
   "source": [
    "# One hot encoding the mail_type\n",
    "\n",
    "\n",
    "def ohe_mail_type (df):\n",
    "    unique_mail_types = df['mail_type'].apply(lambda x: x.split('/')).explode().unique()\n",
    "    for mt in unique_mail_types:\n",
    "        df[f'mail_type_{mt}'] = df['mail_type'].apply(lambda x: 1 if mt in x else 0)\n",
    "    df.drop('mail_type',axis =1,inplace = True)\n",
    "    return(df)\n",
    "\n",
    "\n",
    "def ohe_others(df):\n",
    "\n",
    "  unique_period_month = df['period_month'].unique()\n",
    "  for mt in unique_period_month:\n",
    "      df[f'period_month_{mt}'] = df['period_month'].apply(lambda x: 1 if mt in x else 0)\n",
    "  df.drop('period_month',axis= 1, inplace=True)\n",
    "\n",
    "  unique_period_time = df['period_time'].unique()\n",
    "  for mt in unique_period_time:\n",
    "      df[f'period_time_{mt}'] = df['period_time'].apply(lambda x: 1 if mt in x else 0)\n",
    "  df.drop('period_time',axis= 1, inplace=True)\n",
    "\n",
    "  unique_day_of_week = df['day_of_week'].unique()\n",
    "  for mt in unique_day_of_week:\n",
    "      df[f'day_of_week_{mt}'] = df['day_of_week'].apply(lambda x: 1 if mt in x else 0)\n",
    "  df.drop('day_of_week',axis= 1, inplace=True)\n",
    "\n",
    "  unique_time_of_day = df['time_of_day'].unique()\n",
    "  for mt in unique_time_of_day:\n",
    "      df[f'time_of_day_{mt}'] = df['time_of_day'].apply(lambda x: 1 if mt in x else 0)\n",
    "  df.drop('time_of_day',axis= 1, inplace=True)\n",
    "\n",
    "  return df"
   ]
  },
  {
   "cell_type": "code",
   "execution_count": 7,
   "id": "be5b23da",
   "metadata": {
    "id": "be5b23da"
   },
   "outputs": [],
   "source": [
    "# Splitting tld\n",
    "def tld_split(df):\n",
    "    df['tld'].apply(lambda x:x.split('.')[0]).unique()\n",
    "    df['tld_back'] = df['tld'].apply(lambda x: 'undefined_tld_back' if '.' not in x else invert_str(invert_str(x).split('.')[0].lower()))\n",
    "    df['tld_front'] = df['tld'].apply(lambda x: 'undefined_tld_front' if '.' not in x else x.split('.')[0].lower())\n",
    "    df.drop(['tld'], axis = 1, inplace = True)\n",
    "    top_10_tld_back = pd.DataFrame(df[['tld_back']].groupby('tld_back').size()).sort_values(0,ascending=False).head(20).index.tolist()\n",
    "    df['tld_back'] = df['tld_back'].apply(lambda x: x if x in top_10_tld_back else 'tld_back_Uncommon')\n",
    "    for bk in df['tld_back'].unique().tolist():\n",
    "        df[f'tld_back_{bk}'] = df['tld_back'].apply(lambda x: 1 if x == bk else 0 )\n",
    "    df.drop(['tld_back'], axis = 1, inplace = True)\n",
    "    return(df)"
   ]
  },
  {
   "cell_type": "code",
   "execution_count": 8,
   "id": "a8dc7570",
   "metadata": {
    "id": "a8dc7570",
    "outputId": "6fcb197f-43be-46d3-8cb1-7de6549dbebc"
   },
   "outputs": [
    {
     "name": "stderr",
     "output_type": "stream",
     "text": [
      "C:\\Users\\arind\\AppData\\Local\\Temp\\ipykernel_10544\\1710371832.py:2: FutureWarning: The frame.append method is deprecated and will be removed from pandas in a future version. Use pandas.concat instead.\n",
      "  joint_df = train_df.append(test_df, ignore_index=False)\n"
     ]
    }
   ],
   "source": [
    "test_df['label'] = 'test_df'\n",
    "joint_df = train_df.append(test_df, ignore_index=False) "
   ]
  },
  {
   "cell_type": "code",
   "execution_count": 9,
   "id": "33bdb8fc",
   "metadata": {
    "id": "33bdb8fc",
    "outputId": "5d2b1c0b-a07b-40f4-c654-4aeb0aeaa422"
   },
   "outputs": [
    {
     "name": "stdout",
     "output_type": "stream",
     "text": [
      "(114541, 14)\n",
      "(80176, 14)\n",
      "(34365, 14)\n"
     ]
    }
   ],
   "source": [
    "print(joint_df.shape)\n",
    "print(train_df.shape)\n",
    "print(test_df.shape)\n",
    "# train_df = "
   ]
  },
  {
   "cell_type": "code",
   "execution_count": null,
   "id": "3d78a895",
   "metadata": {
    "id": "3d78a895"
   },
   "outputs": [],
   "source": [
    "\n"
   ]
  },
  {
   "cell_type": "code",
   "execution_count": 10,
   "id": "-HsXxQtDk3hK",
   "metadata": {
    "id": "-HsXxQtDk3hK"
   },
   "outputs": [],
   "source": [
    "# train_df = feature_engineering(train_df)\n",
    "# train_df = train_df[train_df['year'] != '131']\n",
    "# train_df = train_df[train_df['month'] != '-MAR']\n",
    "# train_df = feature_engineering_cleaning(train_df)\n",
    "# train_df = ohe_mail_type(train_df)\n",
    "# train_df = ohe_others(train_df)\n",
    "# train_df = tld_split(train_df)"
   ]
  },
  {
   "cell_type": "code",
   "execution_count": 11,
   "id": "7bdea365",
   "metadata": {
    "id": "7bdea365"
   },
   "outputs": [],
   "source": [
    "joint_df = feature_engineering(joint_df)\n",
    "joint_df = feature_engineering_cleaning(joint_df)\n",
    "joint_df = ohe_mail_type(joint_df)\n",
    "joint_df = ohe_others(joint_df)\n",
    "joint_df = tld_split(joint_df)"
   ]
  },
  {
   "cell_type": "code",
   "execution_count": 12,
   "id": "2e142a62",
   "metadata": {
    "id": "2e142a62",
    "outputId": "173ed2fc-4467-4a88-c5ec-895586d908f2"
   },
   "outputs": [
    {
     "data": {
      "text/plain": [
       "0        0.000612\n",
       "1        0.034876\n",
       "2        0.001390\n",
       "3        0.000024\n",
       "4        0.020383\n",
       "           ...   \n",
       "34360    0.001502\n",
       "34361    0.002141\n",
       "34362    0.007620\n",
       "34363    0.014454\n",
       "34364    0.004410\n",
       "Name: chars_in_subject_proportion, Length: 114541, dtype: float64"
      ]
     },
     "execution_count": 12,
     "metadata": {},
     "output_type": "execute_result"
    }
   ],
   "source": [
    "# print(joint_df.columns)\n",
    "# joint_df.to_csv('joint_chk.csv')\n",
    "joint_df['chars_in_subject_proportion'] "
   ]
  },
  {
   "cell_type": "code",
   "execution_count": 13,
   "id": "863f58c3",
   "metadata": {
    "id": "863f58c3"
   },
   "outputs": [],
   "source": [
    "le_org = preprocessing.LabelEncoder()\n",
    "joint_df['timezone'] = le_org.fit_transform(joint_df['timezone'])"
   ]
  },
  {
   "cell_type": "code",
   "execution_count": 14,
   "id": "d2ffb9f4",
   "metadata": {
    "id": "d2ffb9f4"
   },
   "outputs": [],
   "source": [
    "# train_df['timezone'] = le_org.transform(train_df['timezone'])"
   ]
  },
  {
   "cell_type": "code",
   "execution_count": 15,
   "id": "abcfad86",
   "metadata": {
    "id": "abcfad86"
   },
   "outputs": [],
   "source": [
    "le_tldfront = preprocessing.LabelEncoder()\n",
    "joint_df['tld_front'] = le_tldfront.fit_transform(joint_df['tld_front'])"
   ]
  },
  {
   "cell_type": "code",
   "execution_count": 16,
   "id": "tSsBRxw8UN-d",
   "metadata": {
    "id": "tSsBRxw8UN-d"
   },
   "outputs": [],
   "source": [
    "right_df = pd.read_csv('final_label_probab_df.csv')\n",
    "joint_df = joint_df.merge(right_df, on='org', how='left', indicator=False)"
   ]
  },
  {
   "cell_type": "code",
   "execution_count": 17,
   "id": "bqX8OYTqZ7e6",
   "metadata": {
    "id": "bqX8OYTqZ7e6"
   },
   "outputs": [],
   "source": [
    "\n",
    "# test_df = feature_engineering(test_df)\n",
    "\n",
    "# # ONLY FOR TRAINING SET\n",
    "# # A date was 13 instead of 2013\n",
    "# test_df['year'] = test_df['year'].apply(lambda x: x[1:] if len(x)==5 else x)\n",
    "# test_df['month'] = test_df['month'].apply(lambda x: 'Mar' if len(x)!=3 else x)\n",
    "# test_df = feature_engineering_cleaning(test_df)"
   ]
  },
  {
   "cell_type": "code",
   "execution_count": 18,
   "id": "ij6Q-qhCPNTU",
   "metadata": {
    "id": "ij6Q-qhCPNTU"
   },
   "outputs": [],
   "source": [
    "# test_df = ohe_mail_type(test_df)\n",
    "# test_df = ohe_others(test_df)\n",
    "# test_df = tld_split(test_df)"
   ]
  },
  {
   "cell_type": "code",
   "execution_count": 19,
   "id": "TGf324U6R2HB",
   "metadata": {
    "id": "TGf324U6R2HB"
   },
   "outputs": [],
   "source": [
    "# le_org = preprocessing.LabelEncoder()\n",
    "# test_df['timezone'] = le_org.transform(test_df['timezone'])\n",
    "\n",
    "# le_tldfront = preprocessing.LabelEncoder()\n",
    "# test_df['tld_front'] = le_tldfront.transform(test_df['tld_front'])"
   ]
  },
  {
   "cell_type": "code",
   "execution_count": 20,
   "id": "nRI8NUvTScbE",
   "metadata": {
    "id": "nRI8NUvTScbE"
   },
   "outputs": [],
   "source": [
    "# right_df = pd.read_csv('final_label_probab_df.csv')\n",
    "# test_df = test_df.merge(right_df, on='org', how='left', indicator=False)"
   ]
  },
  {
   "cell_type": "code",
   "execution_count": 21,
   "id": "fe58ca28",
   "metadata": {
    "id": "fe58ca28"
   },
   "outputs": [],
   "source": [
    "le_org = preprocessing.LabelEncoder()\n",
    "joint_df['org'] = le_tldfront.fit_transform(joint_df['org'])"
   ]
  },
  {
   "cell_type": "code",
   "execution_count": 22,
   "id": "8a665fe1",
   "metadata": {
    "id": "8a665fe1",
    "outputId": "0d141daf-8f9a-429f-ac69-32eb99710870"
   },
   "outputs": [
    {
     "data": {
      "text/html": [
       "<div>\n",
       "<style scoped>\n",
       "    .dataframe tbody tr th:only-of-type {\n",
       "        vertical-align: middle;\n",
       "    }\n",
       "\n",
       "    .dataframe tbody tr th {\n",
       "        vertical-align: top;\n",
       "    }\n",
       "\n",
       "    .dataframe thead th {\n",
       "        text-align: right;\n",
       "    }\n",
       "</style>\n",
       "<table border=\"1\" class=\"dataframe\">\n",
       "  <thead>\n",
       "    <tr style=\"text-align: right;\">\n",
       "      <th></th>\n",
       "      <th>dtype</th>\n",
       "    </tr>\n",
       "  </thead>\n",
       "  <tbody>\n",
       "    <tr>\n",
       "      <th>label</th>\n",
       "      <td>object</td>\n",
       "    </tr>\n",
       "  </tbody>\n",
       "</table>\n",
       "</div>"
      ],
      "text/plain": [
       "        dtype\n",
       "label  object"
      ]
     },
     "execution_count": 22,
     "metadata": {},
     "output_type": "execute_result"
    }
   ],
   "source": [
    "df_dtypes = joint_df.dtypes.to_frame('dtype')\n",
    "df_dtypes[df_dtypes['dtype'] == 'object']"
   ]
  },
  {
   "cell_type": "code",
   "execution_count": 23,
   "id": "c1aa43ce",
   "metadata": {
    "id": "c1aa43ce"
   },
   "outputs": [],
   "source": [
    "from sklearn.preprocessing import StandardScaler\n",
    "col_names = ['ccs', 'images', 'urls', 'chars_in_subject', 'chars_in_body', 'hour', 'month_number', 'weekday', 'timezone']\n",
    "features = joint_df[col_names]\n",
    "scaler = StandardScaler().fit(features.values)\n",
    "features = scaler.transform(features.values)\n",
    "joint_df[col_names] = features\n",
    "# scaler = StandardScaler()\n",
    "# joint_df[[]] = scaler.fit_transform(joint_df[['ccs', 'images', 'urls', 'chars_in_subject', 'chars_in_body', 'hour', 'month_number', 'weekday', 'timezone']])"
   ]
  },
  {
   "cell_type": "code",
   "execution_count": 24,
   "id": "d4fdf0ca",
   "metadata": {
    "id": "d4fdf0ca",
    "outputId": "a34b1d4f-3f68-4c77-e901-eb583cc605a2"
   },
   "outputs": [
    {
     "name": "stdout",
     "output_type": "stream",
     "text": [
      "Unnamed: 0 80175\n",
      "org 1082\n",
      "ccs 54\n",
      "images 189\n",
      "urls 183\n",
      "chars_in_subject 16\n",
      "chars_in_body 38\n",
      "tld_front 238\n"
     ]
    }
   ],
   "source": [
    "for col in joint_df.drop('label',axis=1).columns:\n",
    "    if joint_df[col].astype('int').max()>5:\n",
    "        print(col,joint_df[col].astype('int').max())\n",
    "# joint_df"
   ]
  },
  {
   "cell_type": "code",
   "execution_count": 25,
   "id": "83cb24b5",
   "metadata": {
    "id": "83cb24b5"
   },
   "outputs": [],
   "source": [
    "joint_df[joint_df['label'] == 'test_df'].drop('label',axis=1).to_csv('test_final_scaled.csv',index=False)\n",
    "joint_df[joint_df['label'] != 'test_df'].to_csv('train_final_scaled.csv',index=False)"
   ]
  },
  {
   "cell_type": "code",
   "execution_count": null,
   "id": "12dc3a5e",
   "metadata": {
    "id": "12dc3a5e",
    "outputId": "f3e7c4fa-b939-4e0e-bb89-5e62ce53281a"
   },
   "outputs": [
    {
     "data": {
      "text/plain": [
       "(80176, 14)"
      ]
     },
     "execution_count": 201,
     "metadata": {},
     "output_type": "execute_result"
    }
   ],
   "source": [
    "train_df.shape"
   ]
  },
  {
   "cell_type": "code",
   "execution_count": 51,
   "id": "zLNrs3NHZ0v_",
   "metadata": {
    "id": "zLNrs3NHZ0v_"
   },
   "outputs": [],
   "source": [
    "train_df = pd.read_csv('train_final_scaled.csv')\n",
    "test_df = pd.read_csv('test_final_scaled.csv') \n",
    "\n",
    "train_df.drop('Unnamed: 0',axis= 1, inplace=True)\n",
    "test_df.drop('Unnamed: 0',axis= 1, inplace=True)"
   ]
  },
  {
   "cell_type": "code",
   "execution_count": 16,
   "id": "GgKlJhtVe2EA",
   "metadata": {
    "colab": {
     "base_uri": "https://localhost:8080/",
     "height": 299
    },
    "id": "GgKlJhtVe2EA",
    "outputId": "fa166b82-d737-46af-a030-934c9cb8dd61"
   },
   "outputs": [
    {
     "data": {
      "text/html": [
       "\n",
       "  <div id=\"df-0e7ac37c-20de-48b8-adea-6825e93cb398\">\n",
       "    <div class=\"colab-df-container\">\n",
       "      <div>\n",
       "<style scoped>\n",
       "    .dataframe tbody tr th:only-of-type {\n",
       "        vertical-align: middle;\n",
       "    }\n",
       "\n",
       "    .dataframe tbody tr th {\n",
       "        vertical-align: top;\n",
       "    }\n",
       "\n",
       "    .dataframe thead th {\n",
       "        text-align: right;\n",
       "    }\n",
       "</style>\n",
       "<table border=\"1\" class=\"dataframe\">\n",
       "  <thead>\n",
       "    <tr style=\"text-align: right;\">\n",
       "      <th></th>\n",
       "      <th>org</th>\n",
       "      <th>ccs</th>\n",
       "      <th>bcced</th>\n",
       "      <th>images</th>\n",
       "      <th>urls</th>\n",
       "      <th>salutations</th>\n",
       "      <th>designation</th>\n",
       "      <th>chars_in_subject</th>\n",
       "      <th>chars_in_body</th>\n",
       "      <th>hour</th>\n",
       "      <th>...</th>\n",
       "      <th>tld_back_jp</th>\n",
       "      <th>tld_back_io</th>\n",
       "      <th>label_0_probab</th>\n",
       "      <th>label_1_probab</th>\n",
       "      <th>label_2_probab</th>\n",
       "      <th>label_3_probab</th>\n",
       "      <th>label_4_probab</th>\n",
       "      <th>label_5_probab</th>\n",
       "      <th>label_6_probab</th>\n",
       "      <th>label_7_probab</th>\n",
       "    </tr>\n",
       "  </thead>\n",
       "  <tbody>\n",
       "    <tr>\n",
       "      <th>0</th>\n",
       "      <td>486</td>\n",
       "      <td>-0.146616</td>\n",
       "      <td>0</td>\n",
       "      <td>-0.021021</td>\n",
       "      <td>-0.192681</td>\n",
       "      <td>1</td>\n",
       "      <td>0</td>\n",
       "      <td>-0.933641</td>\n",
       "      <td>-0.101712</td>\n",
       "      <td>0.562988</td>\n",
       "      <td>...</td>\n",
       "      <td>0</td>\n",
       "      <td>0</td>\n",
       "      <td>0.006318</td>\n",
       "      <td>0.556185</td>\n",
       "      <td>0.000552</td>\n",
       "      <td>0.436093</td>\n",
       "      <td>0.000401</td>\n",
       "      <td>0.000451</td>\n",
       "      <td>0.0</td>\n",
       "      <td>0.000000</td>\n",
       "    </tr>\n",
       "    <tr>\n",
       "      <th>1</th>\n",
       "      <td>690</td>\n",
       "      <td>-0.146616</td>\n",
       "      <td>0</td>\n",
       "      <td>-0.005125</td>\n",
       "      <td>0.122563</td>\n",
       "      <td>1</td>\n",
       "      <td>0</td>\n",
       "      <td>-0.073926</td>\n",
       "      <td>-0.086785</td>\n",
       "      <td>1.395638</td>\n",
       "      <td>...</td>\n",
       "      <td>0</td>\n",
       "      <td>0</td>\n",
       "      <td>0.379592</td>\n",
       "      <td>0.493878</td>\n",
       "      <td>0.012245</td>\n",
       "      <td>0.000000</td>\n",
       "      <td>0.000000</td>\n",
       "      <td>0.000000</td>\n",
       "      <td>0.0</td>\n",
       "      <td>0.114286</td>\n",
       "    </tr>\n",
       "    <tr>\n",
       "      <th>2</th>\n",
       "      <td>486</td>\n",
       "      <td>0.159858</td>\n",
       "      <td>0</td>\n",
       "      <td>-0.021021</td>\n",
       "      <td>-0.294922</td>\n",
       "      <td>1</td>\n",
       "      <td>0</td>\n",
       "      <td>-0.815059</td>\n",
       "      <td>-0.103180</td>\n",
       "      <td>0.396458</td>\n",
       "      <td>...</td>\n",
       "      <td>0</td>\n",
       "      <td>0</td>\n",
       "      <td>0.006318</td>\n",
       "      <td>0.556185</td>\n",
       "      <td>0.000552</td>\n",
       "      <td>0.436093</td>\n",
       "      <td>0.000401</td>\n",
       "      <td>0.000451</td>\n",
       "      <td>0.0</td>\n",
       "      <td>0.000000</td>\n",
       "    </tr>\n",
       "    <tr>\n",
       "      <th>3</th>\n",
       "      <td>983</td>\n",
       "      <td>-0.146616</td>\n",
       "      <td>0</td>\n",
       "      <td>0.008500</td>\n",
       "      <td>0.131083</td>\n",
       "      <td>1</td>\n",
       "      <td>0</td>\n",
       "      <td>0.548626</td>\n",
       "      <td>-0.063833</td>\n",
       "      <td>0.063398</td>\n",
       "      <td>...</td>\n",
       "      <td>0</td>\n",
       "      <td>0</td>\n",
       "      <td>0.032432</td>\n",
       "      <td>0.499099</td>\n",
       "      <td>0.468468</td>\n",
       "      <td>0.000000</td>\n",
       "      <td>0.000000</td>\n",
       "      <td>0.000000</td>\n",
       "      <td>0.0</td>\n",
       "      <td>0.000000</td>\n",
       "    </tr>\n",
       "    <tr>\n",
       "      <th>4</th>\n",
       "      <td>432</td>\n",
       "      <td>-0.146616</td>\n",
       "      <td>0</td>\n",
       "      <td>0.019854</td>\n",
       "      <td>0.352605</td>\n",
       "      <td>1</td>\n",
       "      <td>0</td>\n",
       "      <td>-0.400025</td>\n",
       "      <td>-0.092192</td>\n",
       "      <td>-1.102311</td>\n",
       "      <td>...</td>\n",
       "      <td>0</td>\n",
       "      <td>0</td>\n",
       "      <td>0.756041</td>\n",
       "      <td>0.238303</td>\n",
       "      <td>0.003342</td>\n",
       "      <td>0.000000</td>\n",
       "      <td>0.002314</td>\n",
       "      <td>0.000000</td>\n",
       "      <td>0.0</td>\n",
       "      <td>0.000000</td>\n",
       "    </tr>\n",
       "  </tbody>\n",
       "</table>\n",
       "<p>5 rows × 74 columns</p>\n",
       "</div>\n",
       "      <button class=\"colab-df-convert\" onclick=\"convertToInteractive('df-0e7ac37c-20de-48b8-adea-6825e93cb398')\"\n",
       "              title=\"Convert this dataframe to an interactive table.\"\n",
       "              style=\"display:none;\">\n",
       "        \n",
       "  <svg xmlns=\"http://www.w3.org/2000/svg\" height=\"24px\"viewBox=\"0 0 24 24\"\n",
       "       width=\"24px\">\n",
       "    <path d=\"M0 0h24v24H0V0z\" fill=\"none\"/>\n",
       "    <path d=\"M18.56 5.44l.94 2.06.94-2.06 2.06-.94-2.06-.94-.94-2.06-.94 2.06-2.06.94zm-11 1L8.5 8.5l.94-2.06 2.06-.94-2.06-.94L8.5 2.5l-.94 2.06-2.06.94zm10 10l.94 2.06.94-2.06 2.06-.94-2.06-.94-.94-2.06-.94 2.06-2.06.94z\"/><path d=\"M17.41 7.96l-1.37-1.37c-.4-.4-.92-.59-1.43-.59-.52 0-1.04.2-1.43.59L10.3 9.45l-7.72 7.72c-.78.78-.78 2.05 0 2.83L4 21.41c.39.39.9.59 1.41.59.51 0 1.02-.2 1.41-.59l7.78-7.78 2.81-2.81c.8-.78.8-2.07 0-2.86zM5.41 20L4 18.59l7.72-7.72 1.47 1.35L5.41 20z\"/>\n",
       "  </svg>\n",
       "      </button>\n",
       "      \n",
       "  <style>\n",
       "    .colab-df-container {\n",
       "      display:flex;\n",
       "      flex-wrap:wrap;\n",
       "      gap: 12px;\n",
       "    }\n",
       "\n",
       "    .colab-df-convert {\n",
       "      background-color: #E8F0FE;\n",
       "      border: none;\n",
       "      border-radius: 50%;\n",
       "      cursor: pointer;\n",
       "      display: none;\n",
       "      fill: #1967D2;\n",
       "      height: 32px;\n",
       "      padding: 0 0 0 0;\n",
       "      width: 32px;\n",
       "    }\n",
       "\n",
       "    .colab-df-convert:hover {\n",
       "      background-color: #E2EBFA;\n",
       "      box-shadow: 0px 1px 2px rgba(60, 64, 67, 0.3), 0px 1px 3px 1px rgba(60, 64, 67, 0.15);\n",
       "      fill: #174EA6;\n",
       "    }\n",
       "\n",
       "    [theme=dark] .colab-df-convert {\n",
       "      background-color: #3B4455;\n",
       "      fill: #D2E3FC;\n",
       "    }\n",
       "\n",
       "    [theme=dark] .colab-df-convert:hover {\n",
       "      background-color: #434B5C;\n",
       "      box-shadow: 0px 1px 3px 1px rgba(0, 0, 0, 0.15);\n",
       "      filter: drop-shadow(0px 1px 2px rgba(0, 0, 0, 0.3));\n",
       "      fill: #FFFFFF;\n",
       "    }\n",
       "  </style>\n",
       "\n",
       "      <script>\n",
       "        const buttonEl =\n",
       "          document.querySelector('#df-0e7ac37c-20de-48b8-adea-6825e93cb398 button.colab-df-convert');\n",
       "        buttonEl.style.display =\n",
       "          google.colab.kernel.accessAllowed ? 'block' : 'none';\n",
       "\n",
       "        async function convertToInteractive(key) {\n",
       "          const element = document.querySelector('#df-0e7ac37c-20de-48b8-adea-6825e93cb398');\n",
       "          const dataTable =\n",
       "            await google.colab.kernel.invokeFunction('convertToInteractive',\n",
       "                                                     [key], {});\n",
       "          if (!dataTable) return;\n",
       "\n",
       "          const docLinkHtml = 'Like what you see? Visit the ' +\n",
       "            '<a target=\"_blank\" href=https://colab.research.google.com/notebooks/data_table.ipynb>data table notebook</a>'\n",
       "            + ' to learn more about interactive tables.';\n",
       "          element.innerHTML = '';\n",
       "          dataTable['output_type'] = 'display_data';\n",
       "          await google.colab.output.renderOutput(dataTable, element);\n",
       "          const docLink = document.createElement('div');\n",
       "          docLink.innerHTML = docLinkHtml;\n",
       "          element.appendChild(docLink);\n",
       "        }\n",
       "      </script>\n",
       "    </div>\n",
       "  </div>\n",
       "  "
      ],
      "text/plain": [
       "   org       ccs  bcced    images      urls  salutations  designation  \\\n",
       "0  486 -0.146616      0 -0.021021 -0.192681            1            0   \n",
       "1  690 -0.146616      0 -0.005125  0.122563            1            0   \n",
       "2  486  0.159858      0 -0.021021 -0.294922            1            0   \n",
       "3  983 -0.146616      0  0.008500  0.131083            1            0   \n",
       "4  432 -0.146616      0  0.019854  0.352605            1            0   \n",
       "\n",
       "   chars_in_subject  chars_in_body      hour  ...  tld_back_jp  tld_back_io  \\\n",
       "0         -0.933641      -0.101712  0.562988  ...            0            0   \n",
       "1         -0.073926      -0.086785  1.395638  ...            0            0   \n",
       "2         -0.815059      -0.103180  0.396458  ...            0            0   \n",
       "3          0.548626      -0.063833  0.063398  ...            0            0   \n",
       "4         -0.400025      -0.092192 -1.102311  ...            0            0   \n",
       "\n",
       "   label_0_probab  label_1_probab  label_2_probab  label_3_probab  \\\n",
       "0        0.006318        0.556185        0.000552        0.436093   \n",
       "1        0.379592        0.493878        0.012245        0.000000   \n",
       "2        0.006318        0.556185        0.000552        0.436093   \n",
       "3        0.032432        0.499099        0.468468        0.000000   \n",
       "4        0.756041        0.238303        0.003342        0.000000   \n",
       "\n",
       "   label_4_probab  label_5_probab  label_6_probab  label_7_probab  \n",
       "0        0.000401        0.000451             0.0        0.000000  \n",
       "1        0.000000        0.000000             0.0        0.114286  \n",
       "2        0.000401        0.000451             0.0        0.000000  \n",
       "3        0.000000        0.000000             0.0        0.000000  \n",
       "4        0.002314        0.000000             0.0        0.000000  \n",
       "\n",
       "[5 rows x 74 columns]"
      ]
     },
     "execution_count": 16,
     "metadata": {},
     "output_type": "execute_result"
    }
   ],
   "source": [
    "test_df.head()"
   ]
  },
  {
   "cell_type": "code",
   "execution_count": 32,
   "id": "XWdTGPxmlEM2",
   "metadata": {
    "colab": {
     "base_uri": "https://localhost:8080/"
    },
    "id": "XWdTGPxmlEM2",
    "outputId": "19ff0d02-8f7a-40db-f700-0e0843508d0f"
   },
   "outputs": [
    {
     "name": "stdout",
     "output_type": "stream",
     "text": [
      "35\n"
     ]
    }
   ],
   "source": [
    "from sklearn.decomposition import PCA\n",
    "from sklearn.preprocessing import StandardScaler\n",
    "# train_df = train_df.drop('label',axis = 1)\n",
    "x_pca = train_df.loc[:, train_df.columns].values\n",
    "# y = df.loc[:,['target']].values\n",
    "x_pca = StandardScaler().fit_transform(x_pca)\n",
    "pd.DataFrame(data = x_pca, columns = train_df.columns).head()\n",
    "\n",
    "\n",
    "pca = PCA(n_components=0.73)\n",
    "principalComponents = pca.fit_transform(x_pca)\n",
    "ppca = pca.n_components_\n",
    "print(ppca)\n",
    "pcacol = []\n",
    "for t in range(1,ppca+1):\n",
    "    temp = 'principal component ' + str(t)\n",
    "    pcacol.append(temp)\n",
    "\n",
    "principalDf = pd.DataFrame(data = principalComponents\n",
    "              , columns = pcacol)\n",
    "\n",
    "\n",
    "\n",
    "from sklearn.model_selection import train_test_split\n",
    "\n",
    "X_train, X_test, y_train, y_test = train_test_split(\n",
    "    principalDf, train_df['label'], test_size=0.2, random_state=42)"
   ]
  },
  {
   "cell_type": "code",
   "execution_count": 22,
   "id": "kgZN9ZEho8_m",
   "metadata": {
    "colab": {
     "base_uri": "https://localhost:8080/",
     "height": 334
    },
    "id": "kgZN9ZEho8_m",
    "outputId": "91f2c8e3-3fe3-42a5-e24e-97451d4acb60"
   },
   "outputs": [
    {
     "data": {
      "text/html": [
       "\n",
       "  <div id=\"df-a4aeb7a1-c97a-4ca3-83ee-04df9de2d7dd\">\n",
       "    <div class=\"colab-df-container\">\n",
       "      <div>\n",
       "<style scoped>\n",
       "    .dataframe tbody tr th:only-of-type {\n",
       "        vertical-align: middle;\n",
       "    }\n",
       "\n",
       "    .dataframe tbody tr th {\n",
       "        vertical-align: top;\n",
       "    }\n",
       "\n",
       "    .dataframe thead th {\n",
       "        text-align: right;\n",
       "    }\n",
       "</style>\n",
       "<table border=\"1\" class=\"dataframe\">\n",
       "  <thead>\n",
       "    <tr style=\"text-align: right;\">\n",
       "      <th></th>\n",
       "      <th>principal component 1</th>\n",
       "      <th>principal component 2</th>\n",
       "      <th>principal component 3</th>\n",
       "      <th>principal component 4</th>\n",
       "      <th>principal component 5</th>\n",
       "      <th>principal component 6</th>\n",
       "      <th>principal component 7</th>\n",
       "      <th>principal component 8</th>\n",
       "      <th>principal component 9</th>\n",
       "      <th>principal component 10</th>\n",
       "      <th>...</th>\n",
       "      <th>principal component 24</th>\n",
       "      <th>principal component 25</th>\n",
       "      <th>principal component 26</th>\n",
       "      <th>principal component 27</th>\n",
       "      <th>principal component 28</th>\n",
       "      <th>principal component 29</th>\n",
       "      <th>principal component 30</th>\n",
       "      <th>principal component 31</th>\n",
       "      <th>principal component 32</th>\n",
       "      <th>principal component 33</th>\n",
       "    </tr>\n",
       "  </thead>\n",
       "  <tbody>\n",
       "    <tr>\n",
       "      <th>0</th>\n",
       "      <td>-1.043412</td>\n",
       "      <td>0.961099</td>\n",
       "      <td>0.941625</td>\n",
       "      <td>-2.276636</td>\n",
       "      <td>0.748209</td>\n",
       "      <td>-0.453272</td>\n",
       "      <td>1.044446</td>\n",
       "      <td>0.273589</td>\n",
       "      <td>0.673170</td>\n",
       "      <td>-0.696511</td>\n",
       "      <td>...</td>\n",
       "      <td>-0.453266</td>\n",
       "      <td>-0.265890</td>\n",
       "      <td>-0.295411</td>\n",
       "      <td>0.241292</td>\n",
       "      <td>-0.096830</td>\n",
       "      <td>-0.048070</td>\n",
       "      <td>0.071539</td>\n",
       "      <td>0.052884</td>\n",
       "      <td>0.012943</td>\n",
       "      <td>-0.044214</td>\n",
       "    </tr>\n",
       "    <tr>\n",
       "      <th>1</th>\n",
       "      <td>0.246085</td>\n",
       "      <td>0.462645</td>\n",
       "      <td>1.021581</td>\n",
       "      <td>-2.071491</td>\n",
       "      <td>0.289755</td>\n",
       "      <td>-0.884023</td>\n",
       "      <td>2.128031</td>\n",
       "      <td>0.284626</td>\n",
       "      <td>-1.595562</td>\n",
       "      <td>1.355642</td>\n",
       "      <td>...</td>\n",
       "      <td>0.873825</td>\n",
       "      <td>0.566063</td>\n",
       "      <td>0.278558</td>\n",
       "      <td>-0.474522</td>\n",
       "      <td>-0.396451</td>\n",
       "      <td>0.028793</td>\n",
       "      <td>0.068155</td>\n",
       "      <td>0.013073</td>\n",
       "      <td>-0.068918</td>\n",
       "      <td>0.065296</td>\n",
       "    </tr>\n",
       "    <tr>\n",
       "      <th>2</th>\n",
       "      <td>1.695876</td>\n",
       "      <td>-3.676740</td>\n",
       "      <td>0.548873</td>\n",
       "      <td>2.882079</td>\n",
       "      <td>-0.738586</td>\n",
       "      <td>-0.210278</td>\n",
       "      <td>-2.255958</td>\n",
       "      <td>-0.354720</td>\n",
       "      <td>1.295157</td>\n",
       "      <td>-0.567384</td>\n",
       "      <td>...</td>\n",
       "      <td>-0.276867</td>\n",
       "      <td>-0.091598</td>\n",
       "      <td>0.000345</td>\n",
       "      <td>-0.095337</td>\n",
       "      <td>-0.071970</td>\n",
       "      <td>-0.010257</td>\n",
       "      <td>-0.019505</td>\n",
       "      <td>0.048262</td>\n",
       "      <td>0.032402</td>\n",
       "      <td>0.022249</td>\n",
       "    </tr>\n",
       "    <tr>\n",
       "      <th>3</th>\n",
       "      <td>-0.964508</td>\n",
       "      <td>-0.447166</td>\n",
       "      <td>-1.080401</td>\n",
       "      <td>-2.577178</td>\n",
       "      <td>-2.193856</td>\n",
       "      <td>-0.109489</td>\n",
       "      <td>-0.868073</td>\n",
       "      <td>-0.737274</td>\n",
       "      <td>-0.629839</td>\n",
       "      <td>1.597107</td>\n",
       "      <td>...</td>\n",
       "      <td>-0.141477</td>\n",
       "      <td>0.319482</td>\n",
       "      <td>-0.155512</td>\n",
       "      <td>-0.018154</td>\n",
       "      <td>0.356844</td>\n",
       "      <td>-0.046408</td>\n",
       "      <td>-0.055703</td>\n",
       "      <td>-0.024310</td>\n",
       "      <td>-0.005706</td>\n",
       "      <td>-0.070381</td>\n",
       "    </tr>\n",
       "    <tr>\n",
       "      <th>4</th>\n",
       "      <td>1.020973</td>\n",
       "      <td>0.570356</td>\n",
       "      <td>2.429172</td>\n",
       "      <td>-1.908842</td>\n",
       "      <td>1.309076</td>\n",
       "      <td>-0.731500</td>\n",
       "      <td>2.216834</td>\n",
       "      <td>-0.269182</td>\n",
       "      <td>2.558129</td>\n",
       "      <td>0.191114</td>\n",
       "      <td>...</td>\n",
       "      <td>-0.578989</td>\n",
       "      <td>-0.465541</td>\n",
       "      <td>-0.382392</td>\n",
       "      <td>-0.035795</td>\n",
       "      <td>0.165134</td>\n",
       "      <td>-0.147883</td>\n",
       "      <td>-0.018837</td>\n",
       "      <td>0.003330</td>\n",
       "      <td>-0.001489</td>\n",
       "      <td>-0.015208</td>\n",
       "    </tr>\n",
       "  </tbody>\n",
       "</table>\n",
       "<p>5 rows × 33 columns</p>\n",
       "</div>\n",
       "      <button class=\"colab-df-convert\" onclick=\"convertToInteractive('df-a4aeb7a1-c97a-4ca3-83ee-04df9de2d7dd')\"\n",
       "              title=\"Convert this dataframe to an interactive table.\"\n",
       "              style=\"display:none;\">\n",
       "        \n",
       "  <svg xmlns=\"http://www.w3.org/2000/svg\" height=\"24px\"viewBox=\"0 0 24 24\"\n",
       "       width=\"24px\">\n",
       "    <path d=\"M0 0h24v24H0V0z\" fill=\"none\"/>\n",
       "    <path d=\"M18.56 5.44l.94 2.06.94-2.06 2.06-.94-2.06-.94-.94-2.06-.94 2.06-2.06.94zm-11 1L8.5 8.5l.94-2.06 2.06-.94-2.06-.94L8.5 2.5l-.94 2.06-2.06.94zm10 10l.94 2.06.94-2.06 2.06-.94-2.06-.94-.94-2.06-.94 2.06-2.06.94z\"/><path d=\"M17.41 7.96l-1.37-1.37c-.4-.4-.92-.59-1.43-.59-.52 0-1.04.2-1.43.59L10.3 9.45l-7.72 7.72c-.78.78-.78 2.05 0 2.83L4 21.41c.39.39.9.59 1.41.59.51 0 1.02-.2 1.41-.59l7.78-7.78 2.81-2.81c.8-.78.8-2.07 0-2.86zM5.41 20L4 18.59l7.72-7.72 1.47 1.35L5.41 20z\"/>\n",
       "  </svg>\n",
       "      </button>\n",
       "      \n",
       "  <style>\n",
       "    .colab-df-container {\n",
       "      display:flex;\n",
       "      flex-wrap:wrap;\n",
       "      gap: 12px;\n",
       "    }\n",
       "\n",
       "    .colab-df-convert {\n",
       "      background-color: #E8F0FE;\n",
       "      border: none;\n",
       "      border-radius: 50%;\n",
       "      cursor: pointer;\n",
       "      display: none;\n",
       "      fill: #1967D2;\n",
       "      height: 32px;\n",
       "      padding: 0 0 0 0;\n",
       "      width: 32px;\n",
       "    }\n",
       "\n",
       "    .colab-df-convert:hover {\n",
       "      background-color: #E2EBFA;\n",
       "      box-shadow: 0px 1px 2px rgba(60, 64, 67, 0.3), 0px 1px 3px 1px rgba(60, 64, 67, 0.15);\n",
       "      fill: #174EA6;\n",
       "    }\n",
       "\n",
       "    [theme=dark] .colab-df-convert {\n",
       "      background-color: #3B4455;\n",
       "      fill: #D2E3FC;\n",
       "    }\n",
       "\n",
       "    [theme=dark] .colab-df-convert:hover {\n",
       "      background-color: #434B5C;\n",
       "      box-shadow: 0px 1px 3px 1px rgba(0, 0, 0, 0.15);\n",
       "      filter: drop-shadow(0px 1px 2px rgba(0, 0, 0, 0.3));\n",
       "      fill: #FFFFFF;\n",
       "    }\n",
       "  </style>\n",
       "\n",
       "      <script>\n",
       "        const buttonEl =\n",
       "          document.querySelector('#df-a4aeb7a1-c97a-4ca3-83ee-04df9de2d7dd button.colab-df-convert');\n",
       "        buttonEl.style.display =\n",
       "          google.colab.kernel.accessAllowed ? 'block' : 'none';\n",
       "\n",
       "        async function convertToInteractive(key) {\n",
       "          const element = document.querySelector('#df-a4aeb7a1-c97a-4ca3-83ee-04df9de2d7dd');\n",
       "          const dataTable =\n",
       "            await google.colab.kernel.invokeFunction('convertToInteractive',\n",
       "                                                     [key], {});\n",
       "          if (!dataTable) return;\n",
       "\n",
       "          const docLinkHtml = 'Like what you see? Visit the ' +\n",
       "            '<a target=\"_blank\" href=https://colab.research.google.com/notebooks/data_table.ipynb>data table notebook</a>'\n",
       "            + ' to learn more about interactive tables.';\n",
       "          element.innerHTML = '';\n",
       "          dataTable['output_type'] = 'display_data';\n",
       "          await google.colab.output.renderOutput(dataTable, element);\n",
       "          const docLink = document.createElement('div');\n",
       "          docLink.innerHTML = docLinkHtml;\n",
       "          element.appendChild(docLink);\n",
       "        }\n",
       "      </script>\n",
       "    </div>\n",
       "  </div>\n",
       "  "
      ],
      "text/plain": [
       "   principal component 1  principal component 2  principal component 3  \\\n",
       "0              -1.043412               0.961099               0.941625   \n",
       "1               0.246085               0.462645               1.021581   \n",
       "2               1.695876              -3.676740               0.548873   \n",
       "3              -0.964508              -0.447166              -1.080401   \n",
       "4               1.020973               0.570356               2.429172   \n",
       "\n",
       "   principal component 4  principal component 5  principal component 6  \\\n",
       "0              -2.276636               0.748209              -0.453272   \n",
       "1              -2.071491               0.289755              -0.884023   \n",
       "2               2.882079              -0.738586              -0.210278   \n",
       "3              -2.577178              -2.193856              -0.109489   \n",
       "4              -1.908842               1.309076              -0.731500   \n",
       "\n",
       "   principal component 7  principal component 8  principal component 9  \\\n",
       "0               1.044446               0.273589               0.673170   \n",
       "1               2.128031               0.284626              -1.595562   \n",
       "2              -2.255958              -0.354720               1.295157   \n",
       "3              -0.868073              -0.737274              -0.629839   \n",
       "4               2.216834              -0.269182               2.558129   \n",
       "\n",
       "   principal component 10  ...  principal component 24  \\\n",
       "0               -0.696511  ...               -0.453266   \n",
       "1                1.355642  ...                0.873825   \n",
       "2               -0.567384  ...               -0.276867   \n",
       "3                1.597107  ...               -0.141477   \n",
       "4                0.191114  ...               -0.578989   \n",
       "\n",
       "   principal component 25  principal component 26  principal component 27  \\\n",
       "0               -0.265890               -0.295411                0.241292   \n",
       "1                0.566063                0.278558               -0.474522   \n",
       "2               -0.091598                0.000345               -0.095337   \n",
       "3                0.319482               -0.155512               -0.018154   \n",
       "4               -0.465541               -0.382392               -0.035795   \n",
       "\n",
       "   principal component 28  principal component 29  principal component 30  \\\n",
       "0               -0.096830               -0.048070                0.071539   \n",
       "1               -0.396451                0.028793                0.068155   \n",
       "2               -0.071970               -0.010257               -0.019505   \n",
       "3                0.356844               -0.046408               -0.055703   \n",
       "4                0.165134               -0.147883               -0.018837   \n",
       "\n",
       "   principal component 31  principal component 32  principal component 33  \n",
       "0                0.052884                0.012943               -0.044214  \n",
       "1                0.013073               -0.068918                0.065296  \n",
       "2                0.048262                0.032402                0.022249  \n",
       "3               -0.024310               -0.005706               -0.070381  \n",
       "4                0.003330               -0.001489               -0.015208  \n",
       "\n",
       "[5 rows x 33 columns]"
      ]
     },
     "execution_count": 22,
     "metadata": {},
     "output_type": "execute_result"
    }
   ],
   "source": [
    "principalDf.head()"
   ]
  },
  {
   "cell_type": "code",
   "execution_count": 47,
   "id": "2jGQaAwkgCbI",
   "metadata": {
    "id": "2jGQaAwkgCbI"
   },
   "outputs": [],
   "source": [
    "from sklearn.model_selection import train_test_split\n",
    "\n",
    "X_train, X_test, y_train, y_test = train_test_split(\n",
    "    train_df.drop(['label'],axis = 1), train_df['label'], test_size=0.2, random_state=42)"
   ]
  },
  {
   "cell_type": "code",
   "execution_count": 23,
   "id": "gGazCFggjWjf",
   "metadata": {
    "colab": {
     "base_uri": "https://localhost:8080/",
     "height": 122
    },
    "id": "gGazCFggjWjf",
    "outputId": "00f8b8ee-cd77-4b95-eb71-5dd2dfc5edf7"
   },
   "outputs": [
    {
     "name": "stdout",
     "output_type": "stream",
     "text": [
      "Acuracy of the KNN18:0.7403966076328261\n"
     ]
    },
    {
     "data": {
      "application/vnd.google.colaboratory.intrinsic+json": {
       "type": "string"
      },
      "text/plain": [
       "'              precision    recall  f1-score   support\\n\\n           0       0.69      0.72      0.70      3680\\n           1       0.72      0.77      0.75      7429\\n           2       0.59      0.49      0.53      1719\\n           3       0.89      0.82      0.85      2109\\n           4       0.25      0.06      0.10        50\\n           5       0.69      0.35      0.46        26\\n           6       0.58      0.35      0.44        31\\n           7       1.00      0.95      0.97       992\\n\\n    accuracy                           0.74     16036\\n   macro avg       0.68      0.56      0.60     16036\\nweighted avg       0.74      0.74      0.74     16036\\n'"
      ]
     },
     "execution_count": 23,
     "metadata": {},
     "output_type": "execute_result"
    }
   ],
   "source": [
    "from sklearn.neighbors import KNeighborsClassifier\n",
    "from sklearn.metrics import accuracy_score, classification_report, confusion_matrix, precision_score, recall_score\n",
    "\n",
    "neigh = KNeighborsClassifier(n_neighbors=18)\n",
    "neigh.fit(X_train, y_train)\n",
    "pred = neigh.predict(X_test)\n",
    "print(f'Acuracy of the KNN18:{accuracy_score(y_test, pred)}')\n",
    "confusion_matrix(y_test, pred)\n",
    "classification_report(y_test, pred)\n",
    "#precision_score(y_test, pred)\n",
    "#recall_score(y_test, pred)"
   ]
  },
  {
   "cell_type": "code",
   "execution_count": 48,
   "id": "iM6SiaJhpKkZ",
   "metadata": {
    "colab": {
     "base_uri": "https://localhost:8080/"
    },
    "id": "iM6SiaJhpKkZ",
    "outputId": "f4f146e7-7ca1-4eb8-a42a-b4bb32ec5123"
   },
   "outputs": [
    {
     "name": "stdout",
     "output_type": "stream",
     "text": [
      "{'n_neighbors': 23}\n",
      "Acuracy of the KNN{'n_neighbors': 23}:0.5611748565727114\n",
      "              precision    recall  f1-score   support\n",
      "\n",
      "           0       0.58      0.59      0.59      3680\n",
      "           1       0.56      0.54      0.55      7429\n",
      "           2       0.51      0.47      0.49      1719\n",
      "           3       0.58      0.59      0.59      2109\n",
      "           4       0.20      0.10      0.13        50\n",
      "           5       0.15      0.08      0.10        26\n",
      "           6       0.43      0.19      0.27        31\n",
      "           7       0.54      0.71      0.62       992\n",
      "\n",
      "    accuracy                           0.56     16036\n",
      "   macro avg       0.44      0.41      0.42     16036\n",
      "weighted avg       0.56      0.56      0.56     16036\n",
      "\n"
     ]
    }
   ],
   "source": [
    "from sklearn.discriminant_analysis import LinearDiscriminantAnalysis as LDA\n",
    "from sklearn.model_selection import GridSearchCV\n",
    "\n",
    "lda = LDA(n_components=7)\n",
    "X_train = lda.fit_transform(X_train, y_train)\n",
    "X_test = lda.transform(X_test)\n",
    "\n",
    "\n",
    "parameters = {'n_neighbors':list(range(19,25))}\n",
    "neigh = KNeighborsClassifier()\n",
    "clf = GridSearchCV(neigh, parameters)\n",
    "clf.fit(X_train, y_train)\n",
    "print(clf.best_params_)\n",
    "pred = clf.predict(X_test)\n",
    "print(f'Acuracy of the KNN{clf.best_params_}:{accuracy_score(y_test, pred)}')\n",
    "print(classification_report(y_test, pred))"
   ]
  },
  {
   "cell_type": "code",
   "execution_count": 29,
   "id": "-yW12XJHpqsr",
   "metadata": {
    "colab": {
     "base_uri": "https://localhost:8080/"
    },
    "id": "-yW12XJHpqsr",
    "outputId": "b8dca3b6-b453-449d-f52a-57f51bee507f"
   },
   "outputs": [
    {
     "name": "stdout",
     "output_type": "stream",
     "text": [
      "33\n"
     ]
    }
   ],
   "source": [
    "from sklearn.decomposition import PCA\n",
    "from sklearn.preprocessing import StandardScaler\n",
    "# test_df = test_df.drop('label',axis = 1)\n",
    "x_pca = test_df.loc[:, test_df.columns].values\n",
    "# y = df.loc[:,['target']].values\n",
    "x_pca = StandardScaler().fit_transform(x_pca)\n",
    "pd.DataFrame(data = x_pca, columns = test_df.columns).head()\n",
    "\n",
    "\n",
    "pca = PCA(n_components=0.73)\n",
    "principalComponents = pca.fit_transform(x_pca)\n",
    "ppca = pca.n_components_\n",
    "print(ppca)\n",
    "pcacol = []\n",
    "for t in range(1,ppca+1):\n",
    "    temp = 'principal component ' + str(t)\n",
    "    pcacol.append(temp)\n",
    "\n",
    "principalDf = pd.DataFrame(data = principalComponents\n",
    "              , columns = pcacol)\n",
    "\n",
    "\n"
   ]
  },
  {
   "cell_type": "code",
   "execution_count": 53,
   "id": "DGVQbv5B0YVt",
   "metadata": {
    "colab": {
     "base_uri": "https://localhost:8080/"
    },
    "id": "DGVQbv5B0YVt",
    "outputId": "24e7c6f7-150e-49cb-db0b-7538f49dd03c"
   },
   "outputs": [
    {
     "data": {
      "text/plain": [
       "KNeighborsClassifier(n_neighbors=23)"
      ]
     },
     "execution_count": 53,
     "metadata": {},
     "output_type": "execute_result"
    }
   ],
   "source": [
    "lda = LDA(n_components=7)\n",
    "X_train = lda.fit_transform(train_df.drop(['label'],axis = 1), train_df['label'])\n",
    "X_test = lda.transform(test_df)\n",
    "\n",
    "neigh = KNeighborsClassifier(n_neighbors=23)\n",
    "neigh.fit(X_train, train_df['label'])"
   ]
  },
  {
   "cell_type": "code",
   "execution_count": 54,
   "id": "s8fmHfmip9s7",
   "metadata": {
    "id": "s8fmHfmip9s7"
   },
   "outputs": [],
   "source": [
    "pred = neigh.predict(X_test)"
   ]
  },
  {
   "cell_type": "code",
   "execution_count": 56,
   "id": "khii7TQHq2qY",
   "metadata": {
    "id": "khii7TQHq2qY"
   },
   "outputs": [],
   "source": [
    "pred_df = pd.DataFrame(pred, columns=['label'])\n",
    "pred_df.to_csv(\"knn_submission.csv\", index=True, index_label='Id')"
   ]
  }
 ],
 "metadata": {
  "colab": {
   "provenance": []
  },
  "kernelspec": {
   "display_name": "Python 3 (ipykernel)",
   "language": "python",
   "name": "python3"
  },
  "language_info": {
   "codemirror_mode": {
    "name": "ipython",
    "version": 3
   },
   "file_extension": ".py",
   "mimetype": "text/x-python",
   "name": "python",
   "nbconvert_exporter": "python",
   "pygments_lexer": "ipython3",
   "version": "3.9.12"
  }
 },
 "nbformat": 4,
 "nbformat_minor": 5
}
