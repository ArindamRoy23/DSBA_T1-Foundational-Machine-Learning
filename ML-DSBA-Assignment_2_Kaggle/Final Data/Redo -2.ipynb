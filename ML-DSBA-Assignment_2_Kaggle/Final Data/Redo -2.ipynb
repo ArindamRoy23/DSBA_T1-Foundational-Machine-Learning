{
 "cells": [
  {
   "cell_type": "code",
   "execution_count": 90,
   "id": "1b7ad8fb",
   "metadata": {},
   "outputs": [],
   "source": [
    "import pandas as pd \n",
    "import numpy as np"
   ]
  },
  {
   "cell_type": "code",
   "execution_count": 106,
   "id": "9ee5c1b8",
   "metadata": {},
   "outputs": [],
   "source": [
    "def ohe_mail_type (df):\n",
    "    unique_mail_types = df['mail_type'].apply(lambda x: x.split('/')).explode().unique()\n",
    "    for mt in unique_mail_types:\n",
    "        df[f'mail_type_{mt}'] = df['mail_type'].apply(lambda x: 1 if mt in x else 0)\n",
    "    df.drop('mail_type',axis =1,inplace = True)\n",
    "    return(df)\n",
    "\n",
    "\n",
    "def data_cleaner (df, chars_in_subject = 42 ):\n",
    "    df['org'] = df['org'].fillna('org_undefinded')\n",
    "    df['tld'] = df['tld'].fillna('tld_undefinded')\n",
    "    df['mail_type'] = df['mail_type'].fillna('mail_type_undefinded').apply(lambda x:x.lower())\n",
    "    df['chars_in_subject'] = df['chars_in_subject'].fillna(chars_in_subject)\n",
    "    df.drop([ 'date','tld'],axis= 1, inplace=True)\n",
    "    return (df)"
   ]
  },
  {
   "cell_type": "code",
   "execution_count": 107,
   "id": "fe17023c",
   "metadata": {},
   "outputs": [],
   "source": [
    "df = pd.read_csv('train.csv', )\n",
    "test_df = pd.read_csv('test.csv', )\n",
    "df.drop('Unnamed: 0',axis=1,inplace = True)\n",
    "test_df.drop('Unnamed: 0',axis=1,inplace = True)"
   ]
  },
  {
   "cell_type": "code",
   "execution_count": 108,
   "id": "6d198837",
   "metadata": {},
   "outputs": [
    {
     "data": {
      "text/plain": [
       "label\n",
       "0    17995\n",
       "1    37195\n",
       "2     8567\n",
       "3    10727\n",
       "4      357\n",
       "5      141\n",
       "6      152\n",
       "7     5042\n",
       "dtype: int64"
      ]
     },
     "execution_count": 108,
     "metadata": {},
     "output_type": "execute_result"
    }
   ],
   "source": [
    "df.groupby('label').size()"
   ]
  },
  {
   "cell_type": "code",
   "execution_count": 109,
   "id": "9b5bd34c",
   "metadata": {},
   "outputs": [],
   "source": [
    "df = df[(df['label'] != 4) & (df['label'] != 5)]"
   ]
  },
  {
   "cell_type": "code",
   "execution_count": 110,
   "id": "6ca6a460",
   "metadata": {},
   "outputs": [],
   "source": [
    "df = ohe_mail_type(data_cleaner(df))\n",
    "test_df = ohe_mail_type(data_cleaner(test_df))\n",
    "\n",
    "# df.drop(['date','tld'], axis =1, inplace=True)"
   ]
  },
  {
   "cell_type": "code",
   "execution_count": 111,
   "id": "fce699d2",
   "metadata": {},
   "outputs": [
    {
     "name": "stdout",
     "output_type": "stream",
     "text": [
      "Index(['org', 'ccs', 'bcced', 'images', 'urls', 'salutations', 'designation',\n",
      "       'chars_in_subject', 'chars_in_body', 'label', 'mail_type_multipart',\n",
      "       'mail_type_alternative', 'mail_type_text', 'mail_type_html',\n",
      "       'mail_type_mixed', 'mail_type_related', 'mail_type_plain',\n",
      "       'mail_type_mail_type_undefinded', 'mail_type_html ', 'mail_type_signed',\n",
      "       'mail_type_report', 'mail_type_calendar', 'mail_type_idm'],\n",
      "      dtype='object')\n",
      "Index(['org', 'ccs', 'bcced', 'images', 'urls', 'salutations', 'designation',\n",
      "       'chars_in_subject', 'chars_in_body', 'mail_type_multipart',\n",
      "       'mail_type_alternative', 'mail_type_text', 'mail_type_html',\n",
      "       'mail_type_mixed', 'mail_type_plain', 'mail_type_mail_type_undefinded',\n",
      "       'mail_type_related', 'mail_type_html ', 'mail_type_report',\n",
      "       'mail_type_signed', 'mail_type_idm'],\n",
      "      dtype='object')\n"
     ]
    }
   ],
   "source": [
    "# Only display\n",
    "# df.groupby('label').agg(['median', 'std'])\n",
    "print(df.columns)\n",
    "print(test_df.columns)\n",
    "# print(set(df.columns.to_list())-set(test_df.columns.to_list()))\n",
    "test_df['mail_type_calendar'] = 0"
   ]
  },
  {
   "cell_type": "code",
   "execution_count": 112,
   "id": "b1bdeea6",
   "metadata": {},
   "outputs": [],
   "source": [
    "right_df = pd.read_csv('final_label_probab_df.csv')\n",
    "joint_df = df.merge(right_df, on='org', how='left', indicator=False)\n",
    "test_df = test_df.merge(right_df, on='org', how='left', indicator=False)\n",
    "\n",
    "# joint_df = df"
   ]
  },
  {
   "cell_type": "code",
   "execution_count": 113,
   "id": "9b7231c9",
   "metadata": {},
   "outputs": [],
   "source": [
    "joint_df.drop(['org'],axis = 1, inplace=True)\n",
    "test_df.drop(['org'],axis = 1, inplace=True)"
   ]
  },
  {
   "cell_type": "code",
   "execution_count": 114,
   "id": "7bf7b984",
   "metadata": {},
   "outputs": [],
   "source": [
    "# from sklearn.preprocessing import StandardScaler\n",
    "# scaler = StandardScaler()\n",
    "# train_set = scaler.fit_transform(joint_df.drop('label', axis = 1))\n",
    "# test_df = scaler.fit_transform(test_df)\n"
   ]
  },
  {
   "cell_type": "code",
   "execution_count": 115,
   "id": "db3eb4c0",
   "metadata": {},
   "outputs": [
    {
     "ename": "ValueError",
     "evalue": "Found input variables with inconsistent numbers of samples: [80176, 79678]",
     "output_type": "error",
     "traceback": [
      "\u001b[1;31m---------------------------------------------------------------------------\u001b[0m",
      "\u001b[1;31mValueError\u001b[0m                                Traceback (most recent call last)",
      "Input \u001b[1;32mIn [115]\u001b[0m, in \u001b[0;36m<cell line: 7>\u001b[1;34m()\u001b[0m\n\u001b[0;32m      3\u001b[0m y \u001b[38;5;241m=\u001b[39m pd\u001b[38;5;241m.\u001b[39mget_dummies(joint_df\u001b[38;5;241m.\u001b[39mlabel)\n\u001b[0;32m      4\u001b[0m \u001b[38;5;66;03m# y = joint_df.label\u001b[39;00m\n\u001b[1;32m----> 7\u001b[0m X_train, X_test, y_train, y_test \u001b[38;5;241m=\u001b[39m \u001b[43mtrain_test_split\u001b[49m\u001b[43m(\u001b[49m\n\u001b[0;32m      8\u001b[0m \u001b[43m    \u001b[49m\u001b[43mtrain_set\u001b[49m\u001b[43m,\u001b[49m\u001b[43m \u001b[49m\u001b[43my\u001b[49m\u001b[43m,\u001b[49m\u001b[43m \u001b[49m\u001b[43mtest_size\u001b[49m\u001b[38;5;241;43m=\u001b[39;49m\u001b[38;5;241;43m0.1\u001b[39;49m\u001b[43m,\u001b[49m\u001b[43m \u001b[49m\u001b[43mrandom_state\u001b[49m\u001b[38;5;241;43m=\u001b[39;49m\u001b[38;5;241;43m42\u001b[39;49m\u001b[43m)\u001b[49m\n",
      "File \u001b[1;32m~\\anaconda3\\lib\\site-packages\\sklearn\\model_selection\\_split.py:2417\u001b[0m, in \u001b[0;36mtrain_test_split\u001b[1;34m(test_size, train_size, random_state, shuffle, stratify, *arrays)\u001b[0m\n\u001b[0;32m   2414\u001b[0m \u001b[38;5;28;01mif\u001b[39;00m n_arrays \u001b[38;5;241m==\u001b[39m \u001b[38;5;241m0\u001b[39m:\n\u001b[0;32m   2415\u001b[0m     \u001b[38;5;28;01mraise\u001b[39;00m \u001b[38;5;167;01mValueError\u001b[39;00m(\u001b[38;5;124m\"\u001b[39m\u001b[38;5;124mAt least one array required as input\u001b[39m\u001b[38;5;124m\"\u001b[39m)\n\u001b[1;32m-> 2417\u001b[0m arrays \u001b[38;5;241m=\u001b[39m \u001b[43mindexable\u001b[49m\u001b[43m(\u001b[49m\u001b[38;5;241;43m*\u001b[39;49m\u001b[43marrays\u001b[49m\u001b[43m)\u001b[49m\n\u001b[0;32m   2419\u001b[0m n_samples \u001b[38;5;241m=\u001b[39m _num_samples(arrays[\u001b[38;5;241m0\u001b[39m])\n\u001b[0;32m   2420\u001b[0m n_train, n_test \u001b[38;5;241m=\u001b[39m _validate_shuffle_split(\n\u001b[0;32m   2421\u001b[0m     n_samples, test_size, train_size, default_test_size\u001b[38;5;241m=\u001b[39m\u001b[38;5;241m0.25\u001b[39m\n\u001b[0;32m   2422\u001b[0m )\n",
      "File \u001b[1;32m~\\anaconda3\\lib\\site-packages\\sklearn\\utils\\validation.py:378\u001b[0m, in \u001b[0;36mindexable\u001b[1;34m(*iterables)\u001b[0m\n\u001b[0;32m    359\u001b[0m \u001b[38;5;124;03m\"\"\"Make arrays indexable for cross-validation.\u001b[39;00m\n\u001b[0;32m    360\u001b[0m \n\u001b[0;32m    361\u001b[0m \u001b[38;5;124;03mChecks consistent length, passes through None, and ensures that everything\u001b[39;00m\n\u001b[1;32m   (...)\u001b[0m\n\u001b[0;32m    374\u001b[0m \u001b[38;5;124;03m    sparse matrix, or dataframe) or `None`.\u001b[39;00m\n\u001b[0;32m    375\u001b[0m \u001b[38;5;124;03m\"\"\"\u001b[39;00m\n\u001b[0;32m    377\u001b[0m result \u001b[38;5;241m=\u001b[39m [_make_indexable(X) \u001b[38;5;28;01mfor\u001b[39;00m X \u001b[38;5;129;01min\u001b[39;00m iterables]\n\u001b[1;32m--> 378\u001b[0m \u001b[43mcheck_consistent_length\u001b[49m\u001b[43m(\u001b[49m\u001b[38;5;241;43m*\u001b[39;49m\u001b[43mresult\u001b[49m\u001b[43m)\u001b[49m\n\u001b[0;32m    379\u001b[0m \u001b[38;5;28;01mreturn\u001b[39;00m result\n",
      "File \u001b[1;32m~\\anaconda3\\lib\\site-packages\\sklearn\\utils\\validation.py:332\u001b[0m, in \u001b[0;36mcheck_consistent_length\u001b[1;34m(*arrays)\u001b[0m\n\u001b[0;32m    330\u001b[0m uniques \u001b[38;5;241m=\u001b[39m np\u001b[38;5;241m.\u001b[39munique(lengths)\n\u001b[0;32m    331\u001b[0m \u001b[38;5;28;01mif\u001b[39;00m \u001b[38;5;28mlen\u001b[39m(uniques) \u001b[38;5;241m>\u001b[39m \u001b[38;5;241m1\u001b[39m:\n\u001b[1;32m--> 332\u001b[0m     \u001b[38;5;28;01mraise\u001b[39;00m \u001b[38;5;167;01mValueError\u001b[39;00m(\n\u001b[0;32m    333\u001b[0m         \u001b[38;5;124m\"\u001b[39m\u001b[38;5;124mFound input variables with inconsistent numbers of samples: \u001b[39m\u001b[38;5;132;01m%r\u001b[39;00m\u001b[38;5;124m\"\u001b[39m\n\u001b[0;32m    334\u001b[0m         \u001b[38;5;241m%\u001b[39m [\u001b[38;5;28mint\u001b[39m(l) \u001b[38;5;28;01mfor\u001b[39;00m l \u001b[38;5;129;01min\u001b[39;00m lengths]\n\u001b[0;32m    335\u001b[0m     )\n",
      "\u001b[1;31mValueError\u001b[0m: Found input variables with inconsistent numbers of samples: [80176, 79678]"
     ]
    }
   ],
   "source": [
    "from sklearn.model_selection import train_test_split\n",
    "\n",
    "y = pd.get_dummies(joint_df.label)\n",
    "# y = joint_df.label\n",
    "\n",
    "\n",
    "X_train, X_test, y_train, y_test = train_test_split(\n",
    "    train_set, y, test_size=0.1, random_state=42)"
   ]
  },
  {
   "cell_type": "code",
   "execution_count": 86,
   "id": "6fa8bc74",
   "metadata": {},
   "outputs": [],
   "source": [
    "from sklearn.ensemble import AdaBoostClassifier\n",
    "from sklearn import datasets\n",
    "# Import train_test_split function\n",
    "from sklearn.model_selection import train_test_split\n",
    "#Import scikit-learn metrics module for accuracy calculation\n",
    "from sklearn import metrics"
   ]
  },
  {
   "cell_type": "code",
   "execution_count": 87,
   "id": "65ce85c3",
   "metadata": {},
   "outputs": [],
   "source": [
    "\n",
    "import pandas \n",
    "from keras.models import Sequential\n",
    "from keras.layers import Dense\n",
    "from keras.layers import Dropout\n",
    "from keras.wrappers.scikit_learn import KerasClassifier\n",
    "from keras.utils import np_utils\n",
    "from sklearn.model_selection import cross_val_score\n",
    "from sklearn.model_selection import KFold\n",
    "from sklearn.preprocessing import LabelEncoder\n",
    "from sklearn.pipeline import Pipeline"
   ]
  },
  {
   "cell_type": "code",
   "execution_count": 88,
   "id": "d48690d9",
   "metadata": {},
   "outputs": [],
   "source": [
    "model = Sequential()\n",
    "model.add(Dense(74, input_shape=(29,), activation='relu'))\n",
    "# model.add(Dense(64, activation='tanh'))\n",
    "# model.add(Dense(32, activation='relu'))\n",
    "# model.add(Dropout(0.3))\n",
    "# model.add(Dense(64, activation='relu'))\n",
    "model.add(Dense(64, activation='relu'))\n",
    "model.add(Dense(8, activation='sigmoid')) \n",
    "model.compile(loss='binary_crossentropy', optimizer='adam', metrics=['accuracy'])\n"
   ]
  },
  {
   "cell_type": "code",
   "execution_count": 89,
   "id": "b3b89a6f",
   "metadata": {},
   "outputs": [
    {
     "name": "stdout",
     "output_type": "stream",
     "text": [
      "Epoch 1/20\n",
      "8018/8018 [==============================] - 7s 753us/step - loss: 0.1861 - accuracy: 0.5796\n",
      "Epoch 2/20\n",
      "8018/8018 [==============================] - 6s 750us/step - loss: 0.1787 - accuracy: 0.5867\n",
      "Epoch 3/20\n",
      "8018/8018 [==============================] - 6s 771us/step - loss: 0.1766 - accuracy: 0.5901\n",
      "Epoch 4/20\n",
      "8018/8018 [==============================] - 6s 750us/step - loss: 0.1753 - accuracy: 0.5942\n",
      "Epoch 5/20\n",
      "8018/8018 [==============================] - 6s 773us/step - loss: 0.1747 - accuracy: 0.5963\n",
      "Epoch 6/20\n",
      "8018/8018 [==============================] - 6s 759us/step - loss: 0.1741 - accuracy: 0.5974\n",
      "Epoch 7/20\n",
      "8018/8018 [==============================] - 6s 810us/step - loss: 0.1735 - accuracy: 0.5964\n",
      "Epoch 8/20\n",
      "8018/8018 [==============================] - 7s 855us/step - loss: 0.1732 - accuracy: 0.5981\n",
      "Epoch 9/20\n",
      "8018/8018 [==============================] - 7s 868us/step - loss: 0.1728 - accuracy: 0.5999\n",
      "Epoch 10/20\n",
      "8018/8018 [==============================] - 7s 863us/step - loss: 0.1724 - accuracy: 0.5985\n",
      "Epoch 11/20\n",
      "8018/8018 [==============================] - 7s 866us/step - loss: 0.1723 - accuracy: 0.6006\n",
      "Epoch 12/20\n",
      "8018/8018 [==============================] - 7s 817us/step - loss: 0.1720 - accuracy: 0.5990\n",
      "Epoch 13/20\n",
      "8018/8018 [==============================] - 6s 748us/step - loss: 0.1719 - accuracy: 0.5995\n",
      "Epoch 14/20\n",
      "8018/8018 [==============================] - 6s 748us/step - loss: 0.1717 - accuracy: 0.6002\n",
      "Epoch 15/20\n",
      "8018/8018 [==============================] - 6s 776us/step - loss: 0.1717 - accuracy: 0.6002\n",
      "Epoch 16/20\n",
      "8018/8018 [==============================] - 7s 817us/step - loss: 0.1714 - accuracy: 0.6008\n",
      "Epoch 17/20\n",
      "8018/8018 [==============================] - 6s 760us/step - loss: 0.1712 - accuracy: 0.6014\n",
      "Epoch 18/20\n",
      "8018/8018 [==============================] - 6s 765us/step - loss: 0.1713 - accuracy: 0.6020\n",
      "Epoch 19/20\n",
      "8018/8018 [==============================] - 7s 820us/step - loss: 0.1711 - accuracy: 0.6022\n",
      "Epoch 20/20\n",
      "8018/8018 [==============================] - 6s 784us/step - loss: 0.1710 - accuracy: 0.6028\n"
     ]
    },
    {
     "data": {
      "text/plain": [
       "<keras.callbacks.History at 0x1d50455ea60>"
      ]
     },
     "execution_count": 89,
     "metadata": {},
     "output_type": "execute_result"
    }
   ],
   "source": [
    "model.fit(train_set,y, epochs=20, batch_size=10)"
   ]
  },
  {
   "cell_type": "code",
   "execution_count": 50,
   "id": "edbb63d9",
   "metadata": {},
   "outputs": [
    {
     "name": "stdout",
     "output_type": "stream",
     "text": [
      "0.2974557246196059\n"
     ]
    }
   ],
   "source": [
    "# abc = AdaBoostClassifier(n_estimators=300,\n",
    "#                          learning_rate=1)\n",
    "# # Train Adaboost Classifer\n",
    "# model = abc.fit(X_train, y_train)\n",
    "\n",
    "# #Predict the response for test dataset\n",
    "# y_pred = model.predict(X_test)\n",
    "# print(metrics.accuracy_score(y_test, y_pred))"
   ]
  },
  {
   "cell_type": "code",
   "execution_count": 168,
   "id": "5513e631",
   "metadata": {},
   "outputs": [
    {
     "name": "stdout",
     "output_type": "stream",
     "text": [
      "1074/1074 [==============================] - 1s 530us/step\n"
     ]
    }
   ],
   "source": [
    "a = model.predict(test_df)\n",
    "df_final = pd.DataFrame(a).idxmax(axis=1)\n",
    "df_final.to_csv('Submission/submission_10.csv')"
   ]
  }
 ],
 "metadata": {
  "kernelspec": {
   "display_name": "Python 3 (ipykernel)",
   "language": "python",
   "name": "python3"
  },
  "language_info": {
   "codemirror_mode": {
    "name": "ipython",
    "version": 3
   },
   "file_extension": ".py",
   "mimetype": "text/x-python",
   "name": "python",
   "nbconvert_exporter": "python",
   "pygments_lexer": "ipython3",
   "version": "3.9.12"
  }
 },
 "nbformat": 4,
 "nbformat_minor": 5
}
