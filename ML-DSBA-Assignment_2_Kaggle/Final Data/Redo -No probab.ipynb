{
 "cells": [
  {
   "cell_type": "code",
   "execution_count": 87,
   "id": "1b7ad8fb",
   "metadata": {},
   "outputs": [],
   "source": [
    "import pandas as pd \n",
    "import numpy as np\n",
    "import matplotlib.pyplot as plt, seaborn as sns\n",
    "%matplotlib inline"
   ]
  },
  {
   "cell_type": "code",
   "execution_count": 88,
   "id": "9ee5c1b8",
   "metadata": {},
   "outputs": [],
   "source": [
    "def ohe_mail_type (df):\n",
    "    unique_mail_types = df['mail_type'].apply(lambda x: x.split('/')).explode().unique()\n",
    "    for mt in unique_mail_types:\n",
    "        df[f'mail_type_{mt}'] = df['mail_type'].apply(lambda x: 1 if mt in x else 0)\n",
    "    df.drop('mail_type',axis =1,inplace = True)\n",
    "    return(df)\n",
    "\n",
    "\n",
    "def data_cleaner (df, chars_in_subject = 42 ):\n",
    "    df['org'] = df['org'].fillna('org_undefinded')\n",
    "    df['tld'] = df['tld'].fillna('tld_undefinded')\n",
    "    df['mail_type'] = df['mail_type'].fillna('mail_type_undefinded').apply(lambda x:x.lower())\n",
    "    df['chars_in_subject'] = df['chars_in_subject'].fillna(chars_in_subject)\n",
    "    df.drop([ 'date','tld'],axis= 1, inplace=True)\n",
    "    return (df)"
   ]
  },
  {
   "cell_type": "code",
   "execution_count": 89,
   "id": "fe17023c",
   "metadata": {},
   "outputs": [],
   "source": [
    "df = pd.read_csv('train.csv', )\n",
    "test_df = pd.read_csv('test.csv', )\n",
    "df.drop('Unnamed: 0',axis=1,inplace = True)\n",
    "test_df.drop('Unnamed: 0',axis=1,inplace = True)"
   ]
  },
  {
   "cell_type": "code",
   "execution_count": 90,
   "id": "6ca6a460",
   "metadata": {},
   "outputs": [],
   "source": [
    "df = ohe_mail_type(data_cleaner(df))\n",
    "test_df = ohe_mail_type(data_cleaner(test_df))\n",
    "\n",
    "# df.drop(['date','tld'], axis =1, inplace=True)"
   ]
  },
  {
   "cell_type": "code",
   "execution_count": 91,
   "id": "fce699d2",
   "metadata": {},
   "outputs": [
    {
     "name": "stdout",
     "output_type": "stream",
     "text": [
      "Index(['org', 'ccs', 'bcced', 'images', 'urls', 'salutations', 'designation',\n",
      "       'chars_in_subject', 'chars_in_body', 'label', 'mail_type_multipart',\n",
      "       'mail_type_alternative', 'mail_type_text', 'mail_type_html',\n",
      "       'mail_type_mixed', 'mail_type_related', 'mail_type_plain',\n",
      "       'mail_type_mail_type_undefinded', 'mail_type_html ', 'mail_type_signed',\n",
      "       'mail_type_report', 'mail_type_calendar', 'mail_type_idm'],\n",
      "      dtype='object')\n",
      "Index(['org', 'ccs', 'bcced', 'images', 'urls', 'salutations', 'designation',\n",
      "       'chars_in_subject', 'chars_in_body', 'mail_type_multipart',\n",
      "       'mail_type_alternative', 'mail_type_text', 'mail_type_html',\n",
      "       'mail_type_mixed', 'mail_type_plain', 'mail_type_mail_type_undefinded',\n",
      "       'mail_type_related', 'mail_type_html ', 'mail_type_report',\n",
      "       'mail_type_signed', 'mail_type_idm'],\n",
      "      dtype='object')\n"
     ]
    }
   ],
   "source": [
    "# Only display\n",
    "# df.groupby('label').agg(['median', 'std'])\n",
    "print(df.columns)\n",
    "print(test_df.columns)\n",
    "# print(set(df.columns.to_list())-set(test_df.columns.to_list()))\n",
    "test_df['mail_type_calendar'] = 0"
   ]
  },
  {
   "cell_type": "code",
   "execution_count": 92,
   "id": "b1bdeea6",
   "metadata": {},
   "outputs": [],
   "source": [
    "# right_df = pd.read_csv('final_label_probab_df.csv')\n",
    "# joint_df = df.merge(right_df, on='org', how='left', indicator=False)\n",
    "# test_df = test_df.merge(right_df, on='org', how='left', indicator=False)\n",
    "\n",
    "joint_df = df"
   ]
  },
  {
   "cell_type": "code",
   "execution_count": 93,
   "id": "9b7231c9",
   "metadata": {},
   "outputs": [],
   "source": [
    "joint_df.drop(['org'],axis = 1, inplace=True)\n",
    "test_df.drop(['org'],axis = 1, inplace=True)"
   ]
  },
  {
   "cell_type": "code",
   "execution_count": 22,
   "id": "7bf7b984",
   "metadata": {},
   "outputs": [],
   "source": [
    "from sklearn.preprocessing import StandardScaler\n",
    "scaler = StandardScaler()\n",
    "train_set = scaler.fit_transform(joint_df.drop('label', axis = 1))\n",
    "test_df = scaler.fit_transform(test_df)\n"
   ]
  },
  {
   "cell_type": "code",
   "execution_count": 94,
   "id": "db3eb4c0",
   "metadata": {},
   "outputs": [],
   "source": [
    "from sklearn.model_selection import train_test_split\n",
    "\n",
    "y = pd.get_dummies(joint_df.label)\n",
    "# y = joint_df.label\n",
    "\n",
    "\n",
    "X_train, X_test, y_train, y_test = train_test_split(\n",
    "    train_set, y, test_size=0.1, random_state=42)"
   ]
  },
  {
   "cell_type": "code",
   "execution_count": 95,
   "id": "2c44185d",
   "metadata": {},
   "outputs": [],
   "source": [
    "from sklearn.ensemble import AdaBoostClassifier\n",
    "from sklearn import datasets\n",
    "# Import train_test_split function\n",
    "from sklearn.model_selection import train_test_split\n",
    "#Import scikit-learn metrics module for accuracy calculation\n",
    "from sklearn import metrics"
   ]
  },
  {
   "cell_type": "code",
   "execution_count": 96,
   "id": "65ce85c3",
   "metadata": {},
   "outputs": [
    {
     "ename": "ImportError",
     "evalue": "cannot import name 'MaxPooling2D' from 'keras.models' (C:\\Users\\arind\\anaconda3\\lib\\site-packages\\keras\\models\\__init__.py)",
     "output_type": "error",
     "traceback": [
      "\u001b[1;31m---------------------------------------------------------------------------\u001b[0m",
      "\u001b[1;31mImportError\u001b[0m                               Traceback (most recent call last)",
      "Input \u001b[1;32mIn [96]\u001b[0m, in \u001b[0;36m<cell line: 3>\u001b[1;34m()\u001b[0m\n\u001b[0;32m      1\u001b[0m \u001b[38;5;28;01mimport\u001b[39;00m \u001b[38;5;21;01mpandas\u001b[39;00m \n\u001b[0;32m      2\u001b[0m \u001b[38;5;28;01mfrom\u001b[39;00m \u001b[38;5;21;01mkeras\u001b[39;00m\u001b[38;5;21;01m.\u001b[39;00m\u001b[38;5;21;01mmodels\u001b[39;00m \u001b[38;5;28;01mimport\u001b[39;00m Sequential\n\u001b[1;32m----> 3\u001b[0m \u001b[38;5;28;01mfrom\u001b[39;00m \u001b[38;5;21;01mkeras\u001b[39;00m\u001b[38;5;21;01m.\u001b[39;00m\u001b[38;5;21;01mmodels\u001b[39;00m \u001b[38;5;28;01mimport\u001b[39;00m MaxPooling2D\n\u001b[0;32m      4\u001b[0m \u001b[38;5;28;01mfrom\u001b[39;00m \u001b[38;5;21;01mkeras\u001b[39;00m\u001b[38;5;21;01m.\u001b[39;00m\u001b[38;5;21;01mlayers\u001b[39;00m \u001b[38;5;28;01mimport\u001b[39;00m Dense\n\u001b[0;32m      5\u001b[0m \u001b[38;5;28;01mfrom\u001b[39;00m \u001b[38;5;21;01mkeras\u001b[39;00m\u001b[38;5;21;01m.\u001b[39;00m\u001b[38;5;21;01mlayers\u001b[39;00m \u001b[38;5;28;01mimport\u001b[39;00m Dropout\n",
      "\u001b[1;31mImportError\u001b[0m: cannot import name 'MaxPooling2D' from 'keras.models' (C:\\Users\\arind\\anaconda3\\lib\\site-packages\\keras\\models\\__init__.py)"
     ]
    }
   ],
   "source": [
    "\n",
    "import pandas \n",
    "from keras.models import Sequential\n",
    "from keras.models import MaxPooling2D\n",
    "from keras.layers import Dense\n",
    "from keras.layers import Dropout\n",
    "from keras.wrappers.scikit_learn import KerasClassifier\n",
    "from keras.utils import np_utils\n",
    "from sklearn.model_selection import cross_val_score\n",
    "from sklearn.model_selection import KFold\n",
    "from sklearn.preprocessing import LabelEncoder\n",
    "from sklearn.pipeline import Pipeline"
   ]
  },
  {
   "cell_type": "code",
   "execution_count": 97,
   "id": "d48690d9",
   "metadata": {},
   "outputs": [],
   "source": [
    "model = Sequential()\n",
    "model.add(Dense(29, input_shape=(21,), activation='sigmoid'))\n",
    "# model.add(Dense(64, activation='tanh'))\n",
    "# model.add(Dense(32, activation='relu'))\n",
    "# model.add(Dropout(0.3))\n",
    "# model.add(Dense(64, activation='relu'))\n",
    "model.add(Dense(64, activation='relu'))\n",
    "model.add(Dense(8, activation='sigmoid')) \n",
    "model.compile(loss='binary_crossentropy', optimizer='adam', metrics=['accuracy'])\n"
   ]
  },
  {
   "cell_type": "code",
   "execution_count": 98,
   "id": "b3b89a6f",
   "metadata": {},
   "outputs": [
    {
     "name": "stdout",
     "output_type": "stream",
     "text": [
      "Epoch 1/5\n",
      "8018/8018 [==============================] - 8s 835us/step - loss: 0.2482 - accuracy: 0.4867\n",
      "Epoch 2/5\n",
      "8018/8018 [==============================] - 7s 852us/step - loss: 0.2367 - accuracy: 0.4966\n",
      "Epoch 3/5\n",
      "8018/8018 [==============================] - 7s 844us/step - loss: 0.2342 - accuracy: 0.4991\n",
      "Epoch 4/5\n",
      "8018/8018 [==============================] - 7s 842us/step - loss: 0.2326 - accuracy: 0.5026\n",
      "Epoch 5/5\n",
      "8018/8018 [==============================] - 7s 847us/step - loss: 0.2314 - accuracy: 0.5045\n"
     ]
    },
    {
     "data": {
      "text/plain": [
       "<keras.callbacks.History at 0x1b84883d490>"
      ]
     },
     "execution_count": 98,
     "metadata": {},
     "output_type": "execute_result"
    }
   ],
   "source": [
    "model.fit(train_set,y, epochs=5, batch_size=10)"
   ]
  },
  {
   "cell_type": "code",
   "execution_count": 99,
   "id": "932d00ce",
   "metadata": {},
   "outputs": [],
   "source": [
    "from sklearn.tree import DecisionTreeClassifier\n",
    "from sklearn.metrics import multilabel_confusion_matrix, accuracy_score"
   ]
  },
  {
   "cell_type": "code",
   "execution_count": null,
   "id": "8ccb15c8",
   "metadata": {},
   "outputs": [],
   "source": []
  },
  {
   "cell_type": "code",
   "execution_count": 100,
   "id": "e851993e",
   "metadata": {},
   "outputs": [
    {
     "name": "stdout",
     "output_type": "stream",
     "text": [
      "0.40384135694686957\n"
     ]
    },
    {
     "data": {
      "text/plain": [
       "array([[[5557,  588],\n",
       "        [1129,  744]],\n",
       "\n",
       "       [[3023, 1320],\n",
       "        [2089, 1586]],\n",
       "\n",
       "       [[6976,  195],\n",
       "        [ 686,  161]],\n",
       "\n",
       "       [[6528,  420],\n",
       "        [ 498,  572]],\n",
       "\n",
       "       [[7996,    0],\n",
       "        [  22,    0]],\n",
       "\n",
       "       [[8008,    1],\n",
       "        [   9,    0]],\n",
       "\n",
       "       [[8001,    0],\n",
       "        [  17,    0]],\n",
       "\n",
       "       [[7360,  153],\n",
       "        [ 330,  175]]], dtype=int64)"
      ]
     },
     "execution_count": 100,
     "metadata": {},
     "output_type": "execute_result"
    }
   ],
   "source": [
    "dt = DecisionTreeClassifier(max_depth=100,min_samples_split=70)\n",
    "dt.fit(X_train, y_train)\n",
    "y_pred = dt.predict(X_test)\n",
    "\n",
    "print(accuracy_score(y_test,y_pred))\n",
    "multilabel_confusion_matrix(y_test,y_pred)"
   ]
  },
  {
   "cell_type": "code",
   "execution_count": 77,
   "id": "a8534ade",
   "metadata": {},
   "outputs": [
    {
     "data": {
      "text/plain": [
       "0.40346719880269394"
      ]
     },
     "execution_count": 77,
     "metadata": {},
     "output_type": "execute_result"
    }
   ],
   "source": [
    "\n",
    "# eval"
   ]
  },
  {
   "cell_type": "code",
   "execution_count": 51,
   "id": "6ab7e8ba",
   "metadata": {},
   "outputs": [],
   "source": []
  },
  {
   "cell_type": "code",
   "execution_count": 168,
   "id": "5513e631",
   "metadata": {},
   "outputs": [
    {
     "name": "stdout",
     "output_type": "stream",
     "text": [
      "1074/1074 [==============================] - 1s 530us/step\n"
     ]
    }
   ],
   "source": [
    "# a = model.predict(test_df)\n",
    "# df_final = pd.DataFrame(a).idxmax(axis=1)\n",
    "# df_final.to_csv('Submission/submission_10.csv')"
   ]
  }
 ],
 "metadata": {
  "kernelspec": {
   "display_name": "Python 3 (ipykernel)",
   "language": "python",
   "name": "python3"
  },
  "language_info": {
   "codemirror_mode": {
    "name": "ipython",
    "version": 3
   },
   "file_extension": ".py",
   "mimetype": "text/x-python",
   "name": "python",
   "nbconvert_exporter": "python",
   "pygments_lexer": "ipython3",
   "version": "3.9.12"
  }
 },
 "nbformat": 4,
 "nbformat_minor": 5
}
