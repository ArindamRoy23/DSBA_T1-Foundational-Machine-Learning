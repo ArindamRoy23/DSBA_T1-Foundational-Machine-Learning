{
 "cells": [
  {
   "cell_type": "code",
   "execution_count": 1,
   "id": "49b4b2a3",
   "metadata": {},
   "outputs": [],
   "source": [
    "import numpy as np \n",
    "import pandas as pd \n",
    "from sklearn.model_selection import train_test_split"
   ]
  },
  {
   "cell_type": "code",
   "execution_count": 8,
   "id": "5e6ac053",
   "metadata": {},
   "outputs": [],
   "source": [
    "train_df = pd.read_csv(\"train_final_scaled.csv\")\n",
    "test_df = pd.read_csv(\"test_final_scaled.csv\")\n",
    "train_df.drop('Unnamed: 0',inplace=True,axis = 1)\n",
    "test_df.drop('Unnamed: 0',inplace=True,axis = 1)"
   ]
  },
  {
   "cell_type": "code",
   "execution_count": 9,
   "id": "6bf823a1",
   "metadata": {},
   "outputs": [],
   "source": [
    "train_df.drop('org',axis = 1, inplace=True)\n",
    "test_df.drop('org', axis = 1, inplace=True)"
   ]
  },
  {
   "cell_type": "code",
   "execution_count": 10,
   "id": "626ea884",
   "metadata": {},
   "outputs": [],
   "source": [
    "y = pd.get_dummies(train_df.label)\n",
    "X_train, X_test, y_train, y_test = train_test_split(\n",
    "    train_df.drop('label',axis=1), y, test_size=0.1, random_state=42)"
   ]
  },
  {
   "cell_type": "code",
   "execution_count": 11,
   "id": "fd1edc89",
   "metadata": {},
   "outputs": [],
   "source": [
    "\n",
    "import pandas \n",
    "from keras.models import Sequential\n",
    "from keras.layers import Dense\n",
    "from keras.layers import Dropout\n",
    "from keras.wrappers.scikit_learn import KerasClassifier\n",
    "from keras.utils import np_utils\n",
    "from sklearn.model_selection import cross_val_score\n",
    "from sklearn.model_selection import KFold\n",
    "from sklearn.preprocessing import LabelEncoder\n",
    "from sklearn.pipeline import Pipeline"
   ]
  },
  {
   "cell_type": "code",
   "execution_count": 18,
   "id": "c763c181",
   "metadata": {},
   "outputs": [],
   "source": [
    "model = Sequential()\n",
    "model.add(Dense(74, input_shape=(73,), activation='relu'))\n",
    "# model.add(Dense(64, activation='tanh'))\n",
    "# model.add(Dense(32, activation='relu'))\n",
    "# model.add(Dropout(0.3))\n",
    "model.add(Dense(32, activation='relu'))\n",
    "model.add(Dense(8, activation='sigmoid'))"
   ]
  },
  {
   "cell_type": "code",
   "execution_count": 19,
   "id": "9e64a1e6",
   "metadata": {},
   "outputs": [],
   "source": [
    "model.compile(loss='binary_crossentropy', optimizer='adam', metrics=['accuracy'])\n"
   ]
  },
  {
   "cell_type": "code",
   "execution_count": 21,
   "id": "e25cab64",
   "metadata": {},
   "outputs": [
    {
     "name": "stdout",
     "output_type": "stream",
     "text": [
      "Epoch 1/5\n",
      "8018/8018 [==============================] - 12s 1ms/step - loss: 0.2193 - accuracy: 0.5458\n",
      "Epoch 2/5\n",
      "8018/8018 [==============================] - 11s 1ms/step - loss: 0.1915 - accuracy: 0.5779\n",
      "Epoch 3/5\n",
      "8018/8018 [==============================] - 11s 1ms/step - loss: 0.1870 - accuracy: 0.5809\n",
      "Epoch 4/5\n",
      "8018/8018 [==============================] - 11s 1ms/step - loss: 0.1849 - accuracy: 0.5842\n",
      "Epoch 5/5\n",
      "8018/8018 [==============================] - 11s 1ms/step - loss: 0.1829 - accuracy: 0.5882\n"
     ]
    },
    {
     "data": {
      "text/plain": [
       "<keras.callbacks.History at 0x1610494bbb0>"
      ]
     },
     "execution_count": 21,
     "metadata": {},
     "output_type": "execute_result"
    }
   ],
   "source": [
    "model.fit(train_df.drop('label',axis=1), y, epochs=5, batch_size=10)"
   ]
  },
  {
   "cell_type": "code",
   "execution_count": 91,
   "id": "243af263",
   "metadata": {},
   "outputs": [],
   "source": [
    "_,accuracy = model.evaluate(X_train,y_train, verbose=0)"
   ]
  },
  {
   "cell_type": "code",
   "execution_count": 92,
   "id": "f0beba6f",
   "metadata": {},
   "outputs": [
    {
     "data": {
      "text/plain": [
       "0.5618937015533447"
      ]
     },
     "execution_count": 92,
     "metadata": {},
     "output_type": "execute_result"
    }
   ],
   "source": [
    "accuracy"
   ]
  },
  {
   "cell_type": "code",
   "execution_count": 24,
   "id": "966c4e27",
   "metadata": {},
   "outputs": [
    {
     "name": "stdout",
     "output_type": "stream",
     "text": [
      "1074/1074 [==============================] - 1s 1ms/step\n"
     ]
    }
   ],
   "source": [
    "a = model.predict(test_df)"
   ]
  },
  {
   "cell_type": "code",
   "execution_count": 25,
   "id": "3273beed",
   "metadata": {},
   "outputs": [],
   "source": [
    "df_final = pd.DataFrame(a).idxmax(axis=1)\n",
    "# df_final.shape\n",
    "# df_final['ID'] = ind\n",
    "\n",
    "# df_final.head()\n",
    "df_final.to_csv('Submission/submission_4.csv')"
   ]
  }
 ],
 "metadata": {
  "kernelspec": {
   "display_name": "Python 3 (ipykernel)",
   "language": "python",
   "name": "python3"
  },
  "language_info": {
   "codemirror_mode": {
    "name": "ipython",
    "version": 3
   },
   "file_extension": ".py",
   "mimetype": "text/x-python",
   "name": "python",
   "nbconvert_exporter": "python",
   "pygments_lexer": "ipython3",
   "version": "3.9.12"
  }
 },
 "nbformat": 4,
 "nbformat_minor": 5
}
