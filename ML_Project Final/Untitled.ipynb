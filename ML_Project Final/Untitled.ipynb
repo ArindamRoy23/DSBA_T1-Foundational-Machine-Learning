{
 "cells": [
  {
   "cell_type": "code",
   "execution_count": 1,
   "id": "42198c7a",
   "metadata": {},
   "outputs": [],
   "source": [
    "import numpy as np"
   ]
  },
  {
   "cell_type": "code",
   "execution_count": 2,
   "id": "008f2dd1",
   "metadata": {},
   "outputs": [],
   "source": [
    "import pandas as pd"
   ]
  },
  {
   "cell_type": "code",
   "execution_count": 4,
   "id": "3a02d78f",
   "metadata": {},
   "outputs": [],
   "source": [
    "df = pd.read_csv(r\"C:\\Users\\arind\\OneDrive\\Desktop\\Classes\\T1 Foundational Machine Learning\\ML_Project Final\\dataset.csv\")"
   ]
  },
  {
   "cell_type": "code",
   "execution_count": 10,
   "id": "21fc250c",
   "metadata": {},
   "outputs": [],
   "source": [
    "df_nullcount = pd.DataFrame()\n",
    "a = df.isna().sum()\n",
    "df_nullcount['NCount'] = a\n"
   ]
  },
  {
   "cell_type": "code",
   "execution_count": 13,
   "id": "ced935c9",
   "metadata": {},
   "outputs": [],
   "source": [
    "df_nullcount.to_csv('nullcount.csv')"
   ]
  },
  {
   "cell_type": "code",
   "execution_count": 15,
   "id": "58fed405",
   "metadata": {},
   "outputs": [],
   "source": [
    "df.dtypes.to_csv('dtypes.csv')"
   ]
  }
 ],
 "metadata": {
  "kernelspec": {
   "display_name": "Python 3 (ipykernel)",
   "language": "python",
   "name": "python3"
  },
  "language_info": {
   "codemirror_mode": {
    "name": "ipython",
    "version": 3
   },
   "file_extension": ".py",
   "mimetype": "text/x-python",
   "name": "python",
   "nbconvert_exporter": "python",
   "pygments_lexer": "ipython3",
   "version": "3.9.12"
  }
 },
 "nbformat": 4,
 "nbformat_minor": 5
}
